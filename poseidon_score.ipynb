{
 "cells": [
  {
   "cell_type": "code",
   "execution_count": 50,
   "metadata": {
    "ExecuteTime": {
     "end_time": "2018-04-22T05:58:14.808178Z",
     "start_time": "2018-04-22T05:58:14.733834Z"
    },
    "run_control": {
     "frozen": false,
     "read_only": false
    }
   },
   "outputs": [
    {
     "name": "stdout",
     "output_type": "stream",
     "text": [
      "Populating the interactive namespace from numpy and matplotlib\n",
      "The autoreload extension is already loaded. To reload it, use:\n",
      "  %reload_ext autoreload\n"
     ]
    }
   ],
   "source": [
    "% pylab inline\n",
    "\n",
    "%load_ext autoreload\n",
    "%autoreload 2\n",
    "import os\n",
    "import time\n",
    "import csv\n",
    "\n",
    "import requests\n",
    "import bs4\n",
    "from bs4 import BeautifulSoup\n",
    "import pandas as pd\n",
    "from tqdm import tqdm\n",
    "\n",
    "import indeed_scraping\n",
    "\n",
    "%config InlineBackend.figure_format = 'retina'\n",
    "\n",
    "DATA_DIR = os.path.join(os.getcwd(), 'data')\n",
    "try:\n",
    "    os.makedirs(DATA_DIR)\n",
    "except FileExistsError:\n",
    "    pass"
   ]
  },
  {
   "cell_type": "markdown",
   "metadata": {},
   "source": [
    "### Metropolital areas"
   ]
  },
  {
   "cell_type": "code",
   "execution_count": 2,
   "metadata": {
    "ExecuteTime": {
     "end_time": "2018-04-22T05:48:58.562668Z",
     "start_time": "2018-04-22T05:48:58.244509Z"
    }
   },
   "outputs": [],
   "source": [
    "df_us_cities = pd.read_csv(os.path.join(DATA_DIR, 'uscitiesv1.4.csv'))\n",
    "df_us_cities['county'] = df_us_cities['county_name']"
   ]
  },
  {
   "cell_type": "code",
   "execution_count": 3,
   "metadata": {
    "ExecuteTime": {
     "end_time": "2018-04-22T05:48:58.638926Z",
     "start_time": "2018-04-22T05:48:58.565646Z"
    }
   },
   "outputs": [],
   "source": [
    "df_us_cities = df_us_cities[['state_id', 'city', 'county', 'population_proper']].fillna(0)"
   ]
  },
  {
   "cell_type": "code",
   "execution_count": 4,
   "metadata": {
    "ExecuteTime": {
     "end_time": "2018-04-22T05:48:58.705129Z",
     "start_time": "2018-04-22T05:48:58.642170Z"
    }
   },
   "outputs": [
    {
     "data": {
      "text/html": [
       "<div>\n",
       "<style scoped>\n",
       "    .dataframe tbody tr th:only-of-type {\n",
       "        vertical-align: middle;\n",
       "    }\n",
       "\n",
       "    .dataframe tbody tr th {\n",
       "        vertical-align: top;\n",
       "    }\n",
       "\n",
       "    .dataframe thead th {\n",
       "        text-align: right;\n",
       "    }\n",
       "</style>\n",
       "<table border=\"1\" class=\"dataframe\">\n",
       "  <thead>\n",
       "    <tr style=\"text-align: right;\">\n",
       "      <th></th>\n",
       "      <th>state_id</th>\n",
       "      <th>city</th>\n",
       "      <th>county</th>\n",
       "      <th>population_proper</th>\n",
       "    </tr>\n",
       "  </thead>\n",
       "  <tbody>\n",
       "    <tr>\n",
       "      <th>0</th>\n",
       "      <td>WA</td>\n",
       "      <td>Prairie Ridge</td>\n",
       "      <td>Pierce</td>\n",
       "      <td>0.0</td>\n",
       "    </tr>\n",
       "    <tr>\n",
       "      <th>1</th>\n",
       "      <td>WA</td>\n",
       "      <td>Edison</td>\n",
       "      <td>Skagit</td>\n",
       "      <td>0.0</td>\n",
       "    </tr>\n",
       "    <tr>\n",
       "      <th>2</th>\n",
       "      <td>WA</td>\n",
       "      <td>Packwood</td>\n",
       "      <td>Lewis</td>\n",
       "      <td>0.0</td>\n",
       "    </tr>\n",
       "    <tr>\n",
       "      <th>3</th>\n",
       "      <td>WA</td>\n",
       "      <td>Wautauga Beach</td>\n",
       "      <td>Kitsap</td>\n",
       "      <td>0.0</td>\n",
       "    </tr>\n",
       "    <tr>\n",
       "      <th>4</th>\n",
       "      <td>WA</td>\n",
       "      <td>Harper</td>\n",
       "      <td>Kitsap</td>\n",
       "      <td>0.0</td>\n",
       "    </tr>\n",
       "  </tbody>\n",
       "</table>\n",
       "</div>"
      ],
      "text/plain": [
       "  state_id            city  county  population_proper\n",
       "0       WA   Prairie Ridge  Pierce                0.0\n",
       "1       WA          Edison  Skagit                0.0\n",
       "2       WA        Packwood   Lewis                0.0\n",
       "3       WA  Wautauga Beach  Kitsap                0.0\n",
       "4       WA          Harper  Kitsap                0.0"
      ]
     },
     "execution_count": 4,
     "metadata": {},
     "output_type": "execute_result"
    }
   ],
   "source": [
    "df_us_cities.head()"
   ]
  },
  {
   "cell_type": "code",
   "execution_count": 5,
   "metadata": {
    "ExecuteTime": {
     "end_time": "2018-04-22T05:48:58.801919Z",
     "start_time": "2018-04-22T05:48:58.708347Z"
    }
   },
   "outputs": [],
   "source": [
    "df_cbsa = pd.read_csv(os.path.join(DATA_DIR, 'cbsa-est2017-alldata.csv'), encoding = \"latin1\")"
   ]
  },
  {
   "cell_type": "code",
   "execution_count": 6,
   "metadata": {
    "ExecuteTime": {
     "end_time": "2018-04-22T05:48:58.846704Z",
     "start_time": "2018-04-22T05:48:58.804211Z"
    }
   },
   "outputs": [
    {
     "data": {
      "text/plain": [
       "Index(['CBSA', 'NAME', 'STCOU'], dtype='object')"
      ]
     },
     "execution_count": 6,
     "metadata": {},
     "output_type": "execute_result"
    }
   ],
   "source": [
    "df_cbsa[['CBSA', 'NAME', 'STCOU']].columns"
   ]
  },
  {
   "cell_type": "code",
   "execution_count": 7,
   "metadata": {
    "ExecuteTime": {
     "end_time": "2018-04-22T05:48:58.894095Z",
     "start_time": "2018-04-22T05:48:58.850707Z"
    }
   },
   "outputs": [
    {
     "name": "stdout",
     "output_type": "stream",
     "text": [
      "Unique number of CBSA: 933\n"
     ]
    }
   ],
   "source": [
    "print('Unique number of CBSA:', len(df_cbsa['CBSA'].unique()))"
   ]
  },
  {
   "cell_type": "code",
   "execution_count": 8,
   "metadata": {
    "ExecuteTime": {
     "end_time": "2018-04-22T05:48:59.004880Z",
     "start_time": "2018-04-22T05:48:58.897235Z"
    }
   },
   "outputs": [],
   "source": [
    "df_cbsa = df_cbsa[['CBSA', 'NAME', 'STCOU']]\n",
    "df_cbsa['county'] = df_cbsa['NAME'].apply(lambda x: x.split(', ')[0].replace(' County', ''))\n",
    "df_cbsa['state_id'] = df_cbsa['NAME'].apply(lambda x: x.split(', ')[1])"
   ]
  },
  {
   "cell_type": "code",
   "execution_count": 9,
   "metadata": {
    "ExecuteTime": {
     "end_time": "2018-04-22T05:48:59.069486Z",
     "start_time": "2018-04-22T05:48:59.007202Z"
    }
   },
   "outputs": [
    {
     "data": {
      "text/html": [
       "<div>\n",
       "<style scoped>\n",
       "    .dataframe tbody tr th:only-of-type {\n",
       "        vertical-align: middle;\n",
       "    }\n",
       "\n",
       "    .dataframe tbody tr th {\n",
       "        vertical-align: top;\n",
       "    }\n",
       "\n",
       "    .dataframe thead th {\n",
       "        text-align: right;\n",
       "    }\n",
       "</style>\n",
       "<table border=\"1\" class=\"dataframe\">\n",
       "  <thead>\n",
       "    <tr style=\"text-align: right;\">\n",
       "      <th></th>\n",
       "      <th>CBSA</th>\n",
       "      <th>NAME</th>\n",
       "      <th>STCOU</th>\n",
       "      <th>county</th>\n",
       "      <th>state_id</th>\n",
       "    </tr>\n",
       "  </thead>\n",
       "  <tbody>\n",
       "    <tr>\n",
       "      <th>0</th>\n",
       "      <td>24940</td>\n",
       "      <td>Abbeville County, SC</td>\n",
       "      <td>45001.0</td>\n",
       "      <td>Abbeville</td>\n",
       "      <td>SC</td>\n",
       "    </tr>\n",
       "    <tr>\n",
       "      <th>1</th>\n",
       "      <td>10100</td>\n",
       "      <td>Aberdeen, SD</td>\n",
       "      <td>NaN</td>\n",
       "      <td>Aberdeen</td>\n",
       "      <td>SD</td>\n",
       "    </tr>\n",
       "    <tr>\n",
       "      <th>2</th>\n",
       "      <td>10140</td>\n",
       "      <td>Aberdeen, WA</td>\n",
       "      <td>NaN</td>\n",
       "      <td>Aberdeen</td>\n",
       "      <td>WA</td>\n",
       "    </tr>\n",
       "    <tr>\n",
       "      <th>3</th>\n",
       "      <td>10180</td>\n",
       "      <td>Abilene, TX</td>\n",
       "      <td>NaN</td>\n",
       "      <td>Abilene</td>\n",
       "      <td>TX</td>\n",
       "    </tr>\n",
       "    <tr>\n",
       "      <th>4</th>\n",
       "      <td>29180</td>\n",
       "      <td>Acadia Parish, LA</td>\n",
       "      <td>22001.0</td>\n",
       "      <td>Acadia Parish</td>\n",
       "      <td>LA</td>\n",
       "    </tr>\n",
       "  </tbody>\n",
       "</table>\n",
       "</div>"
      ],
      "text/plain": [
       "    CBSA                  NAME    STCOU         county state_id\n",
       "0  24940  Abbeville County, SC  45001.0      Abbeville       SC\n",
       "1  10100          Aberdeen, SD      NaN       Aberdeen       SD\n",
       "2  10140          Aberdeen, WA      NaN       Aberdeen       WA\n",
       "3  10180           Abilene, TX      NaN        Abilene       TX\n",
       "4  29180     Acadia Parish, LA  22001.0  Acadia Parish       LA"
      ]
     },
     "execution_count": 9,
     "metadata": {},
     "output_type": "execute_result"
    }
   ],
   "source": [
    "df_cbsa.head()"
   ]
  },
  {
   "cell_type": "code",
   "execution_count": 10,
   "metadata": {
    "ExecuteTime": {
     "end_time": "2018-04-22T05:48:59.161308Z",
     "start_time": "2018-04-22T05:48:59.076607Z"
    }
   },
   "outputs": [],
   "source": [
    "df_areas = df_cbsa.join(df_us_cities.set_index(['county', 'state_id']), on=['county', 'state_id'], how='inner')\n",
    "df_areas = df_areas[['CBSA', 'county', 'state_id', 'city']]"
   ]
  },
  {
   "cell_type": "code",
   "execution_count": 11,
   "metadata": {
    "ExecuteTime": {
     "end_time": "2018-04-22T05:48:59.225648Z",
     "start_time": "2018-04-22T05:48:59.163708Z"
    }
   },
   "outputs": [
    {
     "data": {
      "text/html": [
       "<div>\n",
       "<style scoped>\n",
       "    .dataframe tbody tr th:only-of-type {\n",
       "        vertical-align: middle;\n",
       "    }\n",
       "\n",
       "    .dataframe tbody tr th {\n",
       "        vertical-align: top;\n",
       "    }\n",
       "\n",
       "    .dataframe thead th {\n",
       "        text-align: right;\n",
       "    }\n",
       "</style>\n",
       "<table border=\"1\" class=\"dataframe\">\n",
       "  <thead>\n",
       "    <tr style=\"text-align: right;\">\n",
       "      <th></th>\n",
       "      <th>CBSA</th>\n",
       "      <th>county</th>\n",
       "      <th>state_id</th>\n",
       "      <th>city</th>\n",
       "    </tr>\n",
       "  </thead>\n",
       "  <tbody>\n",
       "    <tr>\n",
       "      <th>0</th>\n",
       "      <td>24940</td>\n",
       "      <td>Abbeville</td>\n",
       "      <td>SC</td>\n",
       "      <td>Antreville</td>\n",
       "    </tr>\n",
       "    <tr>\n",
       "      <th>0</th>\n",
       "      <td>24940</td>\n",
       "      <td>Abbeville</td>\n",
       "      <td>SC</td>\n",
       "      <td>Donalds</td>\n",
       "    </tr>\n",
       "    <tr>\n",
       "      <th>0</th>\n",
       "      <td>24940</td>\n",
       "      <td>Abbeville</td>\n",
       "      <td>SC</td>\n",
       "      <td>Calhoun Falls</td>\n",
       "    </tr>\n",
       "    <tr>\n",
       "      <th>0</th>\n",
       "      <td>24940</td>\n",
       "      <td>Abbeville</td>\n",
       "      <td>SC</td>\n",
       "      <td>Lowndesville</td>\n",
       "    </tr>\n",
       "    <tr>\n",
       "      <th>0</th>\n",
       "      <td>24940</td>\n",
       "      <td>Abbeville</td>\n",
       "      <td>SC</td>\n",
       "      <td>Lake Secession</td>\n",
       "    </tr>\n",
       "  </tbody>\n",
       "</table>\n",
       "</div>"
      ],
      "text/plain": [
       "    CBSA     county state_id            city\n",
       "0  24940  Abbeville       SC      Antreville\n",
       "0  24940  Abbeville       SC         Donalds\n",
       "0  24940  Abbeville       SC   Calhoun Falls\n",
       "0  24940  Abbeville       SC    Lowndesville\n",
       "0  24940  Abbeville       SC  Lake Secession"
      ]
     },
     "execution_count": 11,
     "metadata": {},
     "output_type": "execute_result"
    }
   ],
   "source": [
    "df_areas.head()"
   ]
  },
  {
   "cell_type": "code",
   "execution_count": 12,
   "metadata": {
    "ExecuteTime": {
     "end_time": "2018-04-22T05:48:59.274863Z",
     "start_time": "2018-04-22T05:48:59.228314Z"
    }
   },
   "outputs": [],
   "source": [
    "df_areas = df_areas.reset_index(drop=True)"
   ]
  },
  {
   "cell_type": "markdown",
   "metadata": {},
   "source": [
    "### Get demand"
   ]
  },
  {
   "cell_type": "code",
   "execution_count": 13,
   "metadata": {
    "ExecuteTime": {
     "end_time": "2018-04-22T05:48:59.463821Z",
     "start_time": "2018-04-22T05:48:59.278924Z"
    }
   },
   "outputs": [],
   "source": [
    "df_demand = pd.read_csv(os.path.join(DATA_DIR, 'cyber+security_all_partitions.tsv'), sep='\\t')\n",
    "df_demand = df_demand[['company_name', 'location', 'partition', 'title']]\n",
    "df_demand['location'] = df_demand['location'].str.strip()"
   ]
  },
  {
   "cell_type": "code",
   "execution_count": 14,
   "metadata": {
    "ExecuteTime": {
     "end_time": "2018-04-22T05:48:59.514997Z",
     "start_time": "2018-04-22T05:48:59.469484Z"
    }
   },
   "outputs": [
    {
     "data": {
      "text/plain": [
       "23206"
      ]
     },
     "execution_count": 14,
     "metadata": {},
     "output_type": "execute_result"
    }
   ],
   "source": [
    "len(df_demand)"
   ]
  },
  {
   "cell_type": "code",
   "execution_count": 15,
   "metadata": {
    "ExecuteTime": {
     "end_time": "2018-04-22T05:48:59.668610Z",
     "start_time": "2018-04-22T05:48:59.517988Z"
    }
   },
   "outputs": [],
   "source": [
    "df_demand = df_demand[df_demand['location'].apply(lambda x: ', ' in x)]\n",
    "df_demand['city'] = df_demand['location'].apply(lambda x: x.split(', ')[0])\n",
    "df_demand['state_id'] = df_demand['location'].apply(lambda x: x.split(', ')[1])"
   ]
  },
  {
   "cell_type": "code",
   "execution_count": 16,
   "metadata": {
    "ExecuteTime": {
     "end_time": "2018-04-22T05:48:59.720832Z",
     "start_time": "2018-04-22T05:48:59.671333Z"
    }
   },
   "outputs": [
    {
     "data": {
      "text/html": [
       "<div>\n",
       "<style scoped>\n",
       "    .dataframe tbody tr th:only-of-type {\n",
       "        vertical-align: middle;\n",
       "    }\n",
       "\n",
       "    .dataframe tbody tr th {\n",
       "        vertical-align: top;\n",
       "    }\n",
       "\n",
       "    .dataframe thead th {\n",
       "        text-align: right;\n",
       "    }\n",
       "</style>\n",
       "<table border=\"1\" class=\"dataframe\">\n",
       "  <thead>\n",
       "    <tr style=\"text-align: right;\">\n",
       "      <th></th>\n",
       "      <th>company_name</th>\n",
       "      <th>location</th>\n",
       "      <th>partition</th>\n",
       "      <th>title</th>\n",
       "      <th>city</th>\n",
       "      <th>state_id</th>\n",
       "    </tr>\n",
       "  </thead>\n",
       "  <tbody>\n",
       "    <tr>\n",
       "      <th>0</th>\n",
       "      <td>Jackson-National-Life-Insurance-Company</td>\n",
       "      <td>Lansing, MI</td>\n",
       "      <td>cyber+security-senior_level-$120,000</td>\n",
       "      <td>AVP, Cybersecurity Response</td>\n",
       "      <td>Lansing</td>\n",
       "      <td>MI</td>\n",
       "    </tr>\n",
       "    <tr>\n",
       "      <th>1</th>\n",
       "      <td>Occidental-Petroleum</td>\n",
       "      <td>Houston, TX</td>\n",
       "      <td>cyber+security-senior_level-$120,000</td>\n",
       "      <td>IT Cyber Security Advisor</td>\n",
       "      <td>Houston</td>\n",
       "      <td>TX</td>\n",
       "    </tr>\n",
       "    <tr>\n",
       "      <th>2</th>\n",
       "      <td>\\n    Ingersoll Consulting Inc.</td>\n",
       "      <td>Washington, DC</td>\n",
       "      <td>cyber+security-senior_level-$120,000</td>\n",
       "      <td>Cyber Security Engineer - Lead</td>\n",
       "      <td>Washington</td>\n",
       "      <td>DC</td>\n",
       "    </tr>\n",
       "    <tr>\n",
       "      <th>3</th>\n",
       "      <td>Saab</td>\n",
       "      <td>Syracuse, NY</td>\n",
       "      <td>cyber+security-senior_level-$120,000</td>\n",
       "      <td>Senior Staff Systems Engineer; Saab Defense an...</td>\n",
       "      <td>Syracuse</td>\n",
       "      <td>NY</td>\n",
       "    </tr>\n",
       "    <tr>\n",
       "      <th>4</th>\n",
       "      <td>\\n    Executive Office of Energy and Environme...</td>\n",
       "      <td>Boston, MA</td>\n",
       "      <td>cyber+security-senior_level-$120,000</td>\n",
       "      <td>Chief Information Security Officer</td>\n",
       "      <td>Boston</td>\n",
       "      <td>MA</td>\n",
       "    </tr>\n",
       "  </tbody>\n",
       "</table>\n",
       "</div>"
      ],
      "text/plain": [
       "                                        company_name        location  \\\n",
       "0            Jackson-National-Life-Insurance-Company     Lansing, MI   \n",
       "1                               Occidental-Petroleum     Houston, TX   \n",
       "2                    \\n    Ingersoll Consulting Inc.  Washington, DC   \n",
       "3                                               Saab    Syracuse, NY   \n",
       "4  \\n    Executive Office of Energy and Environme...      Boston, MA   \n",
       "\n",
       "                              partition  \\\n",
       "0  cyber+security-senior_level-$120,000   \n",
       "1  cyber+security-senior_level-$120,000   \n",
       "2  cyber+security-senior_level-$120,000   \n",
       "3  cyber+security-senior_level-$120,000   \n",
       "4  cyber+security-senior_level-$120,000   \n",
       "\n",
       "                                               title        city state_id  \n",
       "0                        AVP, Cybersecurity Response     Lansing       MI  \n",
       "1                          IT Cyber Security Advisor     Houston       TX  \n",
       "2                     Cyber Security Engineer - Lead  Washington       DC  \n",
       "3  Senior Staff Systems Engineer; Saab Defense an...    Syracuse       NY  \n",
       "4                 Chief Information Security Officer      Boston       MA  "
      ]
     },
     "execution_count": 16,
     "metadata": {},
     "output_type": "execute_result"
    }
   ],
   "source": [
    "df_demand.head()"
   ]
  },
  {
   "cell_type": "code",
   "execution_count": 17,
   "metadata": {
    "ExecuteTime": {
     "end_time": "2018-04-22T05:48:59.810765Z",
     "start_time": "2018-04-22T05:48:59.723429Z"
    }
   },
   "outputs": [],
   "source": [
    "df_demand_area = (\n",
    "    df_areas\n",
    "    .reset_index(drop=True)\n",
    "    .join(\n",
    "        df_demand.set_index(['city', 'state_id']), \n",
    "        on=['city', 'state_id'], \n",
    "        how='right')\n",
    "    .reset_index(drop=True)\n",
    ")"
   ]
  },
  {
   "cell_type": "code",
   "execution_count": 18,
   "metadata": {
    "ExecuteTime": {
     "end_time": "2018-04-22T05:48:59.873034Z",
     "start_time": "2018-04-22T05:48:59.812941Z"
    }
   },
   "outputs": [
    {
     "data": {
      "text/html": [
       "<div>\n",
       "<style scoped>\n",
       "    .dataframe tbody tr th:only-of-type {\n",
       "        vertical-align: middle;\n",
       "    }\n",
       "\n",
       "    .dataframe tbody tr th {\n",
       "        vertical-align: top;\n",
       "    }\n",
       "\n",
       "    .dataframe thead th {\n",
       "        text-align: right;\n",
       "    }\n",
       "</style>\n",
       "<table border=\"1\" class=\"dataframe\">\n",
       "  <thead>\n",
       "    <tr style=\"text-align: right;\">\n",
       "      <th></th>\n",
       "      <th>CBSA</th>\n",
       "      <th>county</th>\n",
       "      <th>state_id</th>\n",
       "      <th>city</th>\n",
       "      <th>company_name</th>\n",
       "      <th>location</th>\n",
       "      <th>partition</th>\n",
       "      <th>title</th>\n",
       "    </tr>\n",
       "  </thead>\n",
       "  <tbody>\n",
       "    <tr>\n",
       "      <th>0</th>\n",
       "      <td>14260.0</td>\n",
       "      <td>Ada</td>\n",
       "      <td>ID</td>\n",
       "      <td>Boise</td>\n",
       "      <td>Dxc-Technology</td>\n",
       "      <td>Boise, ID</td>\n",
       "      <td>cyber+security-senior_level-$120,000</td>\n",
       "      <td>Segment Chief Information Security Officer- Pu...</td>\n",
       "    </tr>\n",
       "    <tr>\n",
       "      <th>1</th>\n",
       "      <td>14260.0</td>\n",
       "      <td>Ada</td>\n",
       "      <td>ID</td>\n",
       "      <td>Boise</td>\n",
       "      <td>General-Dynamics-Information-Technology</td>\n",
       "      <td>Boise, ID</td>\n",
       "      <td>cyber+security-senior_level-$120,000</td>\n",
       "      <td>Cyber O&amp;M Engineer</td>\n",
       "    </tr>\n",
       "    <tr>\n",
       "      <th>2</th>\n",
       "      <td>14260.0</td>\n",
       "      <td>Ada</td>\n",
       "      <td>ID</td>\n",
       "      <td>Boise</td>\n",
       "      <td>General-Dynamics-Information-Technology</td>\n",
       "      <td>Boise, ID</td>\n",
       "      <td>cyber+security-senior_level-$120,000</td>\n",
       "      <td>Cyber O&amp;M Engineer</td>\n",
       "    </tr>\n",
       "    <tr>\n",
       "      <th>3</th>\n",
       "      <td>14260.0</td>\n",
       "      <td>Ada</td>\n",
       "      <td>ID</td>\n",
       "      <td>Boise</td>\n",
       "      <td>Dxc-Technology</td>\n",
       "      <td>Boise, ID</td>\n",
       "      <td>cyber+security-senior_level-$120,000</td>\n",
       "      <td>Segment Chief Information Security Officer- Pu...</td>\n",
       "    </tr>\n",
       "    <tr>\n",
       "      <th>4</th>\n",
       "      <td>14260.0</td>\n",
       "      <td>Ada</td>\n",
       "      <td>ID</td>\n",
       "      <td>Boise</td>\n",
       "      <td>General-Dynamics-Information-Technology</td>\n",
       "      <td>Boise, ID</td>\n",
       "      <td>cyber+security-senior_level-$120,000</td>\n",
       "      <td>Cyber O&amp;M Engineer</td>\n",
       "    </tr>\n",
       "  </tbody>\n",
       "</table>\n",
       "</div>"
      ],
      "text/plain": [
       "      CBSA county state_id   city                             company_name  \\\n",
       "0  14260.0    Ada       ID  Boise                           Dxc-Technology   \n",
       "1  14260.0    Ada       ID  Boise  General-Dynamics-Information-Technology   \n",
       "2  14260.0    Ada       ID  Boise  General-Dynamics-Information-Technology   \n",
       "3  14260.0    Ada       ID  Boise                           Dxc-Technology   \n",
       "4  14260.0    Ada       ID  Boise  General-Dynamics-Information-Technology   \n",
       "\n",
       "    location                             partition  \\\n",
       "0  Boise, ID  cyber+security-senior_level-$120,000   \n",
       "1  Boise, ID  cyber+security-senior_level-$120,000   \n",
       "2  Boise, ID  cyber+security-senior_level-$120,000   \n",
       "3  Boise, ID  cyber+security-senior_level-$120,000   \n",
       "4  Boise, ID  cyber+security-senior_level-$120,000   \n",
       "\n",
       "                                               title  \n",
       "0  Segment Chief Information Security Officer- Pu...  \n",
       "1                                 Cyber O&M Engineer  \n",
       "2                                 Cyber O&M Engineer  \n",
       "3  Segment Chief Information Security Officer- Pu...  \n",
       "4                                 Cyber O&M Engineer  "
      ]
     },
     "execution_count": 18,
     "metadata": {},
     "output_type": "execute_result"
    }
   ],
   "source": [
    "df_demand_area.head()"
   ]
  },
  {
   "cell_type": "code",
   "execution_count": 19,
   "metadata": {
    "ExecuteTime": {
     "end_time": "2018-04-22T05:48:59.912424Z",
     "start_time": "2018-04-22T05:48:59.875649Z"
    }
   },
   "outputs": [
    {
     "data": {
      "text/plain": [
       "22543"
      ]
     },
     "execution_count": 19,
     "metadata": {},
     "output_type": "execute_result"
    }
   ],
   "source": [
    "len(df_demand)"
   ]
  },
  {
   "cell_type": "code",
   "execution_count": 20,
   "metadata": {
    "ExecuteTime": {
     "end_time": "2018-04-22T05:48:59.967302Z",
     "start_time": "2018-04-22T05:48:59.914613Z"
    }
   },
   "outputs": [],
   "source": [
    "df_demand_area['jobs'] = 1\n",
    "df_demand_count = pd.DataFrame(df_demand_area.groupby('CBSA').count()['jobs'].reset_index())"
   ]
  },
  {
   "cell_type": "markdown",
   "metadata": {
    "ExecuteTime": {
     "end_time": "2018-04-22T03:34:00.044394Z",
     "start_time": "2018-04-22T03:34:00.007735Z"
    }
   },
   "source": [
    "### Supply"
   ]
  },
  {
   "cell_type": "code",
   "execution_count": 21,
   "metadata": {
    "ExecuteTime": {
     "end_time": "2018-04-22T05:49:00.280372Z",
     "start_time": "2018-04-22T05:48:59.970181Z"
    }
   },
   "outputs": [],
   "source": [
    "df_supply = pd.read_csv(os.path.join(DATA_DIR, 'resumes_cyber+security_all_partitions.tsv'), sep='\\t')\n",
    "df_supply = df_supply[df_supply['location'].apply(lambda x: isinstance(x, str) and ', ' in x)]\n",
    "df_supply['city'] = df_supply['location'].apply(lambda x: x.split(', ')[0])\n",
    "df_supply['state_id'] = df_supply['location'].apply(lambda x: x.split(', ')[1])\n",
    "df_supply = df_supply[['experience', 'company', 'degree', 'partition', 'city', 'state_id']]"
   ]
  },
  {
   "cell_type": "code",
   "execution_count": 22,
   "metadata": {
    "ExecuteTime": {
     "end_time": "2018-04-22T05:49:00.333937Z",
     "start_time": "2018-04-22T05:49:00.282637Z"
    }
   },
   "outputs": [
    {
     "data": {
      "text/html": [
       "<div>\n",
       "<style scoped>\n",
       "    .dataframe tbody tr th:only-of-type {\n",
       "        vertical-align: middle;\n",
       "    }\n",
       "\n",
       "    .dataframe tbody tr th {\n",
       "        vertical-align: top;\n",
       "    }\n",
       "\n",
       "    .dataframe thead th {\n",
       "        text-align: right;\n",
       "    }\n",
       "</style>\n",
       "<table border=\"1\" class=\"dataframe\">\n",
       "  <thead>\n",
       "    <tr style=\"text-align: right;\">\n",
       "      <th></th>\n",
       "      <th>experience</th>\n",
       "      <th>company</th>\n",
       "      <th>degree</th>\n",
       "      <th>partition</th>\n",
       "      <th>city</th>\n",
       "      <th>state_id</th>\n",
       "    </tr>\n",
       "  </thead>\n",
       "  <tbody>\n",
       "    <tr>\n",
       "      <th>0</th>\n",
       "      <td>Computer Operator</td>\n",
       "      <td>First Citizens Bank</td>\n",
       "      <td>Bachelor of Science</td>\n",
       "      <td>resumes-cyber+security-exp_61_120-bachelor</td>\n",
       "      <td>Fuquay-Varina</td>\n",
       "      <td>NC</td>\n",
       "    </tr>\n",
       "    <tr>\n",
       "      <th>1</th>\n",
       "      <td>Senior Analyst, Information Security</td>\n",
       "      <td>General Dynamics Information Technology</td>\n",
       "      <td>Bachelor of Science</td>\n",
       "      <td>resumes-cyber+security-exp_61_120-bachelor</td>\n",
       "      <td>Waynesville</td>\n",
       "      <td>OH</td>\n",
       "    </tr>\n",
       "    <tr>\n",
       "      <th>2</th>\n",
       "      <td>Recruiting Assistant</td>\n",
       "      <td>Teleperformance</td>\n",
       "      <td>Bachelors of Science in Computer Science</td>\n",
       "      <td>resumes-cyber+security-exp_61_120-bachelor</td>\n",
       "      <td>Shreveport</td>\n",
       "      <td>LA</td>\n",
       "    </tr>\n",
       "    <tr>\n",
       "      <th>3</th>\n",
       "      <td>Network Engineer</td>\n",
       "      <td>Naval Undersea Warfare Center</td>\n",
       "      <td>B.S.</td>\n",
       "      <td>resumes-cyber+security-exp_61_120-bachelor</td>\n",
       "      <td>Buford</td>\n",
       "      <td>GA</td>\n",
       "    </tr>\n",
       "    <tr>\n",
       "      <th>4</th>\n",
       "      <td>IT Assistant</td>\n",
       "      <td>Sky Zone Recreational Center</td>\n",
       "      <td>Bachelors</td>\n",
       "      <td>resumes-cyber+security-exp_61_120-bachelor</td>\n",
       "      <td>Chesterfield</td>\n",
       "      <td>MO</td>\n",
       "    </tr>\n",
       "  </tbody>\n",
       "</table>\n",
       "</div>"
      ],
      "text/plain": [
       "                             experience  \\\n",
       "0                     Computer Operator   \n",
       "1  Senior Analyst, Information Security   \n",
       "2                  Recruiting Assistant   \n",
       "3                      Network Engineer   \n",
       "4                          IT Assistant   \n",
       "\n",
       "                                   company  \\\n",
       "0                      First Citizens Bank   \n",
       "1  General Dynamics Information Technology   \n",
       "2                          Teleperformance   \n",
       "3            Naval Undersea Warfare Center   \n",
       "4             Sky Zone Recreational Center   \n",
       "\n",
       "                                     degree  \\\n",
       "0                       Bachelor of Science   \n",
       "1                       Bachelor of Science   \n",
       "2  Bachelors of Science in Computer Science   \n",
       "3                                      B.S.   \n",
       "4                                 Bachelors   \n",
       "\n",
       "                                    partition           city state_id  \n",
       "0  resumes-cyber+security-exp_61_120-bachelor  Fuquay-Varina       NC  \n",
       "1  resumes-cyber+security-exp_61_120-bachelor    Waynesville       OH  \n",
       "2  resumes-cyber+security-exp_61_120-bachelor     Shreveport       LA  \n",
       "3  resumes-cyber+security-exp_61_120-bachelor         Buford       GA  \n",
       "4  resumes-cyber+security-exp_61_120-bachelor   Chesterfield       MO  "
      ]
     },
     "execution_count": 22,
     "metadata": {},
     "output_type": "execute_result"
    }
   ],
   "source": [
    "df_supply.head()"
   ]
  },
  {
   "cell_type": "code",
   "execution_count": 23,
   "metadata": {
    "ExecuteTime": {
     "end_time": "2018-04-22T05:49:00.475351Z",
     "start_time": "2018-04-22T05:49:00.336164Z"
    }
   },
   "outputs": [],
   "source": [
    "df_supply_area = (\n",
    "    df_areas\n",
    "    .reset_index(drop=True)\n",
    "    .join(\n",
    "        df_supply.set_index(['city', 'state_id']), \n",
    "        on=['city', 'state_id'], \n",
    "        how='right')\n",
    "    .reset_index()\n",
    ")"
   ]
  },
  {
   "cell_type": "code",
   "execution_count": 24,
   "metadata": {
    "ExecuteTime": {
     "end_time": "2018-04-22T05:49:00.527331Z",
     "start_time": "2018-04-22T05:49:00.479885Z"
    }
   },
   "outputs": [],
   "source": [
    "# df_supply_area['CBSA'] = df_supply_area['CBSA'].astype(int)"
   ]
  },
  {
   "cell_type": "code",
   "execution_count": 25,
   "metadata": {
    "ExecuteTime": {
     "end_time": "2018-04-22T05:49:00.593856Z",
     "start_time": "2018-04-22T05:49:00.531723Z"
    }
   },
   "outputs": [
    {
     "data": {
      "text/html": [
       "<div>\n",
       "<style scoped>\n",
       "    .dataframe tbody tr th:only-of-type {\n",
       "        vertical-align: middle;\n",
       "    }\n",
       "\n",
       "    .dataframe tbody tr th {\n",
       "        vertical-align: top;\n",
       "    }\n",
       "\n",
       "    .dataframe thead th {\n",
       "        text-align: right;\n",
       "    }\n",
       "</style>\n",
       "<table border=\"1\" class=\"dataframe\">\n",
       "  <thead>\n",
       "    <tr style=\"text-align: right;\">\n",
       "      <th></th>\n",
       "      <th>index</th>\n",
       "      <th>CBSA</th>\n",
       "      <th>county</th>\n",
       "      <th>state_id</th>\n",
       "      <th>city</th>\n",
       "      <th>experience</th>\n",
       "      <th>company</th>\n",
       "      <th>degree</th>\n",
       "      <th>partition</th>\n",
       "    </tr>\n",
       "  </thead>\n",
       "  <tbody>\n",
       "    <tr>\n",
       "      <th>0</th>\n",
       "      <td>7</td>\n",
       "      <td>14260.0</td>\n",
       "      <td>Ada</td>\n",
       "      <td>ID</td>\n",
       "      <td>Boise</td>\n",
       "      <td>Data Center Technician</td>\n",
       "      <td>Microsoft Global Foundation Services</td>\n",
       "      <td>BS</td>\n",
       "      <td>resumes-cyber+security-exp_61_120-bachelor</td>\n",
       "    </tr>\n",
       "    <tr>\n",
       "      <th>1</th>\n",
       "      <td>7</td>\n",
       "      <td>14260.0</td>\n",
       "      <td>Ada</td>\n",
       "      <td>ID</td>\n",
       "      <td>Boise</td>\n",
       "      <td>Data Center Technician</td>\n",
       "      <td>Microsoft Global Foundation Services</td>\n",
       "      <td>BS</td>\n",
       "      <td>resumes-cyber+security-exp_61_120-bachelor</td>\n",
       "    </tr>\n",
       "    <tr>\n",
       "      <th>2</th>\n",
       "      <td>7</td>\n",
       "      <td>14260.0</td>\n",
       "      <td>Ada</td>\n",
       "      <td>ID</td>\n",
       "      <td>Boise</td>\n",
       "      <td>Data Center Technician</td>\n",
       "      <td>Microsoft Global Foundation Services</td>\n",
       "      <td>BS</td>\n",
       "      <td>resumes-cyber+security-exp_61_120-bachelor</td>\n",
       "    </tr>\n",
       "    <tr>\n",
       "      <th>3</th>\n",
       "      <td>7</td>\n",
       "      <td>14260.0</td>\n",
       "      <td>Ada</td>\n",
       "      <td>ID</td>\n",
       "      <td>Boise</td>\n",
       "      <td>Data Center Technician</td>\n",
       "      <td>Microsoft Global Foundation Services</td>\n",
       "      <td>BS</td>\n",
       "      <td>resumes-cyber+security-exp_61_120-bachelor</td>\n",
       "    </tr>\n",
       "    <tr>\n",
       "      <th>4</th>\n",
       "      <td>7</td>\n",
       "      <td>14260.0</td>\n",
       "      <td>Ada</td>\n",
       "      <td>ID</td>\n",
       "      <td>Boise</td>\n",
       "      <td>Counselor</td>\n",
       "      <td>Va Department of Corrections</td>\n",
       "      <td>Bachelor of Science</td>\n",
       "      <td>resumes-cyber+security-exp_61_120-bachelor</td>\n",
       "    </tr>\n",
       "  </tbody>\n",
       "</table>\n",
       "</div>"
      ],
      "text/plain": [
       "   index     CBSA county state_id   city              experience  \\\n",
       "0      7  14260.0    Ada       ID  Boise  Data Center Technician   \n",
       "1      7  14260.0    Ada       ID  Boise  Data Center Technician   \n",
       "2      7  14260.0    Ada       ID  Boise  Data Center Technician   \n",
       "3      7  14260.0    Ada       ID  Boise  Data Center Technician   \n",
       "4      7  14260.0    Ada       ID  Boise               Counselor   \n",
       "\n",
       "                                company               degree  \\\n",
       "0  Microsoft Global Foundation Services                   BS   \n",
       "1  Microsoft Global Foundation Services                   BS   \n",
       "2  Microsoft Global Foundation Services                   BS   \n",
       "3  Microsoft Global Foundation Services                   BS   \n",
       "4          Va Department of Corrections  Bachelor of Science   \n",
       "\n",
       "                                    partition  \n",
       "0  resumes-cyber+security-exp_61_120-bachelor  \n",
       "1  resumes-cyber+security-exp_61_120-bachelor  \n",
       "2  resumes-cyber+security-exp_61_120-bachelor  \n",
       "3  resumes-cyber+security-exp_61_120-bachelor  \n",
       "4  resumes-cyber+security-exp_61_120-bachelor  "
      ]
     },
     "execution_count": 25,
     "metadata": {},
     "output_type": "execute_result"
    }
   ],
   "source": [
    "df_supply_area.head()"
   ]
  },
  {
   "cell_type": "code",
   "execution_count": 26,
   "metadata": {
    "ExecuteTime": {
     "end_time": "2018-04-22T05:49:00.674668Z",
     "start_time": "2018-04-22T05:49:00.599583Z"
    }
   },
   "outputs": [],
   "source": [
    "df_supply_area['resumes'] = 1\n",
    "df_supply_count = pd.DataFrame(df_supply_area.groupby('CBSA').count()[['resumes']].reset_index())"
   ]
  },
  {
   "cell_type": "markdown",
   "metadata": {},
   "source": [
    "### Affortability"
   ]
  },
  {
   "cell_type": "code",
   "execution_count": 27,
   "metadata": {
    "ExecuteTime": {
     "end_time": "2018-04-22T05:49:00.740843Z",
     "start_time": "2018-04-22T05:49:00.677378Z"
    }
   },
   "outputs": [],
   "source": [
    "os.listdir(DATA_DIR)\n",
    "df_relative_cost = pd.read_csv(os.path.join(DATA_DIR, 'cities_relative_cost.tsv'), sep='\\t')\n",
    "df_relative_cost['location'] = df_relative_cost['city']\n",
    "df_relative_cost = df_relative_cost.drop(columns=['city'], axis=1)[['location', 'relative_cost']]\n",
    "df_relative_cost = df_relative_cost.reset_index(drop=True)\n",
    "df_relative_cost = df_relative_cost[df_relative_cost['location'].apply(lambda x: isinstance(x, str) and ', ' in x)]\n",
    "df_relative_cost['city'] = df_relative_cost['location'].apply(lambda x: x.split(', ')[0])\n",
    "df_relative_cost['state_id'] = df_relative_cost['location'].apply(lambda x: x.split(', ')[1])\n"
   ]
  },
  {
   "cell_type": "code",
   "execution_count": 28,
   "metadata": {
    "ExecuteTime": {
     "end_time": "2018-04-22T05:49:00.810656Z",
     "start_time": "2018-04-22T05:49:00.744562Z"
    }
   },
   "outputs": [],
   "source": [
    "df_relative_cost_area = (\n",
    "    df_areas\n",
    "    .reset_index(drop=True)\n",
    "    .join(\n",
    "        df_relative_cost.set_index(['city', 'state_id']), \n",
    "        on=['city', 'state_id'], \n",
    "        how='right')\n",
    "    .reset_index()\n",
    ")"
   ]
  },
  {
   "cell_type": "code",
   "execution_count": 29,
   "metadata": {
    "ExecuteTime": {
     "end_time": "2018-04-22T05:49:00.904405Z",
     "start_time": "2018-04-22T05:49:00.812925Z"
    }
   },
   "outputs": [],
   "source": [
    "df_relative_cost_area['affortability'] = 1 / df_relative_cost_area['relative_cost']\n",
    "df_relative_cost_area_mean = df_relative_cost_area[['CBSA', 'affortability']].groupby('CBSA').mean()\n"
   ]
  },
  {
   "cell_type": "code",
   "execution_count": 30,
   "metadata": {
    "ExecuteTime": {
     "end_time": "2018-04-22T05:49:00.960635Z",
     "start_time": "2018-04-22T05:49:00.907669Z"
    }
   },
   "outputs": [
    {
     "data": {
      "text/html": [
       "<div>\n",
       "<style scoped>\n",
       "    .dataframe tbody tr th:only-of-type {\n",
       "        vertical-align: middle;\n",
       "    }\n",
       "\n",
       "    .dataframe tbody tr th {\n",
       "        vertical-align: top;\n",
       "    }\n",
       "\n",
       "    .dataframe thead th {\n",
       "        text-align: right;\n",
       "    }\n",
       "</style>\n",
       "<table border=\"1\" class=\"dataframe\">\n",
       "  <thead>\n",
       "    <tr style=\"text-align: right;\">\n",
       "      <th></th>\n",
       "      <th>affortability</th>\n",
       "    </tr>\n",
       "    <tr>\n",
       "      <th>CBSA</th>\n",
       "      <th></th>\n",
       "    </tr>\n",
       "  </thead>\n",
       "  <tbody>\n",
       "    <tr>\n",
       "      <th>10180.0</th>\n",
       "      <td>2.180452</td>\n",
       "    </tr>\n",
       "    <tr>\n",
       "      <th>10580.0</th>\n",
       "      <td>1.869011</td>\n",
       "    </tr>\n",
       "    <tr>\n",
       "      <th>10740.0</th>\n",
       "      <td>2.179520</td>\n",
       "    </tr>\n",
       "    <tr>\n",
       "      <th>10900.0</th>\n",
       "      <td>2.033766</td>\n",
       "    </tr>\n",
       "    <tr>\n",
       "      <th>11100.0</th>\n",
       "      <td>2.308799</td>\n",
       "    </tr>\n",
       "  </tbody>\n",
       "</table>\n",
       "</div>"
      ],
      "text/plain": [
       "         affortability\n",
       "CBSA                  \n",
       "10180.0       2.180452\n",
       "10580.0       1.869011\n",
       "10740.0       2.179520\n",
       "10900.0       2.033766\n",
       "11100.0       2.308799"
      ]
     },
     "execution_count": 30,
     "metadata": {},
     "output_type": "execute_result"
    }
   ],
   "source": [
    "df_relative_cost_area_mean.head()"
   ]
  },
  {
   "cell_type": "markdown",
   "metadata": {},
   "source": [
    "### Poseidon_score"
   ]
  },
  {
   "cell_type": "markdown",
   "metadata": {},
   "source": [
    "#### Pull data together"
   ]
  },
  {
   "cell_type": "code",
   "execution_count": 31,
   "metadata": {
    "ExecuteTime": {
     "end_time": "2018-04-22T05:49:01.008723Z",
     "start_time": "2018-04-22T05:49:00.963478Z"
    }
   },
   "outputs": [
    {
     "data": {
      "text/html": [
       "<div>\n",
       "<style scoped>\n",
       "    .dataframe tbody tr th:only-of-type {\n",
       "        vertical-align: middle;\n",
       "    }\n",
       "\n",
       "    .dataframe tbody tr th {\n",
       "        vertical-align: top;\n",
       "    }\n",
       "\n",
       "    .dataframe thead th {\n",
       "        text-align: right;\n",
       "    }\n",
       "</style>\n",
       "<table border=\"1\" class=\"dataframe\">\n",
       "  <thead>\n",
       "    <tr style=\"text-align: right;\">\n",
       "      <th></th>\n",
       "      <th>affortability</th>\n",
       "    </tr>\n",
       "    <tr>\n",
       "      <th>CBSA</th>\n",
       "      <th></th>\n",
       "    </tr>\n",
       "  </thead>\n",
       "  <tbody>\n",
       "    <tr>\n",
       "      <th>10180.0</th>\n",
       "      <td>2.180452</td>\n",
       "    </tr>\n",
       "    <tr>\n",
       "      <th>10580.0</th>\n",
       "      <td>1.869011</td>\n",
       "    </tr>\n",
       "    <tr>\n",
       "      <th>10740.0</th>\n",
       "      <td>2.179520</td>\n",
       "    </tr>\n",
       "    <tr>\n",
       "      <th>10900.0</th>\n",
       "      <td>2.033766</td>\n",
       "    </tr>\n",
       "    <tr>\n",
       "      <th>11100.0</th>\n",
       "      <td>2.308799</td>\n",
       "    </tr>\n",
       "  </tbody>\n",
       "</table>\n",
       "</div>"
      ],
      "text/plain": [
       "         affortability\n",
       "CBSA                  \n",
       "10180.0       2.180452\n",
       "10580.0       1.869011\n",
       "10740.0       2.179520\n",
       "10900.0       2.033766\n",
       "11100.0       2.308799"
      ]
     },
     "execution_count": 31,
     "metadata": {},
     "output_type": "execute_result"
    }
   ],
   "source": [
    "df_relative_cost_area_mean.head()"
   ]
  },
  {
   "cell_type": "code",
   "execution_count": 32,
   "metadata": {
    "ExecuteTime": {
     "end_time": "2018-04-22T05:49:01.056297Z",
     "start_time": "2018-04-22T05:49:01.012401Z"
    }
   },
   "outputs": [],
   "source": [
    "df_demand_supply = (\n",
    "    df_demand_count\n",
    "    .reset_index(drop=True)\n",
    "    .join(\n",
    "        df_supply_count.set_index('CBSA'), \n",
    "        how='inner', \n",
    "        on='CBSA'))\n"
   ]
  },
  {
   "cell_type": "code",
   "execution_count": 33,
   "metadata": {
    "ExecuteTime": {
     "end_time": "2018-04-22T05:49:01.102802Z",
     "start_time": "2018-04-22T05:49:01.058877Z"
    }
   },
   "outputs": [
    {
     "data": {
      "text/html": [
       "<div>\n",
       "<style scoped>\n",
       "    .dataframe tbody tr th:only-of-type {\n",
       "        vertical-align: middle;\n",
       "    }\n",
       "\n",
       "    .dataframe tbody tr th {\n",
       "        vertical-align: top;\n",
       "    }\n",
       "\n",
       "    .dataframe thead th {\n",
       "        text-align: right;\n",
       "    }\n",
       "</style>\n",
       "<table border=\"1\" class=\"dataframe\">\n",
       "  <thead>\n",
       "    <tr style=\"text-align: right;\">\n",
       "      <th></th>\n",
       "      <th>CBSA</th>\n",
       "      <th>jobs</th>\n",
       "      <th>resumes</th>\n",
       "    </tr>\n",
       "  </thead>\n",
       "  <tbody>\n",
       "    <tr>\n",
       "      <th>0</th>\n",
       "      <td>10420.0</td>\n",
       "      <td>3</td>\n",
       "      <td>61</td>\n",
       "    </tr>\n",
       "    <tr>\n",
       "      <th>1</th>\n",
       "      <td>10500.0</td>\n",
       "      <td>1</td>\n",
       "      <td>1</td>\n",
       "    </tr>\n",
       "    <tr>\n",
       "      <th>2</th>\n",
       "      <td>10540.0</td>\n",
       "      <td>1</td>\n",
       "      <td>4</td>\n",
       "    </tr>\n",
       "    <tr>\n",
       "      <th>3</th>\n",
       "      <td>10580.0</td>\n",
       "      <td>2</td>\n",
       "      <td>125</td>\n",
       "    </tr>\n",
       "    <tr>\n",
       "      <th>4</th>\n",
       "      <td>10740.0</td>\n",
       "      <td>23</td>\n",
       "      <td>84</td>\n",
       "    </tr>\n",
       "  </tbody>\n",
       "</table>\n",
       "</div>"
      ],
      "text/plain": [
       "      CBSA  jobs  resumes\n",
       "0  10420.0     3       61\n",
       "1  10500.0     1        1\n",
       "2  10540.0     1        4\n",
       "3  10580.0     2      125\n",
       "4  10740.0    23       84"
      ]
     },
     "execution_count": 33,
     "metadata": {},
     "output_type": "execute_result"
    }
   ],
   "source": [
    "df_demand_supply.head()"
   ]
  },
  {
   "cell_type": "code",
   "execution_count": 34,
   "metadata": {
    "ExecuteTime": {
     "end_time": "2018-04-22T05:49:01.150345Z",
     "start_time": "2018-04-22T05:49:01.106921Z"
    }
   },
   "outputs": [],
   "source": [
    "df_supply_demand_relative_cost = (\n",
    "    df_demand_supply\n",
    "    .join(\n",
    "        df_relative_cost_area_mean, \n",
    "        how='inner', \n",
    "        on='CBSA'))"
   ]
  },
  {
   "cell_type": "code",
   "execution_count": 35,
   "metadata": {
    "ExecuteTime": {
     "end_time": "2018-04-22T05:49:01.202879Z",
     "start_time": "2018-04-22T05:49:01.153264Z"
    }
   },
   "outputs": [
    {
     "data": {
      "text/html": [
       "<div>\n",
       "<style scoped>\n",
       "    .dataframe tbody tr th:only-of-type {\n",
       "        vertical-align: middle;\n",
       "    }\n",
       "\n",
       "    .dataframe tbody tr th {\n",
       "        vertical-align: top;\n",
       "    }\n",
       "\n",
       "    .dataframe thead th {\n",
       "        text-align: right;\n",
       "    }\n",
       "</style>\n",
       "<table border=\"1\" class=\"dataframe\">\n",
       "  <thead>\n",
       "    <tr style=\"text-align: right;\">\n",
       "      <th></th>\n",
       "      <th>CBSA</th>\n",
       "      <th>jobs</th>\n",
       "      <th>resumes</th>\n",
       "      <th>affortability</th>\n",
       "    </tr>\n",
       "  </thead>\n",
       "  <tbody>\n",
       "    <tr>\n",
       "      <th>3</th>\n",
       "      <td>10580.0</td>\n",
       "      <td>2</td>\n",
       "      <td>125</td>\n",
       "      <td>1.869011</td>\n",
       "    </tr>\n",
       "    <tr>\n",
       "      <th>4</th>\n",
       "      <td>10740.0</td>\n",
       "      <td>23</td>\n",
       "      <td>84</td>\n",
       "      <td>2.179520</td>\n",
       "    </tr>\n",
       "    <tr>\n",
       "      <th>5</th>\n",
       "      <td>10900.0</td>\n",
       "      <td>12</td>\n",
       "      <td>91</td>\n",
       "      <td>2.033766</td>\n",
       "    </tr>\n",
       "    <tr>\n",
       "      <th>7</th>\n",
       "      <td>11100.0</td>\n",
       "      <td>9</td>\n",
       "      <td>30</td>\n",
       "      <td>2.308799</td>\n",
       "    </tr>\n",
       "    <tr>\n",
       "      <th>8</th>\n",
       "      <td>11460.0</td>\n",
       "      <td>3</td>\n",
       "      <td>58</td>\n",
       "      <td>1.768038</td>\n",
       "    </tr>\n",
       "  </tbody>\n",
       "</table>\n",
       "</div>"
      ],
      "text/plain": [
       "      CBSA  jobs  resumes  affortability\n",
       "3  10580.0     2      125       1.869011\n",
       "4  10740.0    23       84       2.179520\n",
       "5  10900.0    12       91       2.033766\n",
       "7  11100.0     9       30       2.308799\n",
       "8  11460.0     3       58       1.768038"
      ]
     },
     "execution_count": 35,
     "metadata": {},
     "output_type": "execute_result"
    }
   ],
   "source": [
    "df_supply_demand_relative_cost.head()"
   ]
  },
  {
   "cell_type": "code",
   "execution_count": 36,
   "metadata": {
    "ExecuteTime": {
     "end_time": "2018-04-22T05:49:01.247769Z",
     "start_time": "2018-04-22T05:49:01.205479Z"
    }
   },
   "outputs": [],
   "source": [
    "df_supply_demand_relative_cost['mean_jobs'] = df_supply_demand_relative_cost['jobs'].mean()\n",
    "df_supply_demand_relative_cost['mean_resumes'] = df_supply_demand_relative_cost['resumes'].mean()"
   ]
  },
  {
   "cell_type": "markdown",
   "metadata": {},
   "source": [
    "#### Calculate Poseidon score"
   ]
  },
  {
   "cell_type": "code",
   "execution_count": 37,
   "metadata": {
    "ExecuteTime": {
     "end_time": "2018-04-22T05:49:01.294861Z",
     "start_time": "2018-04-22T05:49:01.250034Z"
    }
   },
   "outputs": [],
   "source": [
    "def calc_poseidon_score(df): \n",
    "    return (df['resumes'] + df['mean_resumes']) / (df['jobs'] + df['mean_jobs']) * df['affortability']\n",
    "df_poseidon = df_supply_demand_relative_cost\n",
    "df_poseidon['poseidon_score'] = calc_poseidon_score(df_poseidon)\n",
    "df_poseidon = df_poseidon.sort_values(by='poseidon_score', ascending=False).reset_index(drop=True)"
   ]
  },
  {
   "cell_type": "code",
   "execution_count": 38,
   "metadata": {
    "ExecuteTime": {
     "end_time": "2018-04-22T05:49:01.345568Z",
     "start_time": "2018-04-22T05:49:01.297907Z"
    }
   },
   "outputs": [],
   "source": [
    "df_poseidon.to_csv(os.path.join(DATA_DIR, 'posoidon_scores.tsv'), sep='\\t')"
   ]
  },
  {
   "cell_type": "code",
   "execution_count": 39,
   "metadata": {
    "ExecuteTime": {
     "end_time": "2018-04-22T05:49:01.406341Z",
     "start_time": "2018-04-22T05:49:01.348038Z"
    }
   },
   "outputs": [
    {
     "data": {
      "text/html": [
       "<div>\n",
       "<style scoped>\n",
       "    .dataframe tbody tr th:only-of-type {\n",
       "        vertical-align: middle;\n",
       "    }\n",
       "\n",
       "    .dataframe tbody tr th {\n",
       "        vertical-align: top;\n",
       "    }\n",
       "\n",
       "    .dataframe thead th {\n",
       "        text-align: right;\n",
       "    }\n",
       "</style>\n",
       "<table border=\"1\" class=\"dataframe\">\n",
       "  <thead>\n",
       "    <tr style=\"text-align: right;\">\n",
       "      <th></th>\n",
       "      <th>CBSA</th>\n",
       "      <th>jobs</th>\n",
       "      <th>resumes</th>\n",
       "      <th>affortability</th>\n",
       "      <th>mean_jobs</th>\n",
       "      <th>mean_resumes</th>\n",
       "      <th>poseidon_score</th>\n",
       "    </tr>\n",
       "  </thead>\n",
       "  <tbody>\n",
       "    <tr>\n",
       "      <th>0</th>\n",
       "      <td>41700.0</td>\n",
       "      <td>31</td>\n",
       "      <td>753</td>\n",
       "      <td>2.199351</td>\n",
       "      <td>94.06087</td>\n",
       "      <td>270.304348</td>\n",
       "      <td>17.996084</td>\n",
       "    </tr>\n",
       "    <tr>\n",
       "      <th>1</th>\n",
       "      <td>36420.0</td>\n",
       "      <td>6</td>\n",
       "      <td>251</td>\n",
       "      <td>2.269764</td>\n",
       "      <td>94.06087</td>\n",
       "      <td>270.304348</td>\n",
       "      <td>11.825183</td>\n",
       "    </tr>\n",
       "    <tr>\n",
       "      <th>2</th>\n",
       "      <td>45300.0</td>\n",
       "      <td>41</td>\n",
       "      <td>593</td>\n",
       "      <td>1.844013</td>\n",
       "      <td>94.06087</td>\n",
       "      <td>270.304348</td>\n",
       "      <td>11.786865</td>\n",
       "    </tr>\n",
       "    <tr>\n",
       "      <th>3</th>\n",
       "      <td>40140.0</td>\n",
       "      <td>9</td>\n",
       "      <td>332</td>\n",
       "      <td>1.955115</td>\n",
       "      <td>94.06087</td>\n",
       "      <td>270.304348</td>\n",
       "      <td>11.426006</td>\n",
       "    </tr>\n",
       "    <tr>\n",
       "      <th>4</th>\n",
       "      <td>19100.0</td>\n",
       "      <td>216</td>\n",
       "      <td>1454</td>\n",
       "      <td>1.947947</td>\n",
       "      <td>94.06087</td>\n",
       "      <td>270.304348</td>\n",
       "      <td>10.832884</td>\n",
       "    </tr>\n",
       "    <tr>\n",
       "      <th>5</th>\n",
       "      <td>41180.0</td>\n",
       "      <td>23</td>\n",
       "      <td>243</td>\n",
       "      <td>2.459756</td>\n",
       "      <td>94.06087</td>\n",
       "      <td>270.304348</td>\n",
       "      <td>10.785872</td>\n",
       "    </tr>\n",
       "    <tr>\n",
       "      <th>6</th>\n",
       "      <td>33100.0</td>\n",
       "      <td>38</td>\n",
       "      <td>556</td>\n",
       "      <td>1.602249</td>\n",
       "      <td>94.06087</td>\n",
       "      <td>270.304348</td>\n",
       "      <td>10.025265</td>\n",
       "    </tr>\n",
       "    <tr>\n",
       "      <th>7</th>\n",
       "      <td>17820.0</td>\n",
       "      <td>45</td>\n",
       "      <td>419</td>\n",
       "      <td>1.914641</td>\n",
       "      <td>94.06087</td>\n",
       "      <td>270.304348</td>\n",
       "      <td>9.490597</td>\n",
       "    </tr>\n",
       "    <tr>\n",
       "      <th>8</th>\n",
       "      <td>46140.0</td>\n",
       "      <td>2</td>\n",
       "      <td>135</td>\n",
       "      <td>2.173913</td>\n",
       "      <td>94.06087</td>\n",
       "      <td>270.304348</td>\n",
       "      <td>9.172272</td>\n",
       "    </tr>\n",
       "    <tr>\n",
       "      <th>9</th>\n",
       "      <td>28140.0</td>\n",
       "      <td>10</td>\n",
       "      <td>187</td>\n",
       "      <td>2.073653</td>\n",
       "      <td>94.06087</td>\n",
       "      <td>270.304348</td>\n",
       "      <td>9.112844</td>\n",
       "    </tr>\n",
       "  </tbody>\n",
       "</table>\n",
       "</div>"
      ],
      "text/plain": [
       "      CBSA  jobs  resumes  affortability  mean_jobs  mean_resumes  \\\n",
       "0  41700.0    31      753       2.199351   94.06087    270.304348   \n",
       "1  36420.0     6      251       2.269764   94.06087    270.304348   \n",
       "2  45300.0    41      593       1.844013   94.06087    270.304348   \n",
       "3  40140.0     9      332       1.955115   94.06087    270.304348   \n",
       "4  19100.0   216     1454       1.947947   94.06087    270.304348   \n",
       "5  41180.0    23      243       2.459756   94.06087    270.304348   \n",
       "6  33100.0    38      556       1.602249   94.06087    270.304348   \n",
       "7  17820.0    45      419       1.914641   94.06087    270.304348   \n",
       "8  46140.0     2      135       2.173913   94.06087    270.304348   \n",
       "9  28140.0    10      187       2.073653   94.06087    270.304348   \n",
       "\n",
       "   poseidon_score  \n",
       "0       17.996084  \n",
       "1       11.825183  \n",
       "2       11.786865  \n",
       "3       11.426006  \n",
       "4       10.832884  \n",
       "5       10.785872  \n",
       "6       10.025265  \n",
       "7        9.490597  \n",
       "8        9.172272  \n",
       "9        9.112844  "
      ]
     },
     "execution_count": 39,
     "metadata": {},
     "output_type": "execute_result"
    }
   ],
   "source": [
    "df_poseidon[:10]"
   ]
  },
  {
   "cell_type": "code",
   "execution_count": 40,
   "metadata": {
    "ExecuteTime": {
     "end_time": "2018-04-22T05:49:01.457786Z",
     "start_time": "2018-04-22T05:49:01.408937Z"
    }
   },
   "outputs": [
    {
     "data": {
      "text/html": [
       "<div>\n",
       "<style scoped>\n",
       "    .dataframe tbody tr th:only-of-type {\n",
       "        vertical-align: middle;\n",
       "    }\n",
       "\n",
       "    .dataframe tbody tr th {\n",
       "        vertical-align: top;\n",
       "    }\n",
       "\n",
       "    .dataframe thead th {\n",
       "        text-align: right;\n",
       "    }\n",
       "</style>\n",
       "<table border=\"1\" class=\"dataframe\">\n",
       "  <thead>\n",
       "    <tr style=\"text-align: right;\">\n",
       "      <th></th>\n",
       "      <th>CBSA</th>\n",
       "      <th>jobs</th>\n",
       "      <th>resumes</th>\n",
       "      <th>affortability</th>\n",
       "      <th>mean_jobs</th>\n",
       "      <th>mean_resumes</th>\n",
       "      <th>poseidon_score</th>\n",
       "    </tr>\n",
       "  </thead>\n",
       "  <tbody>\n",
       "    <tr>\n",
       "      <th>105</th>\n",
       "      <td>19380.0</td>\n",
       "      <td>121</td>\n",
       "      <td>99</td>\n",
       "      <td>2.248532</td>\n",
       "      <td>94.06087</td>\n",
       "      <td>270.304348</td>\n",
       "      <td>3.861198</td>\n",
       "    </tr>\n",
       "    <tr>\n",
       "      <th>106</th>\n",
       "      <td>42200.0</td>\n",
       "      <td>16</td>\n",
       "      <td>11</td>\n",
       "      <td>1.410927</td>\n",
       "      <td>94.06087</td>\n",
       "      <td>270.304348</td>\n",
       "      <td>3.606186</td>\n",
       "    </tr>\n",
       "    <tr>\n",
       "      <th>107</th>\n",
       "      <td>47900.0</td>\n",
       "      <td>2927</td>\n",
       "      <td>5752</td>\n",
       "      <td>1.568199</td>\n",
       "      <td>94.06087</td>\n",
       "      <td>270.304348</td>\n",
       "      <td>3.126111</td>\n",
       "    </tr>\n",
       "    <tr>\n",
       "      <th>108</th>\n",
       "      <td>35620.0</td>\n",
       "      <td>1249</td>\n",
       "      <td>2340</td>\n",
       "      <td>1.469075</td>\n",
       "      <td>94.06087</td>\n",
       "      <td>270.304348</td>\n",
       "      <td>2.855220</td>\n",
       "    </tr>\n",
       "    <tr>\n",
       "      <th>109</th>\n",
       "      <td>26620.0</td>\n",
       "      <td>532</td>\n",
       "      <td>282</td>\n",
       "      <td>2.259959</td>\n",
       "      <td>94.06087</td>\n",
       "      <td>270.304348</td>\n",
       "      <td>1.993712</td>\n",
       "    </tr>\n",
       "    <tr>\n",
       "      <th>110</th>\n",
       "      <td>41940.0</td>\n",
       "      <td>297</td>\n",
       "      <td>338</td>\n",
       "      <td>1.201934</td>\n",
       "      <td>94.06087</td>\n",
       "      <td>270.304348</td>\n",
       "      <td>1.869636</td>\n",
       "    </tr>\n",
       "    <tr>\n",
       "      <th>111</th>\n",
       "      <td>41860.0</td>\n",
       "      <td>417</td>\n",
       "      <td>484</td>\n",
       "      <td>1.244465</td>\n",
       "      <td>94.06087</td>\n",
       "      <td>270.304348</td>\n",
       "      <td>1.836778</td>\n",
       "    </tr>\n",
       "    <tr>\n",
       "      <th>112</th>\n",
       "      <td>42660.0</td>\n",
       "      <td>516</td>\n",
       "      <td>417</td>\n",
       "      <td>1.556154</td>\n",
       "      <td>94.06087</td>\n",
       "      <td>270.304348</td>\n",
       "      <td>1.753188</td>\n",
       "    </tr>\n",
       "    <tr>\n",
       "      <th>113</th>\n",
       "      <td>14460.0</td>\n",
       "      <td>554</td>\n",
       "      <td>468</td>\n",
       "      <td>1.413643</td>\n",
       "      <td>94.06087</td>\n",
       "      <td>270.304348</td>\n",
       "      <td>1.610495</td>\n",
       "    </tr>\n",
       "    <tr>\n",
       "      <th>114</th>\n",
       "      <td>29620.0</td>\n",
       "      <td>415</td>\n",
       "      <td>52</td>\n",
       "      <td>2.140669</td>\n",
       "      <td>94.06087</td>\n",
       "      <td>270.304348</td>\n",
       "      <td>1.355333</td>\n",
       "    </tr>\n",
       "  </tbody>\n",
       "</table>\n",
       "</div>"
      ],
      "text/plain": [
       "        CBSA  jobs  resumes  affortability  mean_jobs  mean_resumes  \\\n",
       "105  19380.0   121       99       2.248532   94.06087    270.304348   \n",
       "106  42200.0    16       11       1.410927   94.06087    270.304348   \n",
       "107  47900.0  2927     5752       1.568199   94.06087    270.304348   \n",
       "108  35620.0  1249     2340       1.469075   94.06087    270.304348   \n",
       "109  26620.0   532      282       2.259959   94.06087    270.304348   \n",
       "110  41940.0   297      338       1.201934   94.06087    270.304348   \n",
       "111  41860.0   417      484       1.244465   94.06087    270.304348   \n",
       "112  42660.0   516      417       1.556154   94.06087    270.304348   \n",
       "113  14460.0   554      468       1.413643   94.06087    270.304348   \n",
       "114  29620.0   415       52       2.140669   94.06087    270.304348   \n",
       "\n",
       "     poseidon_score  \n",
       "105        3.861198  \n",
       "106        3.606186  \n",
       "107        3.126111  \n",
       "108        2.855220  \n",
       "109        1.993712  \n",
       "110        1.869636  \n",
       "111        1.836778  \n",
       "112        1.753188  \n",
       "113        1.610495  \n",
       "114        1.355333  "
      ]
     },
     "execution_count": 40,
     "metadata": {},
     "output_type": "execute_result"
    }
   ],
   "source": [
    "df_poseidon[-10:]"
   ]
  },
  {
   "cell_type": "code",
   "execution_count": 41,
   "metadata": {
    "ExecuteTime": {
     "end_time": "2018-04-22T05:49:01.504573Z",
     "start_time": "2018-04-22T05:49:01.459955Z"
    }
   },
   "outputs": [],
   "source": [
    "df_top_cities = pd.read_csv(os.path.join(DATA_DIR, 'top_cities_cyril.csv'))"
   ]
  },
  {
   "cell_type": "code",
   "execution_count": 42,
   "metadata": {
    "ExecuteTime": {
     "end_time": "2018-04-22T05:49:01.558820Z",
     "start_time": "2018-04-22T05:49:01.507227Z"
    }
   },
   "outputs": [
    {
     "data": {
      "text/html": [
       "<div>\n",
       "<style scoped>\n",
       "    .dataframe tbody tr th:only-of-type {\n",
       "        vertical-align: middle;\n",
       "    }\n",
       "\n",
       "    .dataframe tbody tr th {\n",
       "        vertical-align: top;\n",
       "    }\n",
       "\n",
       "    .dataframe thead th {\n",
       "        text-align: right;\n",
       "    }\n",
       "</style>\n",
       "<table border=\"1\" class=\"dataframe\">\n",
       "  <thead>\n",
       "    <tr style=\"text-align: right;\">\n",
       "      <th></th>\n",
       "      <th>CBSA</th>\n",
       "      <th>city</th>\n",
       "      <th>County</th>\n",
       "      <th>State</th>\n",
       "      <th>state_name</th>\n",
       "    </tr>\n",
       "  </thead>\n",
       "  <tbody>\n",
       "    <tr>\n",
       "      <th>0</th>\n",
       "      <td>45060</td>\n",
       "      <td>Canastota</td>\n",
       "      <td>Madison</td>\n",
       "      <td>NY</td>\n",
       "      <td>New York</td>\n",
       "    </tr>\n",
       "    <tr>\n",
       "      <th>1</th>\n",
       "      <td>33100</td>\n",
       "      <td>Fort Lauderdale</td>\n",
       "      <td>Broward</td>\n",
       "      <td>FL</td>\n",
       "      <td>Florida</td>\n",
       "    </tr>\n",
       "    <tr>\n",
       "      <th>2</th>\n",
       "      <td>41620</td>\n",
       "      <td>Salt Lake City</td>\n",
       "      <td>Salt Lake</td>\n",
       "      <td>UT</td>\n",
       "      <td>Utah</td>\n",
       "    </tr>\n",
       "    <tr>\n",
       "      <th>3</th>\n",
       "      <td>33100</td>\n",
       "      <td>Doral</td>\n",
       "      <td>Miami-Dade</td>\n",
       "      <td>FL</td>\n",
       "      <td>Florida</td>\n",
       "    </tr>\n",
       "    <tr>\n",
       "      <th>4</th>\n",
       "      <td>28140</td>\n",
       "      <td>Kansas City</td>\n",
       "      <td>Wyandotte</td>\n",
       "      <td>KS</td>\n",
       "      <td>Kansas</td>\n",
       "    </tr>\n",
       "    <tr>\n",
       "      <th>5</th>\n",
       "      <td>36540</td>\n",
       "      <td>Omaha</td>\n",
       "      <td>Douglas</td>\n",
       "      <td>NE</td>\n",
       "      <td>Nebraska</td>\n",
       "    </tr>\n",
       "    <tr>\n",
       "      <th>6</th>\n",
       "      <td>17980</td>\n",
       "      <td>Columbus</td>\n",
       "      <td>Muscogee</td>\n",
       "      <td>GA</td>\n",
       "      <td>Georgia</td>\n",
       "    </tr>\n",
       "    <tr>\n",
       "      <th>7</th>\n",
       "      <td>38300</td>\n",
       "      <td>Pittsburgh</td>\n",
       "      <td>Allegheny</td>\n",
       "      <td>PA</td>\n",
       "      <td>Pennsylvania</td>\n",
       "    </tr>\n",
       "    <tr>\n",
       "      <th>8</th>\n",
       "      <td>31080</td>\n",
       "      <td>Santa Ana</td>\n",
       "      <td>Orange</td>\n",
       "      <td>CA</td>\n",
       "      <td>California</td>\n",
       "    </tr>\n",
       "    <tr>\n",
       "      <th>9</th>\n",
       "      <td>40900</td>\n",
       "      <td>Folsom</td>\n",
       "      <td>Sacramento</td>\n",
       "      <td>CA</td>\n",
       "      <td>California</td>\n",
       "    </tr>\n",
       "  </tbody>\n",
       "</table>\n",
       "</div>"
      ],
      "text/plain": [
       "    CBSA             city      County State    state_name\n",
       "0  45060        Canastota     Madison    NY      New York\n",
       "1  33100  Fort Lauderdale     Broward    FL       Florida\n",
       "2  41620   Salt Lake City   Salt Lake    UT          Utah\n",
       "3  33100            Doral  Miami-Dade    FL       Florida\n",
       "4  28140      Kansas City   Wyandotte    KS        Kansas\n",
       "5  36540            Omaha     Douglas    NE      Nebraska\n",
       "6  17980         Columbus    Muscogee    GA       Georgia\n",
       "7  38300       Pittsburgh   Allegheny    PA  Pennsylvania\n",
       "8  31080        Santa Ana      Orange    CA    California\n",
       "9  40900           Folsom  Sacramento    CA    California"
      ]
     },
     "execution_count": 42,
     "metadata": {},
     "output_type": "execute_result"
    }
   ],
   "source": [
    "df_top_cities"
   ]
  },
  {
   "cell_type": "code",
   "execution_count": 43,
   "metadata": {
    "ExecuteTime": {
     "end_time": "2018-04-22T05:49:01.628059Z",
     "start_time": "2018-04-22T05:49:01.563232Z"
    }
   },
   "outputs": [
    {
     "data": {
      "text/html": [
       "<div>\n",
       "<style scoped>\n",
       "    .dataframe tbody tr th:only-of-type {\n",
       "        vertical-align: middle;\n",
       "    }\n",
       "\n",
       "    .dataframe tbody tr th {\n",
       "        vertical-align: top;\n",
       "    }\n",
       "\n",
       "    .dataframe thead th {\n",
       "        text-align: right;\n",
       "    }\n",
       "</style>\n",
       "<table border=\"1\" class=\"dataframe\">\n",
       "  <thead>\n",
       "    <tr style=\"text-align: right;\">\n",
       "      <th></th>\n",
       "      <th>CBSA</th>\n",
       "      <th>jobs</th>\n",
       "      <th>resumes</th>\n",
       "      <th>affortability</th>\n",
       "      <th>mean_jobs</th>\n",
       "      <th>mean_resumes</th>\n",
       "      <th>poseidon_score</th>\n",
       "      <th>city</th>\n",
       "      <th>County</th>\n",
       "      <th>State</th>\n",
       "      <th>state_name</th>\n",
       "    </tr>\n",
       "  </thead>\n",
       "  <tbody>\n",
       "    <tr>\n",
       "      <th>6</th>\n",
       "      <td>33100</td>\n",
       "      <td>38</td>\n",
       "      <td>556</td>\n",
       "      <td>1.602249</td>\n",
       "      <td>94.06087</td>\n",
       "      <td>270.304348</td>\n",
       "      <td>10.025265</td>\n",
       "      <td>Fort Lauderdale</td>\n",
       "      <td>Broward</td>\n",
       "      <td>FL</td>\n",
       "      <td>Florida</td>\n",
       "    </tr>\n",
       "    <tr>\n",
       "      <th>6</th>\n",
       "      <td>33100</td>\n",
       "      <td>38</td>\n",
       "      <td>556</td>\n",
       "      <td>1.602249</td>\n",
       "      <td>94.06087</td>\n",
       "      <td>270.304348</td>\n",
       "      <td>10.025265</td>\n",
       "      <td>Doral</td>\n",
       "      <td>Miami-Dade</td>\n",
       "      <td>FL</td>\n",
       "      <td>Florida</td>\n",
       "    </tr>\n",
       "    <tr>\n",
       "      <th>9</th>\n",
       "      <td>28140</td>\n",
       "      <td>10</td>\n",
       "      <td>187</td>\n",
       "      <td>2.073653</td>\n",
       "      <td>94.06087</td>\n",
       "      <td>270.304348</td>\n",
       "      <td>9.112844</td>\n",
       "      <td>Kansas City</td>\n",
       "      <td>Wyandotte</td>\n",
       "      <td>KS</td>\n",
       "      <td>Kansas</td>\n",
       "    </tr>\n",
       "    <tr>\n",
       "      <th>23</th>\n",
       "      <td>38300</td>\n",
       "      <td>41</td>\n",
       "      <td>337</td>\n",
       "      <td>1.734351</td>\n",
       "      <td>94.06087</td>\n",
       "      <td>270.304348</td>\n",
       "      <td>7.798549</td>\n",
       "      <td>Pittsburgh</td>\n",
       "      <td>Allegheny</td>\n",
       "      <td>PA</td>\n",
       "      <td>Pennsylvania</td>\n",
       "    </tr>\n",
       "    <tr>\n",
       "      <th>29</th>\n",
       "      <td>36540</td>\n",
       "      <td>18</td>\n",
       "      <td>133</td>\n",
       "      <td>2.113289</td>\n",
       "      <td>94.06087</td>\n",
       "      <td>270.304348</td>\n",
       "      <td>7.605674</td>\n",
       "      <td>Omaha</td>\n",
       "      <td>Douglas</td>\n",
       "      <td>NE</td>\n",
       "      <td>Nebraska</td>\n",
       "    </tr>\n",
       "    <tr>\n",
       "      <th>46</th>\n",
       "      <td>40900</td>\n",
       "      <td>15</td>\n",
       "      <td>159</td>\n",
       "      <td>1.712498</td>\n",
       "      <td>94.06087</td>\n",
       "      <td>270.304348</td>\n",
       "      <td>6.741032</td>\n",
       "      <td>Folsom</td>\n",
       "      <td>Sacramento</td>\n",
       "      <td>CA</td>\n",
       "      <td>California</td>\n",
       "    </tr>\n",
       "    <tr>\n",
       "      <th>70</th>\n",
       "      <td>41620</td>\n",
       "      <td>23</td>\n",
       "      <td>94</td>\n",
       "      <td>2.012675</td>\n",
       "      <td>94.06087</td>\n",
       "      <td>270.304348</td>\n",
       "      <td>6.263631</td>\n",
       "      <td>Salt Lake City</td>\n",
       "      <td>Salt Lake</td>\n",
       "      <td>UT</td>\n",
       "      <td>Utah</td>\n",
       "    </tr>\n",
       "    <tr>\n",
       "      <th>83</th>\n",
       "      <td>17980</td>\n",
       "      <td>7</td>\n",
       "      <td>37</td>\n",
       "      <td>1.878690</td>\n",
       "      <td>94.06087</td>\n",
       "      <td>270.304348</td>\n",
       "      <td>5.712691</td>\n",
       "      <td>Columbus</td>\n",
       "      <td>Muscogee</td>\n",
       "      <td>GA</td>\n",
       "      <td>Georgia</td>\n",
       "    </tr>\n",
       "    <tr>\n",
       "      <th>98</th>\n",
       "      <td>31080</td>\n",
       "      <td>258</td>\n",
       "      <td>842</td>\n",
       "      <td>1.557777</td>\n",
       "      <td>94.06087</td>\n",
       "      <td>270.304348</td>\n",
       "      <td>4.921656</td>\n",
       "      <td>Santa Ana</td>\n",
       "      <td>Orange</td>\n",
       "      <td>CA</td>\n",
       "      <td>California</td>\n",
       "    </tr>\n",
       "    <tr>\n",
       "      <th>104</th>\n",
       "      <td>45060</td>\n",
       "      <td>85</td>\n",
       "      <td>96</td>\n",
       "      <td>1.963573</td>\n",
       "      <td>94.06087</td>\n",
       "      <td>270.304348</td>\n",
       "      <td>4.016877</td>\n",
       "      <td>Canastota</td>\n",
       "      <td>Madison</td>\n",
       "      <td>NY</td>\n",
       "      <td>New York</td>\n",
       "    </tr>\n",
       "  </tbody>\n",
       "</table>\n",
       "</div>"
      ],
      "text/plain": [
       "      CBSA  jobs  resumes  affortability  mean_jobs  mean_resumes  \\\n",
       "6    33100    38      556       1.602249   94.06087    270.304348   \n",
       "6    33100    38      556       1.602249   94.06087    270.304348   \n",
       "9    28140    10      187       2.073653   94.06087    270.304348   \n",
       "23   38300    41      337       1.734351   94.06087    270.304348   \n",
       "29   36540    18      133       2.113289   94.06087    270.304348   \n",
       "46   40900    15      159       1.712498   94.06087    270.304348   \n",
       "70   41620    23       94       2.012675   94.06087    270.304348   \n",
       "83   17980     7       37       1.878690   94.06087    270.304348   \n",
       "98   31080   258      842       1.557777   94.06087    270.304348   \n",
       "104  45060    85       96       1.963573   94.06087    270.304348   \n",
       "\n",
       "     poseidon_score             city      County State    state_name  \n",
       "6         10.025265  Fort Lauderdale     Broward    FL       Florida  \n",
       "6         10.025265            Doral  Miami-Dade    FL       Florida  \n",
       "9          9.112844      Kansas City   Wyandotte    KS        Kansas  \n",
       "23         7.798549       Pittsburgh   Allegheny    PA  Pennsylvania  \n",
       "29         7.605674            Omaha     Douglas    NE      Nebraska  \n",
       "46         6.741032           Folsom  Sacramento    CA    California  \n",
       "70         6.263631   Salt Lake City   Salt Lake    UT          Utah  \n",
       "83         5.712691         Columbus    Muscogee    GA       Georgia  \n",
       "98         4.921656        Santa Ana      Orange    CA    California  \n",
       "104        4.016877        Canastota     Madison    NY      New York  "
      ]
     },
     "execution_count": 43,
     "metadata": {},
     "output_type": "execute_result"
    }
   ],
   "source": [
    "df_poseidon.join(df_top_cities.set_index('CBSA'), on='CBSA', how='right').sort_values(by='poseidon_score', ascending=False)"
   ]
  },
  {
   "cell_type": "code",
   "execution_count": 53,
   "metadata": {
    "ExecuteTime": {
     "end_time": "2018-04-22T05:58:58.155894Z",
     "start_time": "2018-04-22T05:58:57.733768Z"
    }
   },
   "outputs": [
    {
     "data": {
      "image/png": "[encoded data removed]",
      "text/plain": [
       "<matplotlib.figure.Figure at 0x109613588>"
      ]
     },
     "metadata": {
      "image/png": {
       "height": 250,
       "width": 383
      }
     },
     "output_type": "display_data"
    }
   ],
   "source": [
    "df_poseidon[['jobs', 'resumes', 'affortability','poseidon_score']].plot();"
   ]
  },
  {
   "cell_type": "markdown",
   "metadata": {
    "ExecuteTime": {
     "end_time": "2018-04-22T05:44:00.749180Z",
     "start_time": "2018-04-22T05:44:00.709522Z"
    }
   },
   "source": [
    "#### Poseidon score of Bay Area"
   ]
  },
  {
   "cell_type": "code",
   "execution_count": 44,
   "metadata": {
    "ExecuteTime": {
     "end_time": "2018-04-22T05:49:01.673530Z",
     "start_time": "2018-04-22T05:49:01.630328Z"
    }
   },
   "outputs": [],
   "source": [
    "SF_CBSA = ['10500','10580','10540','41860','34980','41940','41180','26900','18140','35620','24860','38300','25540']"
   ]
  },
  {
   "cell_type": "code",
   "execution_count": 45,
   "metadata": {
    "ExecuteTime": {
     "end_time": "2018-04-22T05:49:01.713484Z",
     "start_time": "2018-04-22T05:49:01.675712Z"
    }
   },
   "outputs": [],
   "source": [
    "df_sf = df_poseidon[df_poseidon['CBSA'].isin(SF_CBSA)]"
   ]
  },
  {
   "cell_type": "code",
   "execution_count": 46,
   "metadata": {
    "ExecuteTime": {
     "end_time": "2018-04-22T05:49:01.848607Z",
     "start_time": "2018-04-22T05:49:01.715493Z"
    }
   },
   "outputs": [
    {
     "name": "stderr",
     "output_type": "stream",
     "text": [
      "/usr/local/Cellar/python3/3.5.1/Frameworks/Python.framework/Versions/3.5/lib/python3.5/site-packages/ipykernel_launcher.py:1: SettingWithCopyWarning: \n",
      "A value is trying to be set on a copy of a slice from a DataFrame.\n",
      "Try using .loc[row_indexer,col_indexer] = value instead\n",
      "\n",
      "See the caveats in the documentation: http://pandas.pydata.org/pandas-docs/stable/indexing.html#indexing-view-versus-copy\n",
      "  \"\"\"Entry point for launching an IPython kernel.\n"
     ]
    }
   ],
   "source": [
    "df_sf['affortability'] = df_sf['affortability'].mean() / len(df_sf['affortability'])"
   ]
  },
  {
   "cell_type": "code",
   "execution_count": 54,
   "metadata": {
    "ExecuteTime": {
     "end_time": "2018-04-22T06:01:39.907271Z",
     "start_time": "2018-04-22T06:01:39.870904Z"
    }
   },
   "outputs": [
    {
     "name": "stdout",
     "output_type": "stream",
     "text": [
      "Poseidon score of SF: 4.01\n"
     ]
    }
   ],
   "source": [
    "print('Poseidon score of SF: {:.2f}'.format(calc_poseidon_score(df_sf.sum())))"
   ]
  },
  {
   "cell_type": "markdown",
   "metadata": {},
   "source": [
    "Which is in the bottom quarter!!! "
   ]
  }
 ],
 "metadata": {
  "hide_input": false,
  "kernelspec": {
   "display_name": "Python 3",
   "language": "python",
   "name": "python3"
  },
  "language_info": {
   "codemirror_mode": {
    "name": "ipython",
    "version": 3
   },
   "file_extension": ".py",
   "mimetype": "text/x-python",
   "name": "python",
   "nbconvert_exporter": "python",
   "pygments_lexer": "ipython3",
   "version": "3.5.1"
  },
  "nav_menu": {},
  "toc": {
   "navigate_menu": true,
   "number_sections": true,
   "sideBar": true,
   "threshold": 6,
   "toc_cell": false,
   "toc_section_display": "block",
   "toc_window_display": true
  }
 },
 "nbformat": 4,
 "nbformat_minor": 2
}
