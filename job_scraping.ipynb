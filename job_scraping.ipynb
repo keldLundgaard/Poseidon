{
 "cells": [
  {
   "cell_type": "code",
   "execution_count": 1,
   "metadata": {
    "ExecuteTime": {
     "end_time": "2018-04-22T00:02:42.509685Z",
     "start_time": "2018-04-22T00:02:41.728475Z"
    },
    "run_control": {
     "frozen": false,
     "read_only": false
    }
   },
   "outputs": [
    {
     "name": "stdout",
     "output_type": "stream",
     "text": [
      "Populating the interactive namespace from numpy and matplotlib\n"
     ]
    }
   ],
   "source": [
    "% pylab inline\n",
    "\n",
    "%load_ext autoreload\n",
    "%autoreload 2\n",
    "\n",
    "import requests\n",
    "import bs4\n",
    "from bs4 import BeautifulSoup\n",
    "import csv\n",
    "import pandas as pd\n",
    "from tqdm import tqdm\n",
    "import os\n",
    "import indeed_scraping\n",
    "\n",
    "DATA_DIR = os.path.join(os.getcwd(), 'data')\n",
    "try:\n",
    "    os.makedirs(DATA_DIR)\n",
    "except FileExistsError:\n",
    "    pass"
   ]
  },
  {
   "cell_type": "code",
   "execution_count": 2,
   "metadata": {
    "ExecuteTime": {
     "end_time": "2018-04-22T00:02:43.224459Z",
     "start_time": "2018-04-22T00:02:43.183324Z"
    },
    "run_control": {
     "frozen": false,
     "read_only": false
    }
   },
   "outputs": [],
   "source": [
    "query = \"cyber+security\""
   ]
  },
  {
   "cell_type": "code",
   "execution_count": 3,
   "metadata": {
    "ExecuteTime": {
     "end_time": "2018-04-22T00:02:44.893110Z",
     "start_time": "2018-04-22T00:02:43.789450Z"
    },
    "run_control": {
     "frozen": false,
     "read_only": false
    }
   },
   "outputs": [
    {
     "name": "stdout",
     "output_type": "stream",
     "text": [
      "cyber+security-entry_level-$70,000\n",
      "cyber+security-entry_level-$90,000\n",
      "cyber+security-entry_level-$100,000\n",
      "cyber+security-entry_level-$110,000\n",
      "cyber+security-entry_level-$120,000\n",
      "cyber+security-mid_level-$70,000\n",
      "cyber+security-mid_level-$90,000\n",
      "cyber+security-mid_level-$100,000\n",
      "cyber+security-mid_level-$110,000\n",
      "cyber+security-mid_level-$120,000\n",
      "cyber+security-senior_level-$70,000\n",
      "cyber+security-senior_level-$90,000\n",
      "cyber+security-senior_level-$100,000\n",
      "cyber+security-senior_level-$110,000\n",
      "cyber+security-senior_level-$120,000\n"
     ]
    }
   ],
   "source": [
    "df_demand_side = indeed_scraping.get_demand_side_jobs(query)"
   ]
  },
  {
   "cell_type": "code",
   "execution_count": 4,
   "metadata": {
    "ExecuteTime": {
     "end_time": "2018-04-22T00:02:50.299602Z",
     "start_time": "2018-04-22T00:02:50.245471Z"
    },
    "run_control": {
     "frozen": false,
     "read_only": false
    }
   },
   "outputs": [
    {
     "data": {
      "text/html": [
       "<div>\n",
       "<style scoped>\n",
       "    .dataframe tbody tr th:only-of-type {\n",
       "        vertical-align: middle;\n",
       "    }\n",
       "\n",
       "    .dataframe tbody tr th {\n",
       "        vertical-align: top;\n",
       "    }\n",
       "\n",
       "    .dataframe thead th {\n",
       "        text-align: right;\n",
       "    }\n",
       "</style>\n",
       "<table border=\"1\" class=\"dataframe\">\n",
       "  <thead>\n",
       "    <tr style=\"text-align: right;\">\n",
       "      <th></th>\n",
       "      <th>company_name</th>\n",
       "      <th>location</th>\n",
       "      <th>title</th>\n",
       "      <th>partition</th>\n",
       "    </tr>\n",
       "  </thead>\n",
       "  <tbody>\n",
       "    <tr>\n",
       "      <th>0</th>\n",
       "      <td>Jackson-National-Life-Insurance-Company</td>\n",
       "      <td>Lansing, MI</td>\n",
       "      <td>AVP, Cybersecurity Response</td>\n",
       "      <td>cyber+security-senior_level-$120,000</td>\n",
       "    </tr>\n",
       "    <tr>\n",
       "      <th>1</th>\n",
       "      <td>Occidental-Petroleum</td>\n",
       "      <td>Houston, TX</td>\n",
       "      <td>IT Cyber Security Advisor</td>\n",
       "      <td>cyber+security-senior_level-$120,000</td>\n",
       "    </tr>\n",
       "    <tr>\n",
       "      <th>2</th>\n",
       "      <td>\\n    Ingersoll Consulting Inc.</td>\n",
       "      <td>Washington, DC</td>\n",
       "      <td>Cyber Security Engineer - Lead</td>\n",
       "      <td>cyber+security-senior_level-$120,000</td>\n",
       "    </tr>\n",
       "    <tr>\n",
       "      <th>3</th>\n",
       "      <td>Saab</td>\n",
       "      <td>Syracuse, NY</td>\n",
       "      <td>Senior Staff Systems Engineer; Saab Defense an...</td>\n",
       "      <td>cyber+security-senior_level-$120,000</td>\n",
       "    </tr>\n",
       "    <tr>\n",
       "      <th>4</th>\n",
       "      <td>\\n    Executive Office of Energy and Environme...</td>\n",
       "      <td>Boston, MA</td>\n",
       "      <td>Chief Information Security Officer</td>\n",
       "      <td>cyber+security-senior_level-$120,000</td>\n",
       "    </tr>\n",
       "  </tbody>\n",
       "</table>\n",
       "</div>"
      ],
      "text/plain": [
       "                                        company_name        location  \\\n",
       "0            Jackson-National-Life-Insurance-Company     Lansing, MI   \n",
       "1                               Occidental-Petroleum     Houston, TX   \n",
       "2                    \\n    Ingersoll Consulting Inc.  Washington, DC   \n",
       "3                                               Saab    Syracuse, NY   \n",
       "4  \\n    Executive Office of Energy and Environme...      Boston, MA   \n",
       "\n",
       "                                               title  \\\n",
       "0                        AVP, Cybersecurity Response   \n",
       "1                          IT Cyber Security Advisor   \n",
       "2                     Cyber Security Engineer - Lead   \n",
       "3  Senior Staff Systems Engineer; Saab Defense an...   \n",
       "4                 Chief Information Security Officer   \n",
       "\n",
       "                              partition  \n",
       "0  cyber+security-senior_level-$120,000  \n",
       "1  cyber+security-senior_level-$120,000  \n",
       "2  cyber+security-senior_level-$120,000  \n",
       "3  cyber+security-senior_level-$120,000  \n",
       "4  cyber+security-senior_level-$120,000  "
      ]
     },
     "execution_count": 4,
     "metadata": {},
     "output_type": "execute_result"
    }
   ],
   "source": [
    "df_demand_side.head()"
   ]
  },
  {
   "cell_type": "code",
   "execution_count": 6,
   "metadata": {
    "ExecuteTime": {
     "end_time": "2018-04-22T00:02:55.242280Z",
     "start_time": "2018-04-22T00:02:55.197214Z"
    },
    "run_control": {
     "frozen": false,
     "read_only": false
    }
   },
   "outputs": [
    {
     "data": {
      "text/plain": [
       "23206"
      ]
     },
     "execution_count": 6,
     "metadata": {},
     "output_type": "execute_result"
    }
   ],
   "source": [
    "len(df_demand_side)"
   ]
  },
  {
   "cell_type": "code",
   "execution_count": null,
   "metadata": {
    "run_control": {
     "frozen": false,
     "read_only": false
    }
   },
   "outputs": [],
   "source": []
  }
 ],
 "metadata": {
  "hide_input": false,
  "kernelspec": {
   "display_name": "Python 3",
   "language": "python",
   "name": "python3"
  },
  "language_info": {
   "codemirror_mode": {
    "name": "ipython",
    "version": 3
   },
   "file_extension": ".py",
   "mimetype": "text/x-python",
   "name": "python",
   "nbconvert_exporter": "python",
   "pygments_lexer": "ipython3",
   "version": "3.5.1"
  },
  "nav_menu": {},
  "toc": {
   "navigate_menu": true,
   "number_sections": true,
   "sideBar": true,
   "threshold": 6,
   "toc_cell": false,
   "toc_section_display": "block",
   "toc_window_display": false
  }
 },
 "nbformat": 4,
 "nbformat_minor": 2
}
