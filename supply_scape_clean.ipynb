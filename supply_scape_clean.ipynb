{
 "cells": [
  {
   "cell_type": "code",
   "execution_count": 26,
   "metadata": {
    "ExecuteTime": {
     "end_time": "2018-04-22T01:11:11.571418Z",
     "start_time": "2018-04-22T01:11:11.501027Z"
    },
    "run_control": {
     "frozen": false,
     "read_only": false
    }
   },
   "outputs": [
    {
     "name": "stdout",
     "output_type": "stream",
     "text": [
      "Populating the interactive namespace from numpy and matplotlib\n",
      "The autoreload extension is already loaded. To reload it, use:\n",
      "  %reload_ext autoreload\n"
     ]
    }
   ],
   "source": [
    "% pylab inline\n",
    "\n",
    "%load_ext autoreload\n",
    "%autoreload 2\n",
    "\n",
    "import requests\n",
    "import bs4\n",
    "from bs4 import BeautifulSoup\n",
    "import csv\n",
    "import pandas as pd\n",
    "from tqdm import tqdm\n",
    "import os\n",
    "import indeed_scraping\n",
    "\n",
    "DATA_DIR = os.path.join(os.getcwd(), 'data')\n",
    "try:\n",
    "    os.makedirs(DATA_DIR)\n",
    "except FileExistsError:\n",
    "    pass"
   ]
  },
  {
   "cell_type": "code",
   "execution_count": 27,
   "metadata": {
    "ExecuteTime": {
     "end_time": "2018-04-22T01:11:13.524442Z",
     "start_time": "2018-04-22T01:11:13.486223Z"
    }
   },
   "outputs": [],
   "source": [
    "query = 'cyber+security'"
   ]
  },
  {
   "cell_type": "code",
   "execution_count": 28,
   "metadata": {
    "ExecuteTime": {
     "end_time": "2018-04-22T01:11:14.407276Z",
     "start_time": "2018-04-22T01:11:13.897140Z"
    }
   },
   "outputs": [],
   "source": [
    "query_url = 'https://www.indeed.com/resumes?q=cyber+security&co=US&rb=dt%3Aba%2Cjtyp%3Aft%2Cyoe%3A12-24&start=0'\n",
    "page = requests.get(query_url)\n",
    "\n",
    "soup = BeautifulSoup(page.text, \"html.parser\")\n",
    "\n",
    "divs = soup.find_all(name=\"div\", attrs={\"class\":\"sre-content\"})"
   ]
  },
  {
   "cell_type": "code",
   "execution_count": 29,
   "metadata": {
    "ExecuteTime": {
     "end_time": "2018-04-22T01:11:14.483046Z",
     "start_time": "2018-04-22T01:11:14.443065Z"
    }
   },
   "outputs": [
    {
     "data": {
      "text/plain": [
       "50"
      ]
     },
     "execution_count": 29,
     "metadata": {},
     "output_type": "execute_result"
    }
   ],
   "source": [
    "len(divs)"
   ]
  },
  {
   "cell_type": "code",
   "execution_count": 45,
   "metadata": {
    "ExecuteTime": {
     "end_time": "2018-04-22T01:48:50.800075Z",
     "start_time": "2018-04-22T01:48:45.020552Z"
    }
   },
   "outputs": [
    {
     "name": "stdout",
     "output_type": "stream",
     "text": [
      "resumes-cyber+security-exp_12_24-bachelor\n",
      "resumes-cyber+security-exp_12_24-doctor\n",
      "resumes-cyber+security-exp_12_24-master\n",
      "resumes-cyber+security-exp_12_24-diploma\n"
     ]
    },
    {
     "name": "stderr",
     "output_type": "stream",
     "text": [
      "\n",
      "  0%|          | 0/100 [00:00<?, ?it/s]\u001b[A\n",
      "\u001b[A"
     ]
    },
    {
     "name": "stdout",
     "output_type": "stream",
     "text": [
      "No resumes\n",
      "https://www.indeed.com/resumes?q=cyber+security&co=US&rb=dt%3Adi%2Cjtyp%3Aft%2Cyoe%3A12-24&start=0\n",
      "resumes-cyber+security-exp_12_24-associate\n",
      "resumes-cyber+security-exp_25_60-bachelor\n"
     ]
    },
    {
     "name": "stderr",
     "output_type": "stream",
     "text": [
      "\n",
      "  0%|          | 0/100 [00:00<?, ?it/s]\u001b[A\n",
      "\u001b[A"
     ]
    },
    {
     "name": "stdout",
     "output_type": "stream",
     "text": [
      "No resumes\n",
      "https://www.indeed.com/resumes?q=cyber+security&co=US&rb=dt%3Aba%2Cjtyp%3Aft%2Cyoe%3A25-60&start=0\n",
      "resumes-cyber+security-exp_25_60-doctor\n"
     ]
    },
    {
     "name": "stderr",
     "output_type": "stream",
     "text": [
      "\n",
      "  0%|          | 0/100 [00:00<?, ?it/s]\u001b[A"
     ]
    },
    {
     "name": "stdout",
     "output_type": "stream",
     "text": [
      "No resumes\n",
      "https://www.indeed.com/resumes?q=cyber+security&co=US&rb=dt%3Adoc%2Cjtyp%3Aft%2Cyoe%3A25-60&start=0\n",
      "resumes-cyber+security-exp_25_60-master\n",
      "resumes-cyber+security-exp_25_60-diploma\n",
      "resumes-cyber+security-exp_25_60-associate\n",
      "resumes-cyber+security-exp_121+-bachelor\n",
      "resumes-cyber+security-exp_121+-doctor\n",
      "resumes-cyber+security-exp_121+-master\n",
      "resumes-cyber+security-exp_121+-diploma\n",
      "resumes-cyber+security-exp_121+-associate\n",
      "resumes-cyber+security-exp_61_120-bachelor\n",
      "resumes-cyber+security-exp_61_120-doctor\n",
      "resumes-cyber+security-exp_61_120-master\n",
      "resumes-cyber+security-exp_61_120-diploma\n",
      "resumes-cyber+security-exp_61_120-associate\n"
     ]
    },
    {
     "name": "stderr",
     "output_type": "stream",
     "text": [
      "\n",
      "Exception in thread Thread-34:\n",
      "Traceback (most recent call last):\n",
      "  File \"/usr/local/Cellar/python3/3.5.1/Frameworks/Python.framework/Versions/3.5/lib/python3.5/threading.py\", line 914, in _bootstrap_inner\n",
      "    self.run()\n",
      "  File \"/usr/local/Cellar/python3/3.5.1/Frameworks/Python.framework/Versions/3.5/lib/python3.5/site-packages/tqdm/_tqdm.py\", line 144, in run\n",
      "    for instance in self.tqdm_cls._instances:\n",
      "  File \"/usr/local/Cellar/python3/3.5.1/Frameworks/Python.framework/Versions/3.5/lib/python3.5/_weakrefset.py\", line 60, in __iter__\n",
      "    for itemref in self.data:\n",
      "RuntimeError: Set changed size during iteration\n",
      "\n",
      "\n",
      "\r",
      "  0%|          | 0/100 [00:00<?, ?it/s]"
     ]
    },
    {
     "name": "stdout",
     "output_type": "stream",
     "text": [
      "No resumes\n",
      "https://www.indeed.com/resumes?q=cyber+security&co=US&rb=dt%3Aas%2Cjtyp%3Aft%2Cyoe%3A61-120&start=0\n",
      "resumes-cyber+security-exp_1_11-bachelor\n"
     ]
    },
    {
     "name": "stderr",
     "output_type": "stream",
     "text": [
      "\n",
      "\r",
      "  0%|          | 0/100 [00:00<?, ?it/s]"
     ]
    },
    {
     "name": "stdout",
     "output_type": "stream",
     "text": [
      "No resumes\n",
      "https://www.indeed.com/resumes?q=cyber+security&co=US&rb=dt%3Aba%2Cjtyp%3Aft%2Cyoe%3A1-11&start=0\n",
      "resumes-cyber+security-exp_1_11-doctor\n"
     ]
    },
    {
     "name": "stderr",
     "output_type": "stream",
     "text": [
      "\n",
      "\r",
      "  0%|          | 0/100 [00:00<?, ?it/s]"
     ]
    },
    {
     "name": "stdout",
     "output_type": "stream",
     "text": [
      "No resumes\n",
      "https://www.indeed.com/resumes?q=cyber+security&co=US&rb=dt%3Adoc%2Cjtyp%3Aft%2Cyoe%3A1-11&start=0\n",
      "resumes-cyber+security-exp_1_11-master\n"
     ]
    },
    {
     "name": "stderr",
     "output_type": "stream",
     "text": [
      "\n",
      "\r",
      "  0%|          | 0/100 [00:00<?, ?it/s]"
     ]
    },
    {
     "name": "stdout",
     "output_type": "stream",
     "text": [
      "No resumes\n",
      "https://www.indeed.com/resumes?q=cyber+security&co=US&rb=dt%3Ams%2Cjtyp%3Aft%2Cyoe%3A1-11&start=0\n",
      "resumes-cyber+security-exp_1_11-diploma\n"
     ]
    },
    {
     "name": "stderr",
     "output_type": "stream",
     "text": [
      "\n",
      "\r",
      "  0%|          | 0/100 [00:00<?, ?it/s]"
     ]
    },
    {
     "name": "stdout",
     "output_type": "stream",
     "text": [
      "No resumes\n",
      "https://www.indeed.com/resumes?q=cyber+security&co=US&rb=dt%3Adi%2Cjtyp%3Aft%2Cyoe%3A1-11&start=0\n",
      "resumes-cyber+security-exp_1_11-associate\n"
     ]
    },
    {
     "name": "stderr",
     "output_type": "stream",
     "text": [
      "\n",
      "  0%|          | 0/100 [00:00<?, ?it/s]\n"
     ]
    },
    {
     "name": "stdout",
     "output_type": "stream",
     "text": [
      "No resumes\n",
      "https://www.indeed.com/resumes?q=cyber+security&co=US&rb=dt%3Aas%2Cjtyp%3Aft%2Cyoe%3A1-11&start=0\n"
     ]
    }
   ],
   "source": [
    "df_supply_side = indeed_scraping.get_supply_side(query)"
   ]
  },
  {
   "cell_type": "code",
   "execution_count": 46,
   "metadata": {
    "ExecuteTime": {
     "end_time": "2018-04-22T01:48:56.924170Z",
     "start_time": "2018-04-22T01:48:56.881742Z"
    }
   },
   "outputs": [
    {
     "data": {
      "text/plain": [
       "42673"
      ]
     },
     "execution_count": 46,
     "metadata": {},
     "output_type": "execute_result"
    }
   ],
   "source": [
    "len(df_supply_side)"
   ]
  },
  {
   "cell_type": "code",
   "execution_count": 33,
   "metadata": {
    "ExecuteTime": {
     "end_time": "2018-04-22T01:29:12.113224Z",
     "start_time": "2018-04-22T01:29:12.043642Z"
    }
   },
   "outputs": [
    {
     "data": {
      "text/html": [
       "<div>\n",
       "<style scoped>\n",
       "    .dataframe tbody tr th:only-of-type {\n",
       "        vertical-align: middle;\n",
       "    }\n",
       "\n",
       "    .dataframe tbody tr th {\n",
       "        vertical-align: top;\n",
       "    }\n",
       "\n",
       "    .dataframe thead th {\n",
       "        text-align: right;\n",
       "    }\n",
       "</style>\n",
       "<table border=\"1\" class=\"dataframe\">\n",
       "  <thead>\n",
       "    <tr style=\"text-align: right;\">\n",
       "      <th></th>\n",
       "      <th>experience</th>\n",
       "      <th>location</th>\n",
       "      <th>company</th>\n",
       "      <th>degree</th>\n",
       "      <th>partition</th>\n",
       "    </tr>\n",
       "  </thead>\n",
       "  <tbody>\n",
       "    <tr>\n",
       "      <th>0</th>\n",
       "      <td>Intern</td>\n",
       "      <td>Missoula, MT</td>\n",
       "      <td>Golftec</td>\n",
       "      <td>BS</td>\n",
       "      <td>resumes-cyber+security-exp_25_60-bachelor</td>\n",
       "    </tr>\n",
       "    <tr>\n",
       "      <th>1</th>\n",
       "      <td>member of the Linux / UNIX System Administration</td>\n",
       "      <td>Beltsville, MD</td>\n",
       "      <td>Coastal International Security</td>\n",
       "      <td>BACHELOR'S</td>\n",
       "      <td>resumes-cyber+security-exp_25_60-bachelor</td>\n",
       "    </tr>\n",
       "    <tr>\n",
       "      <th>2</th>\n",
       "      <td>Summer Analyst - Equity Research, Oil &amp; Gas</td>\n",
       "      <td>New York, NY</td>\n",
       "      <td>UOB-Kay Hian</td>\n",
       "      <td>Bachelor of Arts</td>\n",
       "      <td>resumes-cyber+security-exp_25_60-bachelor</td>\n",
       "    </tr>\n",
       "    <tr>\n",
       "      <th>3</th>\n",
       "      <td>SOC Analyst</td>\n",
       "      <td>Germantown, MD</td>\n",
       "      <td>Packet Tech, Inc</td>\n",
       "      <td>Bachelor of Science in Information Systems</td>\n",
       "      <td>resumes-cyber+security-exp_25_60-bachelor</td>\n",
       "    </tr>\n",
       "    <tr>\n",
       "      <th>4</th>\n",
       "      <td>Information Security Analyst</td>\n",
       "      <td>Hyattsville, MD</td>\n",
       "      <td>Walter System Inc</td>\n",
       "      <td>NaN</td>\n",
       "      <td>resumes-cyber+security-exp_25_60-bachelor</td>\n",
       "    </tr>\n",
       "    <tr>\n",
       "      <th>5</th>\n",
       "      <td>IT Internship</td>\n",
       "      <td>Newburgh, IN</td>\n",
       "      <td>Dental Health Options by Health Resources Inc</td>\n",
       "      <td>Bachelor of Science</td>\n",
       "      <td>resumes-cyber+security-exp_25_60-bachelor</td>\n",
       "    </tr>\n",
       "    <tr>\n",
       "      <th>6</th>\n",
       "      <td>Undergraduate Student Research Assistant</td>\n",
       "      <td>Washington, DC</td>\n",
       "      <td>Breast Imaging Simulation</td>\n",
       "      <td>Bachelor of Science in Information Technology</td>\n",
       "      <td>resumes-cyber+security-exp_25_60-bachelor</td>\n",
       "    </tr>\n",
       "    <tr>\n",
       "      <th>7</th>\n",
       "      <td>Process Engineer Co-op</td>\n",
       "      <td>Charlotte, NC</td>\n",
       "      <td>Magna Norplas</td>\n",
       "      <td>Bachelors of Science</td>\n",
       "      <td>resumes-cyber+security-exp_25_60-bachelor</td>\n",
       "    </tr>\n",
       "    <tr>\n",
       "      <th>8</th>\n",
       "      <td>Computer Crimes Unit Intern</td>\n",
       "      <td>Rockville, MD</td>\n",
       "      <td>Rhode Island State Police</td>\n",
       "      <td>B.S.</td>\n",
       "      <td>resumes-cyber+security-exp_25_60-bachelor</td>\n",
       "    </tr>\n",
       "    <tr>\n",
       "      <th>9</th>\n",
       "      <td>Project Engineer</td>\n",
       "      <td>Bothell, WA</td>\n",
       "      <td>Sterling Realty Organization</td>\n",
       "      <td>Bachelor of Science</td>\n",
       "      <td>resumes-cyber+security-exp_25_60-bachelor</td>\n",
       "    </tr>\n",
       "  </tbody>\n",
       "</table>\n",
       "</div>"
      ],
      "text/plain": [
       "                                         experience         location  \\\n",
       "0                                            Intern     Missoula, MT   \n",
       "1  member of the Linux / UNIX System Administration   Beltsville, MD   \n",
       "2       Summer Analyst - Equity Research, Oil & Gas     New York, NY   \n",
       "3                                       SOC Analyst   Germantown, MD   \n",
       "4                      Information Security Analyst  Hyattsville, MD   \n",
       "5                                     IT Internship     Newburgh, IN   \n",
       "6          Undergraduate Student Research Assistant   Washington, DC   \n",
       "7                            Process Engineer Co-op    Charlotte, NC   \n",
       "8                       Computer Crimes Unit Intern    Rockville, MD   \n",
       "9                                  Project Engineer      Bothell, WA   \n",
       "\n",
       "                                         company  \\\n",
       "0                                        Golftec   \n",
       "1                 Coastal International Security   \n",
       "2                                   UOB-Kay Hian   \n",
       "3                               Packet Tech, Inc   \n",
       "4                              Walter System Inc   \n",
       "5  Dental Health Options by Health Resources Inc   \n",
       "6                      Breast Imaging Simulation   \n",
       "7                                  Magna Norplas   \n",
       "8                      Rhode Island State Police   \n",
       "9                   Sterling Realty Organization   \n",
       "\n",
       "                                          degree  \\\n",
       "0                                             BS   \n",
       "1                                     BACHELOR'S   \n",
       "2                               Bachelor of Arts   \n",
       "3     Bachelor of Science in Information Systems   \n",
       "4                                            NaN   \n",
       "5                            Bachelor of Science   \n",
       "6  Bachelor of Science in Information Technology   \n",
       "7                           Bachelors of Science   \n",
       "8                                           B.S.   \n",
       "9                            Bachelor of Science   \n",
       "\n",
       "                                   partition  \n",
       "0  resumes-cyber+security-exp_25_60-bachelor  \n",
       "1  resumes-cyber+security-exp_25_60-bachelor  \n",
       "2  resumes-cyber+security-exp_25_60-bachelor  \n",
       "3  resumes-cyber+security-exp_25_60-bachelor  \n",
       "4  resumes-cyber+security-exp_25_60-bachelor  \n",
       "5  resumes-cyber+security-exp_25_60-bachelor  \n",
       "6  resumes-cyber+security-exp_25_60-bachelor  \n",
       "7  resumes-cyber+security-exp_25_60-bachelor  \n",
       "8  resumes-cyber+security-exp_25_60-bachelor  \n",
       "9  resumes-cyber+security-exp_25_60-bachelor  "
      ]
     },
     "execution_count": 33,
     "metadata": {},
     "output_type": "execute_result"
    }
   ],
   "source": [
    "df_supply_side.head(n=10)"
   ]
  },
  {
   "cell_type": "code",
   "execution_count": 38,
   "metadata": {
    "ExecuteTime": {
     "end_time": "2018-04-22T01:33:09.782703Z",
     "start_time": "2018-04-22T01:33:09.677264Z"
    }
   },
   "outputs": [],
   "source": [
    "cities = df_supply_side['location'].apply(lambda x: x.split(',') [0]if isinstance(x, str) else '').unique()"
   ]
  },
  {
   "cell_type": "code",
   "execution_count": 70,
   "metadata": {
    "ExecuteTime": {
     "end_time": "2018-04-22T02:30:41.951478Z",
     "start_time": "2018-04-22T02:30:41.893463Z"
    }
   },
   "outputs": [],
   "source": [
    "np.save(arr=np.array(list(set(df_supply_side['location'].dropna().values))), \n",
    "        file=os.path.join(DATA_DIR, 'cities.npy'))"
   ]
  },
  {
   "cell_type": "code",
   "execution_count": null,
   "metadata": {},
   "outputs": [],
   "source": []
  },
  {
   "cell_type": "code",
   "execution_count": null,
   "metadata": {},
   "outputs": [],
   "source": []
  },
  {
   "cell_type": "code",
   "execution_count": null,
   "metadata": {},
   "outputs": [],
   "source": []
  },
  {
   "cell_type": "code",
   "execution_count": null,
   "metadata": {},
   "outputs": [],
   "source": []
  }
 ],
 "metadata": {
  "hide_input": false,
  "kernelspec": {
   "display_name": "Python 3",
   "language": "python",
   "name": "python3"
  },
  "language_info": {
   "codemirror_mode": {
    "name": "ipython",
    "version": 3
   },
   "file_extension": ".py",
   "mimetype": "text/x-python",
   "name": "python",
   "nbconvert_exporter": "python",
   "pygments_lexer": "ipython3",
   "version": "3.5.1"
  },
  "nav_menu": {},
  "toc": {
   "navigate_menu": true,
   "number_sections": true,
   "sideBar": true,
   "threshold": 6,
   "toc_cell": false,
   "toc_section_display": "block",
   "toc_window_display": false
  }
 },
 "nbformat": 4,
 "nbformat_minor": 2
}
