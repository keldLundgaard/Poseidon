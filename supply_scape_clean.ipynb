{
 "cells": [
  {
   "cell_type": "code",
   "execution_count": 20,
   "metadata": {
    "ExecuteTime": {
     "end_time": "2018-04-22T00:26:13.288714Z",
     "start_time": "2018-04-22T00:26:13.222515Z"
    },
    "run_control": {
     "frozen": false,
     "read_only": false
    }
   },
   "outputs": [
    {
     "name": "stdout",
     "output_type": "stream",
     "text": [
      "Populating the interactive namespace from numpy and matplotlib\n",
      "The autoreload extension is already loaded. To reload it, use:\n",
      "  %reload_ext autoreload\n"
     ]
    }
   ],
   "source": [
    "% pylab inline\n",
    "\n",
    "%load_ext autoreload\n",
    "%autoreload 2\n",
    "\n",
    "import requests\n",
    "import bs4\n",
    "from bs4 import BeautifulSoup\n",
    "import csv\n",
    "import pandas as pd\n",
    "from tqdm import tqdm\n",
    "import os\n",
    "import indeed_scraping\n",
    "\n",
    "DATA_DIR = os.path.join(os.getcwd(), 'data')\n",
    "try:\n",
    "    os.makedirs(DATA_DIR)\n",
    "except FileExistsError:\n",
    "    pass"
   ]
  },
  {
   "cell_type": "code",
   "execution_count": 21,
   "metadata": {
    "ExecuteTime": {
     "end_time": "2018-04-22T00:26:14.424976Z",
     "start_time": "2018-04-22T00:26:14.389416Z"
    }
   },
   "outputs": [],
   "source": [
    "query = 'cyber+security'"
   ]
  },
  {
   "cell_type": "code",
   "execution_count": 24,
   "metadata": {
    "ExecuteTime": {
     "end_time": "2018-04-22T00:26:20.102663Z",
     "start_time": "2018-04-22T00:26:19.644988Z"
    }
   },
   "outputs": [],
   "source": [
    "query_url = 'https://www.indeed.com/resumes?q=cyber+security&co=US&rb=dt%3Aba%2Cjtyp%3Aft%2Cyoe%3A12-24&start=0'\n",
    "page = requests.get(query_url)\n",
    "\n",
    "soup = BeautifulSoup(page.text, \"html.parser\")\n",
    "\n",
    "divs = soup.find_all(name=\"div\", attrs={\"class\":\"sre-content\"})"
   ]
  },
  {
   "cell_type": "code",
   "execution_count": 25,
   "metadata": {
    "ExecuteTime": {
     "end_time": "2018-04-22T00:26:20.539386Z",
     "start_time": "2018-04-22T00:26:20.498732Z"
    }
   },
   "outputs": [
    {
     "data": {
      "text/plain": [
       "0"
      ]
     },
     "execution_count": 25,
     "metadata": {},
     "output_type": "execute_result"
    }
   ],
   "source": [
    "len(divs)"
   ]
  },
  {
   "cell_type": "code",
   "execution_count": 19,
   "metadata": {
    "ExecuteTime": {
     "end_time": "2018-04-22T00:23:20.469636Z",
     "start_time": "2018-04-22T00:21:52.811695Z"
    }
   },
   "outputs": [
    {
     "name": "stdout",
     "output_type": "stream",
     "text": [
      "resumes-cyber+security-exp_12_24-bachelor\n",
      "resumes-cyber+security-exp_12_24-doctor\n",
      "resumes-cyber+security-exp_12_24-master\n",
      "resumes-cyber+security-exp_12_24-diploma\n",
      "resumes-cyber+security-exp_12_24-associate\n",
      "resumes-cyber+security-exp_25_60-bachelor\n",
      "resumes-cyber+security-exp_25_60-doctor\n"
     ]
    },
    {
     "name": "stderr",
     "output_type": "stream",
     "text": [
      "  7%|▋         | 7/100 [00:04<01:01,  1.52it/s]"
     ]
    },
    {
     "name": "stdout",
     "output_type": "stream",
     "text": [
      "Resumes 205\n",
      "resumes-cyber+security-exp_25_60-master\n"
     ]
    },
    {
     "name": "stderr",
     "output_type": "stream",
     "text": [
      "\n",
      " 87%|████████▋ | 87/100 [01:13<00:10,  1.19it/s]"
     ]
    },
    {
     "name": "stdout",
     "output_type": "stream",
     "text": [
      "Resumes 4,240\n",
      "resumes-cyber+security-exp_25_60-diploma\n"
     ]
    },
    {
     "name": "stderr",
     "output_type": "stream",
     "text": [
      "\n",
      "  0%|          | 0/100 [00:00<?, ?it/s]\u001b[A\n",
      "\u001b[A"
     ]
    },
    {
     "name": "stdout",
     "output_type": "stream",
     "text": [
      "No resumes\n",
      "https://www.indeed.com/resumes?q=cyber+security&co=US&rb=dt%3Adi%2Cjtyp%3Aft%2Cyoe%3A25-60&start=0\n",
      "resumes-cyber+security-exp_25_60-associate\n"
     ]
    },
    {
     "name": "stderr",
     "output_type": "stream",
     "text": [
      "\n",
      "  0%|          | 0/100 [00:00<?, ?it/s]\u001b[A\n",
      "\u001b[A"
     ]
    },
    {
     "name": "stdout",
     "output_type": "stream",
     "text": [
      "No resumes\n",
      "https://www.indeed.com/resumes?q=cyber+security&co=US&rb=dt%3Aas%2Cjtyp%3Aft%2Cyoe%3A25-60&start=0\n",
      "resumes-cyber+security-exp_121+-bachelor\n"
     ]
    },
    {
     "name": "stderr",
     "output_type": "stream",
     "text": [
      "\n",
      "  0%|          | 0/100 [00:00<?, ?it/s]\u001b[A\n",
      "\u001b[A"
     ]
    },
    {
     "name": "stdout",
     "output_type": "stream",
     "text": [
      "No resumes\n",
      "https://www.indeed.com/resumes?q=cyber+security&co=US&rb=dt%3Aba%2Cjtyp%3Aft%2Cyoe%3A121&start=0\n",
      "resumes-cyber+security-exp_121+-doctor\n"
     ]
    },
    {
     "name": "stderr",
     "output_type": "stream",
     "text": [
      "\n",
      "  0%|          | 0/100 [00:00<?, ?it/s]\u001b[A\n",
      "\u001b[A"
     ]
    },
    {
     "name": "stdout",
     "output_type": "stream",
     "text": [
      "No resumes\n",
      "https://www.indeed.com/resumes?q=cyber+security&co=US&rb=dt%3Adoc%2Cjtyp%3Aft%2Cyoe%3A121&start=0\n",
      "resumes-cyber+security-exp_121+-master\n"
     ]
    },
    {
     "name": "stderr",
     "output_type": "stream",
     "text": [
      "\n",
      "  0%|          | 0/100 [00:00<?, ?it/s]\u001b[A\n",
      "\u001b[A"
     ]
    },
    {
     "name": "stdout",
     "output_type": "stream",
     "text": [
      "No resumes\n",
      "https://www.indeed.com/resumes?q=cyber+security&co=US&rb=dt%3Ams%2Cjtyp%3Aft%2Cyoe%3A121&start=0\n",
      "resumes-cyber+security-exp_121+-diploma\n"
     ]
    },
    {
     "name": "stderr",
     "output_type": "stream",
     "text": [
      "\n",
      "  0%|          | 0/100 [00:00<?, ?it/s]\u001b[A\n",
      "\u001b[A"
     ]
    },
    {
     "name": "stdout",
     "output_type": "stream",
     "text": [
      "No resumes\n",
      "https://www.indeed.com/resumes?q=cyber+security&co=US&rb=dt%3Adi%2Cjtyp%3Aft%2Cyoe%3A121&start=0\n",
      "resumes-cyber+security-exp_121+-associate\n"
     ]
    },
    {
     "name": "stderr",
     "output_type": "stream",
     "text": [
      "\n",
      "  0%|          | 0/100 [00:00<?, ?it/s]\u001b[A\n",
      "\u001b[A"
     ]
    },
    {
     "name": "stdout",
     "output_type": "stream",
     "text": [
      "No resumes\n",
      "https://www.indeed.com/resumes?q=cyber+security&co=US&rb=dt%3Aas%2Cjtyp%3Aft%2Cyoe%3A121&start=0\n",
      "resumes-cyber+security-exp_61_120-bachelor\n"
     ]
    },
    {
     "name": "stderr",
     "output_type": "stream",
     "text": [
      "\n",
      "  0%|          | 0/100 [00:00<?, ?it/s]\u001b[A\n",
      "\u001b[A"
     ]
    },
    {
     "name": "stdout",
     "output_type": "stream",
     "text": [
      "No resumes\n",
      "https://www.indeed.com/resumes?q=cyber+security&co=US&rb=dt%3Aba%2Cjtyp%3Aft%2Cyoe%3A61-120&start=0\n",
      "resumes-cyber+security-exp_61_120-doctor\n"
     ]
    },
    {
     "name": "stderr",
     "output_type": "stream",
     "text": [
      "\n",
      "  0%|          | 0/100 [00:00<?, ?it/s]\u001b[A\n",
      "\u001b[A"
     ]
    },
    {
     "name": "stdout",
     "output_type": "stream",
     "text": [
      "No resumes\n",
      "https://www.indeed.com/resumes?q=cyber+security&co=US&rb=dt%3Adoc%2Cjtyp%3Aft%2Cyoe%3A61-120&start=0\n",
      "resumes-cyber+security-exp_61_120-master\n"
     ]
    },
    {
     "name": "stderr",
     "output_type": "stream",
     "text": [
      "\n",
      "  0%|          | 0/100 [00:00<?, ?it/s]\u001b[A\n",
      "\u001b[A"
     ]
    },
    {
     "name": "stdout",
     "output_type": "stream",
     "text": [
      "No resumes\n",
      "https://www.indeed.com/resumes?q=cyber+security&co=US&rb=dt%3Ams%2Cjtyp%3Aft%2Cyoe%3A61-120&start=0\n",
      "resumes-cyber+security-exp_61_120-diploma\n"
     ]
    },
    {
     "name": "stderr",
     "output_type": "stream",
     "text": [
      "\n",
      "  0%|          | 0/100 [00:00<?, ?it/s]\u001b[A\n",
      "\u001b[A"
     ]
    },
    {
     "name": "stdout",
     "output_type": "stream",
     "text": [
      "No resumes\n",
      "https://www.indeed.com/resumes?q=cyber+security&co=US&rb=dt%3Adi%2Cjtyp%3Aft%2Cyoe%3A61-120&start=0\n",
      "resumes-cyber+security-exp_61_120-associate\n"
     ]
    },
    {
     "name": "stderr",
     "output_type": "stream",
     "text": [
      "\n",
      "  0%|          | 0/100 [00:00<?, ?it/s]\u001b[A\n",
      "\u001b[A"
     ]
    },
    {
     "name": "stdout",
     "output_type": "stream",
     "text": [
      "No resumes\n",
      "https://www.indeed.com/resumes?q=cyber+security&co=US&rb=dt%3Aas%2Cjtyp%3Aft%2Cyoe%3A61-120&start=0\n",
      "resumes-cyber+security-exp_1_11-bachelor\n"
     ]
    },
    {
     "name": "stderr",
     "output_type": "stream",
     "text": [
      "\n",
      "  0%|          | 0/100 [00:00<?, ?it/s]\u001b[A\n",
      "\u001b[A"
     ]
    },
    {
     "name": "stdout",
     "output_type": "stream",
     "text": [
      "No resumes\n",
      "https://www.indeed.com/resumes?q=cyber+security&co=US&rb=dt%3Aba%2Cjtyp%3Aft%2Cyoe%3A1-11&start=0\n",
      "resumes-cyber+security-exp_1_11-doctor\n"
     ]
    },
    {
     "name": "stderr",
     "output_type": "stream",
     "text": [
      "\n",
      "  0%|          | 0/100 [00:00<?, ?it/s]\u001b[A\n",
      "\u001b[A"
     ]
    },
    {
     "name": "stdout",
     "output_type": "stream",
     "text": [
      "No resumes\n",
      "https://www.indeed.com/resumes?q=cyber+security&co=US&rb=dt%3Adoc%2Cjtyp%3Aft%2Cyoe%3A1-11&start=0\n",
      "resumes-cyber+security-exp_1_11-master\n"
     ]
    },
    {
     "name": "stderr",
     "output_type": "stream",
     "text": [
      "\n",
      "  0%|          | 0/100 [00:00<?, ?it/s]\u001b[A\n",
      "\u001b[A"
     ]
    },
    {
     "name": "stdout",
     "output_type": "stream",
     "text": [
      "No resumes\n",
      "https://www.indeed.com/resumes?q=cyber+security&co=US&rb=dt%3Ams%2Cjtyp%3Aft%2Cyoe%3A1-11&start=0\n",
      "resumes-cyber+security-exp_1_11-diploma\n"
     ]
    },
    {
     "name": "stderr",
     "output_type": "stream",
     "text": [
      "\n",
      "  0%|          | 0/100 [00:00<?, ?it/s]\u001b[A\n",
      "\u001b[A"
     ]
    },
    {
     "name": "stdout",
     "output_type": "stream",
     "text": [
      "No resumes\n",
      "https://www.indeed.com/resumes?q=cyber+security&co=US&rb=dt%3Adi%2Cjtyp%3Aft%2Cyoe%3A1-11&start=0\n",
      "resumes-cyber+security-exp_1_11-associate\n"
     ]
    },
    {
     "name": "stderr",
     "output_type": "stream",
     "text": [
      "\n",
      "  0%|          | 0/100 [00:00<?, ?it/s]\u001b[A\n",
      "Exception in thread Thread-28:\n",
      "Traceback (most recent call last):\n",
      "  File \"/usr/local/Cellar/python3/3.5.1/Frameworks/Python.framework/Versions/3.5/lib/python3.5/threading.py\", line 914, in _bootstrap_inner\n",
      "    self.run()\n",
      "  File \"/usr/local/Cellar/python3/3.5.1/Frameworks/Python.framework/Versions/3.5/lib/python3.5/site-packages/tqdm/_tqdm.py\", line 144, in run\n",
      "    for instance in self.tqdm_cls._instances:\n",
      "  File \"/usr/local/Cellar/python3/3.5.1/Frameworks/Python.framework/Versions/3.5/lib/python3.5/_weakrefset.py\", line 60, in __iter__\n",
      "    for itemref in self.data:\n",
      "RuntimeError: Set changed size during iteration\n",
      "\n",
      "\n"
     ]
    },
    {
     "name": "stdout",
     "output_type": "stream",
     "text": [
      "No resumes\n",
      "https://www.indeed.com/resumes?q=cyber+security&co=US&rb=dt%3Aas%2Cjtyp%3Aft%2Cyoe%3A1-11&start=0\n"
     ]
    }
   ],
   "source": [
    "df_supply_side = indeed_scraping.get_supply_side(query)"
   ]
  },
  {
   "cell_type": "code",
   "execution_count": null,
   "metadata": {},
   "outputs": [],
   "source": []
  },
  {
   "cell_type": "code",
   "execution_count": null,
   "metadata": {},
   "outputs": [],
   "source": []
  },
  {
   "cell_type": "code",
   "execution_count": null,
   "metadata": {},
   "outputs": [],
   "source": []
  },
  {
   "cell_type": "code",
   "execution_count": null,
   "metadata": {},
   "outputs": [],
   "source": []
  },
  {
   "cell_type": "code",
   "execution_count": null,
   "metadata": {},
   "outputs": [],
   "source": []
  },
  {
   "cell_type": "code",
   "execution_count": null,
   "metadata": {},
   "outputs": [],
   "source": []
  },
  {
   "cell_type": "code",
   "execution_count": null,
   "metadata": {},
   "outputs": [],
   "source": []
  },
  {
   "cell_type": "code",
   "execution_count": 3,
   "metadata": {
    "ExecuteTime": {
     "end_time": "2018-04-21T23:58:08.994082Z",
     "start_time": "2018-04-21T23:43:52.547060Z"
    }
   },
   "outputs": [
    {
     "name": "stdout",
     "output_type": "stream",
     "text": [
      "resumes-cyber+security-exp_1_11-master\n"
     ]
    },
    {
     "name": "stderr",
     "output_type": "stream",
     "text": [
      " 10%|█         | 10/100 [00:07<01:06,  1.35it/s]"
     ]
    },
    {
     "name": "stdout",
     "output_type": "stream",
     "text": [
      "resumes-cyber+security-exp_1_11-associate\n"
     ]
    },
    {
     "name": "stderr",
     "output_type": "stream",
     "text": [
      "\n",
      "  7%|▋         | 7/100 [00:04<00:56,  1.66it/s]"
     ]
    },
    {
     "name": "stdout",
     "output_type": "stream",
     "text": [
      "resumes-cyber+security-exp_1_11-bachelor\n"
     ]
    },
    {
     "name": "stderr",
     "output_type": "stream",
     "text": [
      "\n",
      " 26%|██▌       | 26/100 [00:21<01:01,  1.21it/s]"
     ]
    },
    {
     "name": "stdout",
     "output_type": "stream",
     "text": [
      "resumes-cyber+security-exp_1_11-doctor\n"
     ]
    },
    {
     "name": "stderr",
     "output_type": "stream",
     "text": [
      "\n",
      "  0%|          | 0/100 [00:00<?, ?it/s]\u001b[A\n",
      "  1%|          | 1/100 [00:00<00:23,  4.13it/s]\u001b[A\n",
      "\u001b[A"
     ]
    },
    {
     "name": "stdout",
     "output_type": "stream",
     "text": [
      "resumes-cyber+security-exp_1_11-diploma\n"
     ]
    },
    {
     "name": "stderr",
     "output_type": "stream",
     "text": [
      "\n",
      "  0%|          | 0/100 [00:00<?, ?it/s]\u001b[A\n",
      "  1%|          | 1/100 [00:00<01:18,  1.26it/s]\u001b[A\n",
      "  2%|▏         | 2/100 [00:01<01:15,  1.30it/s]\u001b[A\n",
      "  3%|▎         | 3/100 [00:02<01:07,  1.43it/s]\u001b[A\n",
      "  4%|▍         | 4/100 [00:02<01:01,  1.56it/s]\u001b[A\n",
      "\u001b[A"
     ]
    },
    {
     "name": "stdout",
     "output_type": "stream",
     "text": [
      "resumes-cyber+security-exp_12_24-master\n"
     ]
    },
    {
     "name": "stderr",
     "output_type": "stream",
     "text": [
      "\n",
      "  0%|          | 0/100 [00:00<?, ?it/s]\u001b[A\n",
      "  1%|          | 1/100 [00:00<01:23,  1.19it/s]\u001b[A\n",
      "  2%|▏         | 2/100 [00:01<01:25,  1.15it/s]\u001b[A\n",
      "  3%|▎         | 3/100 [00:02<01:24,  1.15it/s]\u001b[A\n",
      "  4%|▍         | 4/100 [00:03<01:23,  1.14it/s]\u001b[A\n",
      "  5%|▌         | 5/100 [00:04<01:24,  1.13it/s]\u001b[A\n",
      "Exception in thread Thread-6:\n",
      "Traceback (most recent call last):\n",
      "  File \"/usr/local/Cellar/python3/3.5.1/Frameworks/Python.framework/Versions/3.5/lib/python3.5/threading.py\", line 914, in _bootstrap_inner\n",
      "    self.run()\n",
      "  File \"/usr/local/Cellar/python3/3.5.1/Frameworks/Python.framework/Versions/3.5/lib/python3.5/site-packages/tqdm/_tqdm.py\", line 144, in run\n",
      "    for instance in self.tqdm_cls._instances:\n",
      "  File \"/usr/local/Cellar/python3/3.5.1/Frameworks/Python.framework/Versions/3.5/lib/python3.5/_weakrefset.py\", line 60, in __iter__\n",
      "    for itemref in self.data:\n",
      "RuntimeError: Set changed size during iteration\n",
      "\n",
      " 23%|██▎       | 23/100 [00:21<01:12,  1.07it/s]"
     ]
    },
    {
     "name": "stdout",
     "output_type": "stream",
     "text": [
      "resumes-cyber+security-exp_12_24-associate\n"
     ]
    },
    {
     "name": "stderr",
     "output_type": "stream",
     "text": [
      "\n",
      " 14%|█▍        | 14/100 [00:11<01:11,  1.21it/s]"
     ]
    },
    {
     "name": "stdout",
     "output_type": "stream",
     "text": [
      "resumes-cyber+security-exp_12_24-bachelor\n"
     ]
    },
    {
     "name": "stderr",
     "output_type": "stream",
     "text": [
      "\n",
      "  0%|          | 0/100 [00:00<?, ?it/s]\u001b[A\n",
      "  1%|          | 1/100 [00:00<01:24,  1.17it/s]\u001b[A\n",
      "  2%|▏         | 2/100 [00:02<01:39,  1.02s/it]\u001b[A\n",
      "  3%|▎         | 3/100 [00:02<01:31,  1.06it/s]\u001b[A\n",
      "  4%|▍         | 4/100 [00:03<01:27,  1.10it/s]\u001b[A\n",
      "  5%|▌         | 5/100 [00:04<01:24,  1.12it/s]\u001b[A\n",
      "  6%|▌         | 6/100 [00:05<01:25,  1.10it/s]\u001b[A\n",
      "  7%|▋         | 7/100 [00:06<01:23,  1.12it/s]\u001b[A\n",
      "  8%|▊         | 8/100 [00:07<01:20,  1.14it/s]\u001b[A\n",
      "  9%|▉         | 9/100 [00:07<01:20,  1.13it/s]\u001b[A\n",
      "Exception in thread Thread-7:\n",
      "Traceback (most recent call last):\n",
      "  File \"/usr/local/Cellar/python3/3.5.1/Frameworks/Python.framework/Versions/3.5/lib/python3.5/threading.py\", line 914, in _bootstrap_inner\n",
      "    self.run()\n",
      "  File \"/usr/local/Cellar/python3/3.5.1/Frameworks/Python.framework/Versions/3.5/lib/python3.5/site-packages/tqdm/_tqdm.py\", line 144, in run\n",
      "    for instance in self.tqdm_cls._instances:\n",
      "  File \"/usr/local/Cellar/python3/3.5.1/Frameworks/Python.framework/Versions/3.5/lib/python3.5/_weakrefset.py\", line 60, in __iter__\n",
      "    for itemref in self.data:\n",
      "RuntimeError: Set changed size during iteration\n",
      "\n",
      " 54%|█████▍    | 54/100 [00:56<00:48,  1.05s/it]"
     ]
    },
    {
     "name": "stdout",
     "output_type": "stream",
     "text": [
      "resumes-cyber+security-exp_12_24-doctor\n"
     ]
    },
    {
     "name": "stderr",
     "output_type": "stream",
     "text": [
      "\n",
      "  2%|▏         | 2/100 [00:00<00:37,  2.63it/s]"
     ]
    },
    {
     "name": "stdout",
     "output_type": "stream",
     "text": [
      "resumes-cyber+security-exp_12_24-diploma\n"
     ]
    },
    {
     "name": "stderr",
     "output_type": "stream",
     "text": [
      "\n",
      "  9%|▉         | 9/100 [00:07<01:17,  1.17it/s]"
     ]
    },
    {
     "name": "stdout",
     "output_type": "stream",
     "text": [
      "resumes-cyber+security-exp_121+-master\n"
     ]
    },
    {
     "name": "stderr",
     "output_type": "stream",
     "text": [
      "\n",
      " 96%|█████████▌| 96/100 [01:42<00:04,  1.07s/it]"
     ]
    },
    {
     "name": "stdout",
     "output_type": "stream",
     "text": [
      "resumes-cyber+security-exp_121+-associate\n"
     ]
    },
    {
     "name": "stderr",
     "output_type": "stream",
     "text": [
      "\n",
      "  0%|          | 0/100 [00:00<?, ?it/s]\u001b[A\n",
      "  1%|          | 1/100 [00:01<01:41,  1.02s/it]\u001b[A\n",
      "  2%|▏         | 2/100 [00:01<01:32,  1.06it/s]\u001b[A\n",
      "  3%|▎         | 3/100 [00:02<01:26,  1.12it/s]\u001b[A\n",
      "  4%|▍         | 4/100 [00:03<01:24,  1.13it/s]\u001b[A\n",
      "  5%|▌         | 5/100 [00:04<01:24,  1.12it/s]\u001b[A\n",
      "  6%|▌         | 6/100 [00:05<01:23,  1.12it/s]\u001b[A\n",
      "  7%|▋         | 7/100 [00:06<01:22,  1.12it/s]\u001b[A\n",
      "  8%|▊         | 8/100 [00:07<01:22,  1.12it/s]\u001b[A\n",
      "Exception in thread Thread-10:\n",
      "Traceback (most recent call last):\n",
      "  File \"/usr/local/Cellar/python3/3.5.1/Frameworks/Python.framework/Versions/3.5/lib/python3.5/threading.py\", line 914, in _bootstrap_inner\n",
      "    self.run()\n",
      "  File \"/usr/local/Cellar/python3/3.5.1/Frameworks/Python.framework/Versions/3.5/lib/python3.5/site-packages/tqdm/_tqdm.py\", line 144, in run\n",
      "    for instance in self.tqdm_cls._instances:\n",
      "  File \"/usr/local/Cellar/python3/3.5.1/Frameworks/Python.framework/Versions/3.5/lib/python3.5/_weakrefset.py\", line 60, in __iter__\n",
      "    for itemref in self.data:\n",
      "RuntimeError: Set changed size during iteration\n",
      "\n",
      " 96%|█████████▌| 96/100 [01:31<00:03,  1.05it/s]"
     ]
    },
    {
     "name": "stdout",
     "output_type": "stream",
     "text": [
      "resumes-cyber+security-exp_121+-bachelor\n"
     ]
    },
    {
     "name": "stderr",
     "output_type": "stream",
     "text": [
      "\n",
      " 96%|█████████▌| 96/100 [01:35<00:03,  1.00it/s]"
     ]
    },
    {
     "name": "stdout",
     "output_type": "stream",
     "text": [
      "resumes-cyber+security-exp_121+-doctor\n"
     ]
    },
    {
     "name": "stderr",
     "output_type": "stream",
     "text": [
      "\n",
      "  0%|          | 0/100 [00:00<?, ?it/s]\u001b[A\n",
      "  1%|          | 1/100 [00:00<01:32,  1.07it/s]\u001b[A\n",
      "  2%|▏         | 2/100 [00:02<01:38,  1.01s/it]\u001b[A\n",
      "  3%|▎         | 3/100 [00:02<01:32,  1.05it/s]\u001b[A\n",
      "  4%|▍         | 4/100 [00:03<01:32,  1.04it/s]\u001b[A\n",
      "Exception in thread Thread-11:\n",
      "Traceback (most recent call last):\n",
      "  File \"/usr/local/Cellar/python3/3.5.1/Frameworks/Python.framework/Versions/3.5/lib/python3.5/threading.py\", line 914, in _bootstrap_inner\n",
      "    self.run()\n",
      "  File \"/usr/local/Cellar/python3/3.5.1/Frameworks/Python.framework/Versions/3.5/lib/python3.5/site-packages/tqdm/_tqdm.py\", line 144, in run\n",
      "    for instance in self.tqdm_cls._instances:\n",
      "  File \"/usr/local/Cellar/python3/3.5.1/Frameworks/Python.framework/Versions/3.5/lib/python3.5/_weakrefset.py\", line 60, in __iter__\n",
      "    for itemref in self.data:\n",
      "RuntimeError: Set changed size during iteration\n",
      "\n",
      " 57%|█████▋    | 57/100 [00:53<00:39,  1.08it/s]"
     ]
    },
    {
     "name": "stdout",
     "output_type": "stream",
     "text": [
      "resumes-cyber+security-exp_121+-diploma\n"
     ]
    },
    {
     "name": "stderr",
     "output_type": "stream",
     "text": [
      "\n",
      " 41%|████      | 41/100 [00:40<00:58,  1.01it/s]"
     ]
    },
    {
     "name": "stdout",
     "output_type": "stream",
     "text": [
      "resumes-cyber+security-exp_61_120-master\n"
     ]
    },
    {
     "name": "stderr",
     "output_type": "stream",
     "text": [
      "\n",
      "  0%|          | 0/100 [00:00<?, ?it/s]\u001b[A\n",
      "  1%|          | 1/100 [00:00<01:22,  1.20it/s]\u001b[A\n",
      "  2%|▏         | 2/100 [00:01<01:22,  1.18it/s]\u001b[A\n",
      "  3%|▎         | 3/100 [00:02<01:25,  1.13it/s]\u001b[A\n",
      "  4%|▍         | 4/100 [00:03<01:24,  1.14it/s]\u001b[A\n",
      "  5%|▌         | 5/100 [00:04<01:25,  1.11it/s]\u001b[A\n",
      "  6%|▌         | 6/100 [00:05<01:26,  1.09it/s]\u001b[A\n",
      "  7%|▋         | 7/100 [00:06<01:29,  1.04it/s]\u001b[A\n",
      "  8%|▊         | 8/100 [00:07<01:28,  1.04it/s]\u001b[A\n",
      "  9%|▉         | 9/100 [00:08<01:30,  1.01it/s]\u001b[A\n",
      "Exception in thread Thread-12:\n",
      "Traceback (most recent call last):\n",
      "  File \"/usr/local/Cellar/python3/3.5.1/Frameworks/Python.framework/Versions/3.5/lib/python3.5/threading.py\", line 914, in _bootstrap_inner\n",
      "    self.run()\n",
      "  File \"/usr/local/Cellar/python3/3.5.1/Frameworks/Python.framework/Versions/3.5/lib/python3.5/site-packages/tqdm/_tqdm.py\", line 144, in run\n",
      "    for instance in self.tqdm_cls._instances:\n",
      "  File \"/usr/local/Cellar/python3/3.5.1/Frameworks/Python.framework/Versions/3.5/lib/python3.5/_weakrefset.py\", line 60, in __iter__\n",
      "    for itemref in self.data:\n",
      "RuntimeError: Set changed size during iteration\n",
      "\n",
      " 96%|█████████▌| 96/100 [01:42<00:04,  1.07s/it]"
     ]
    },
    {
     "name": "stdout",
     "output_type": "stream",
     "text": [
      "resumes-cyber+security-exp_61_120-associate\n"
     ]
    },
    {
     "name": "stderr",
     "output_type": "stream",
     "text": [
      "\n",
      " 87%|████████▋ | 87/100 [01:30<00:13,  1.04s/it]"
     ]
    },
    {
     "name": "stdout",
     "output_type": "stream",
     "text": [
      "resumes-cyber+security-exp_61_120-bachelor\n"
     ]
    },
    {
     "name": "stderr",
     "output_type": "stream",
     "text": [
      "\n",
      "  0%|          | 0/100 [00:00<?, ?it/s]\u001b[A\n",
      "  1%|          | 1/100 [00:00<01:25,  1.16it/s]\u001b[A\n",
      "  2%|▏         | 2/100 [00:01<01:25,  1.14it/s]\u001b[A\n",
      "  3%|▎         | 3/100 [00:03<01:57,  1.21s/it]\u001b[A\n",
      "  4%|▍         | 4/100 [00:04<01:52,  1.17s/it]\u001b[A\n",
      "  5%|▌         | 5/100 [00:05<01:47,  1.13s/it]\u001b[A\n",
      "  6%|▌         | 6/100 [00:06<01:43,  1.10s/it]\u001b[A\n",
      "  7%|▋         | 7/100 [00:07<01:43,  1.11s/it]\u001b[A\n",
      "  8%|▊         | 8/100 [00:08<01:39,  1.08s/it]\u001b[A\n",
      "  9%|▉         | 9/100 [00:09<01:35,  1.05s/it]\u001b[A\n",
      "Exception in thread Thread-13:\n",
      "Traceback (most recent call last):\n",
      "  File \"/usr/local/Cellar/python3/3.5.1/Frameworks/Python.framework/Versions/3.5/lib/python3.5/threading.py\", line 914, in _bootstrap_inner\n",
      "    self.run()\n",
      "  File \"/usr/local/Cellar/python3/3.5.1/Frameworks/Python.framework/Versions/3.5/lib/python3.5/site-packages/tqdm/_tqdm.py\", line 144, in run\n",
      "    for instance in self.tqdm_cls._instances:\n",
      "  File \"/usr/local/Cellar/python3/3.5.1/Frameworks/Python.framework/Versions/3.5/lib/python3.5/_weakrefset.py\", line 60, in __iter__\n",
      "    for itemref in self.data:\n",
      "RuntimeError: Set changed size during iteration\n",
      "\n",
      " 96%|█████████▌| 96/100 [01:35<00:03,  1.00it/s]"
     ]
    },
    {
     "name": "stdout",
     "output_type": "stream",
     "text": [
      "resumes-cyber+security-exp_61_120-doctor\n"
     ]
    },
    {
     "name": "stderr",
     "output_type": "stream",
     "text": [
      "\n",
      " 14%|█▍        | 14/100 [00:12<01:17,  1.10it/s]"
     ]
    },
    {
     "name": "stdout",
     "output_type": "stream",
     "text": [
      "resumes-cyber+security-exp_61_120-diploma\n"
     ]
    },
    {
     "name": "stderr",
     "output_type": "stream",
     "text": [
      "\n",
      "  0%|          | 0/100 [00:00<?, ?it/s]\u001b[A\n",
      "  1%|          | 1/100 [00:00<01:27,  1.13it/s]\u001b[A\n",
      "  2%|▏         | 2/100 [00:02<01:46,  1.09s/it]\u001b[A\n",
      "  3%|▎         | 3/100 [00:03<01:47,  1.11s/it]\u001b[A\n",
      "  4%|▍         | 4/100 [00:04<01:43,  1.07s/it]\u001b[A\n",
      "  5%|▌         | 5/100 [00:05<01:45,  1.11s/it]\u001b[A\n",
      "  6%|▌         | 6/100 [00:06<01:44,  1.11s/it]\u001b[A\n",
      "Exception in thread Thread-14:\n",
      "Traceback (most recent call last):\n",
      "  File \"/usr/local/Cellar/python3/3.5.1/Frameworks/Python.framework/Versions/3.5/lib/python3.5/threading.py\", line 914, in _bootstrap_inner\n",
      "    self.run()\n",
      "  File \"/usr/local/Cellar/python3/3.5.1/Frameworks/Python.framework/Versions/3.5/lib/python3.5/site-packages/tqdm/_tqdm.py\", line 144, in run\n",
      "    for instance in self.tqdm_cls._instances:\n",
      "  File \"/usr/local/Cellar/python3/3.5.1/Frameworks/Python.framework/Versions/3.5/lib/python3.5/_weakrefset.py\", line 60, in __iter__\n",
      "    for itemref in self.data:\n",
      "RuntimeError: Set changed size during iteration\n",
      "\n",
      " 31%|███       | 31/100 [00:31<01:10,  1.03s/it]"
     ]
    },
    {
     "name": "stdout",
     "output_type": "stream",
     "text": [
      "resumes-cyber+security-exp_25_60-master\n"
     ]
    },
    {
     "name": "stderr",
     "output_type": "stream",
     "text": [
      "\n",
      "  0%|          | 0/100 [00:00<?, ?it/s]\n"
     ]
    },
    {
     "ename": "ValueError",
     "evalue": "No objects to concatenate",
     "output_type": "error",
     "traceback": [
      "\u001b[0;31m---------------------------------------------------------------------------\u001b[0m",
      "\u001b[0;31mValueError\u001b[0m                                Traceback (most recent call last)",
      "\u001b[0;32m<ipython-input-3-b0056a7950b3>\u001b[0m in \u001b[0;36m<module>\u001b[0;34m()\u001b[0m\n\u001b[1;32m     33\u001b[0m             \u001b[0mresumes_all_list\u001b[0m\u001b[0;34m.\u001b[0m\u001b[0mappend\u001b[0m\u001b[0;34m(\u001b[0m\u001b[0mindeed_scraping\u001b[0m\u001b[0;34m.\u001b[0m\u001b[0mextract_people_info\u001b[0m\u001b[0;34m(\u001b[0m\u001b[0mdivs\u001b[0m\u001b[0;34m)\u001b[0m\u001b[0;34m)\u001b[0m\u001b[0;34m\u001b[0m\u001b[0m\n\u001b[1;32m     34\u001b[0m \u001b[0;34m\u001b[0m\u001b[0m\n\u001b[0;32m---> 35\u001b[0;31m         \u001b[0mdf_partition\u001b[0m \u001b[0;34m=\u001b[0m \u001b[0mpd\u001b[0m\u001b[0;34m.\u001b[0m\u001b[0mconcat\u001b[0m\u001b[0;34m(\u001b[0m\u001b[0;34m[\u001b[0m\u001b[0mpd\u001b[0m\u001b[0;34m.\u001b[0m\u001b[0mDataFrame\u001b[0m\u001b[0;34m(\u001b[0m\u001b[0mplist\u001b[0m\u001b[0;34m)\u001b[0m \u001b[0;32mfor\u001b[0m \u001b[0mplist\u001b[0m \u001b[0;32min\u001b[0m \u001b[0mresumes_all_list\u001b[0m\u001b[0;34m]\u001b[0m\u001b[0;34m)\u001b[0m\u001b[0;34m\u001b[0m\u001b[0m\n\u001b[0m\u001b[1;32m     36\u001b[0m         \u001b[0mdf_partition\u001b[0m\u001b[0;34m.\u001b[0m\u001b[0mto_csv\u001b[0m\u001b[0;34m(\u001b[0m\u001b[0mos\u001b[0m\u001b[0;34m.\u001b[0m\u001b[0mpath\u001b[0m\u001b[0;34m.\u001b[0m\u001b[0mjoin\u001b[0m\u001b[0;34m(\u001b[0m\u001b[0mDATA_DIR\u001b[0m\u001b[0;34m,\u001b[0m \u001b[0mpartition\u001b[0m \u001b[0;34m+\u001b[0m \u001b[0;34m'.tsv'\u001b[0m\u001b[0;34m)\u001b[0m\u001b[0;34m,\u001b[0m \u001b[0msep\u001b[0m\u001b[0;34m=\u001b[0m\u001b[0;34m'\\t'\u001b[0m\u001b[0;34m)\u001b[0m\u001b[0;34m\u001b[0m\u001b[0m\n\u001b[1;32m     37\u001b[0m \u001b[0;34m\u001b[0m\u001b[0m\n",
      "\u001b[0;32m/usr/local/Cellar/python3/3.5.1/Frameworks/Python.framework/Versions/3.5/lib/python3.5/site-packages/pandas/core/reshape/concat.py\u001b[0m in \u001b[0;36mconcat\u001b[0;34m(objs, axis, join, join_axes, ignore_index, keys, levels, names, verify_integrity, copy)\u001b[0m\n\u001b[1;32m    210\u001b[0m                        \u001b[0mkeys\u001b[0m\u001b[0;34m=\u001b[0m\u001b[0mkeys\u001b[0m\u001b[0;34m,\u001b[0m \u001b[0mlevels\u001b[0m\u001b[0;34m=\u001b[0m\u001b[0mlevels\u001b[0m\u001b[0;34m,\u001b[0m \u001b[0mnames\u001b[0m\u001b[0;34m=\u001b[0m\u001b[0mnames\u001b[0m\u001b[0;34m,\u001b[0m\u001b[0;34m\u001b[0m\u001b[0m\n\u001b[1;32m    211\u001b[0m                        \u001b[0mverify_integrity\u001b[0m\u001b[0;34m=\u001b[0m\u001b[0mverify_integrity\u001b[0m\u001b[0;34m,\u001b[0m\u001b[0;34m\u001b[0m\u001b[0m\n\u001b[0;32m--> 212\u001b[0;31m                        copy=copy)\n\u001b[0m\u001b[1;32m    213\u001b[0m     \u001b[0;32mreturn\u001b[0m \u001b[0mop\u001b[0m\u001b[0;34m.\u001b[0m\u001b[0mget_result\u001b[0m\u001b[0;34m(\u001b[0m\u001b[0;34m)\u001b[0m\u001b[0;34m\u001b[0m\u001b[0m\n\u001b[1;32m    214\u001b[0m \u001b[0;34m\u001b[0m\u001b[0m\n",
      "\u001b[0;32m/usr/local/Cellar/python3/3.5.1/Frameworks/Python.framework/Versions/3.5/lib/python3.5/site-packages/pandas/core/reshape/concat.py\u001b[0m in \u001b[0;36m__init__\u001b[0;34m(self, objs, axis, join, join_axes, keys, levels, names, ignore_index, verify_integrity, copy)\u001b[0m\n\u001b[1;32m    243\u001b[0m \u001b[0;34m\u001b[0m\u001b[0m\n\u001b[1;32m    244\u001b[0m         \u001b[0;32mif\u001b[0m \u001b[0mlen\u001b[0m\u001b[0;34m(\u001b[0m\u001b[0mobjs\u001b[0m\u001b[0;34m)\u001b[0m \u001b[0;34m==\u001b[0m \u001b[0;36m0\u001b[0m\u001b[0;34m:\u001b[0m\u001b[0;34m\u001b[0m\u001b[0m\n\u001b[0;32m--> 245\u001b[0;31m             \u001b[0;32mraise\u001b[0m \u001b[0mValueError\u001b[0m\u001b[0;34m(\u001b[0m\u001b[0;34m'No objects to concatenate'\u001b[0m\u001b[0;34m)\u001b[0m\u001b[0;34m\u001b[0m\u001b[0m\n\u001b[0m\u001b[1;32m    246\u001b[0m \u001b[0;34m\u001b[0m\u001b[0m\n\u001b[1;32m    247\u001b[0m         \u001b[0;32mif\u001b[0m \u001b[0mkeys\u001b[0m \u001b[0;32mis\u001b[0m \u001b[0;32mNone\u001b[0m\u001b[0;34m:\u001b[0m\u001b[0;34m\u001b[0m\u001b[0m\n",
      "\u001b[0;31mValueError\u001b[0m: No objects to concatenate"
     ]
    }
   ],
   "source": [
    "def get_lots_of_resumes(query):\n",
    "    experience_dict = {\n",
    "        'exp_1_11': '1-11', \n",
    "        'exp_12_24': '12-24', \n",
    "        'exp_25_60': '25-60', \n",
    "        'exp_61_120': '61-120', \n",
    "        'exp_121+': '121'\n",
    "    }\n",
    "\n",
    "    degree_dict = {\n",
    "        'diploma': 'di', \n",
    "        'associate': 'as', \n",
    "        'bachelor': 'ba', \n",
    "        'master': 'ms', \n",
    "        'doctor': 'doc'\n",
    "    }\n",
    "    done_partitions = [\n",
    "        fn.split('.tsv')[0] \n",
    "        for fn in os.listdir(DATA_DIR) \n",
    "        if (\n",
    "            'tsv' in fn and \n",
    "            '_all_partitions' not in fn and \n",
    "            'resumes' in fn)]\n",
    "\n",
    "    for experience_key, experience in experience_dict.items():\n",
    "        for degree_key, degree in degree_dict.items():\n",
    "            partition = '-'.join(['resumes', query, experience_key, degree_key])\n",
    "            print(partition, flush=True)\n",
    "            if partition in done_partitions:\n",
    "                continue\n",
    "\n",
    "            resumes_all_list = []\n",
    "            for x in tqdm(range(0, 991, 10)):\n",
    "                query_url = (\n",
    "                    'https://www.indeed.com/resumes'\n",
    "                    '?q={:}&co=US&rb=dt%3A{:}%2Cjtyp%3Aft%2Cyoe%3A{:}&start={:}').format(\n",
    "                        query, degree, experience, x)\n",
    "\n",
    "                page = requests.get(query_url)\n",
    "\n",
    "                soup = BeautifulSoup(page.text, \"html.parser\")\n",
    "\n",
    "                divs = soup.find_all(name=\"div\", attrs={\"class\":\"sre-content\"})\n",
    "                if not len(divs):\n",
    "                    break\n",
    "                resumes_all_list.append(indeed_scraping.extract_people_info(divs))\n",
    "\n",
    "            df_partition = pd.concat([pd.DataFrame(plist) for plist in resumes_all_list])\n",
    "            df_partition.to_csv(os.path.join(DATA_DIR, partition + '.tsv'), sep='\\t')\n",
    "\n",
    "    dfs = []\n",
    "    for partition in done_partitions:\n",
    "        df = pd.read_csv(os.path.join(DATA_DIR, partition + '.tsv'), sep='\\t')\n",
    "        df = df[['company_name', 'location', 'title']]\n",
    "        df['partition'] = partition\n",
    "        dfs.append(df.reset_index(drop=True))\n",
    "\n",
    "    df_all_partitions = pd.concat(dfs)\n",
    "    df_all_partitions.to_csv(os.path.join(DATA_DIR, 'resumes_' + query + '_all_partitions.tsv'), sep='\\t')"
   ]
  },
  {
   "cell_type": "code",
   "execution_count": null,
   "metadata": {},
   "outputs": [],
   "source": []
  }
 ],
 "metadata": {
  "hide_input": false,
  "kernelspec": {
   "display_name": "Python 3",
   "language": "python",
   "name": "python3"
  },
  "language_info": {
   "codemirror_mode": {
    "name": "ipython",
    "version": 3
   },
   "file_extension": ".py",
   "mimetype": "text/x-python",
   "name": "python",
   "nbconvert_exporter": "python",
   "pygments_lexer": "ipython3",
   "version": "3.5.1"
  },
  "nav_menu": {},
  "toc": {
   "navigate_menu": true,
   "number_sections": true,
   "sideBar": true,
   "threshold": 6,
   "toc_cell": false,
   "toc_section_display": "block",
   "toc_window_display": false
  }
 },
 "nbformat": 4,
 "nbformat_minor": 2
}
