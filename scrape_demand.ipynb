{
 "cells": [
  {
   "cell_type": "code",
   "execution_count": 21,
   "metadata": {
    "ExecuteTime": {
     "end_time": "2018-04-21T21:28:55.538246Z",
     "start_time": "2018-04-21T21:28:55.478529Z"
    },
    "run_control": {
     "frozen": false,
     "read_only": false
    }
   },
   "outputs": [
    {
     "name": "stdout",
     "output_type": "stream",
     "text": [
      "Populating the interactive namespace from numpy and matplotlib\n",
      "The autoreload extension is already loaded. To reload it, use:\n",
      "  %reload_ext autoreload\n"
     ]
    },
    {
     "name": "stderr",
     "output_type": "stream",
     "text": [
      "/usr/local/Cellar/python3/3.5.1/Frameworks/Python.framework/Versions/3.5/lib/python3.5/site-packages/IPython/core/magics/pylab.py:160: UserWarning: pylab import has clobbered these variables: ['partition']\n",
      "`%matplotlib` prevents importing * from pylab and numpy\n",
      "  \"\\n`%matplotlib` prevents importing * from pylab and numpy\"\n"
     ]
    }
   ],
   "source": [
    "% pylab inline\n",
    "\n",
    "%load_ext autoreload\n",
    "%autoreload 2\n",
    "\n",
    "import requests\n",
    "import bs4\n",
    "from bs4 import BeautifulSoup\n",
    "import csv\n",
    "import pandas as pd\n",
    "from tqdm import tqdm\n",
    "import os\n",
    "import indeed_scraping\n",
    "import pickle"
   ]
  },
  {
   "cell_type": "code",
   "execution_count": 16,
   "metadata": {
    "ExecuteTime": {
     "end_time": "2018-04-21T21:13:43.470011Z",
     "start_time": "2018-04-21T21:13:43.418200Z"
    }
   },
   "outputs": [],
   "source": [
    "DATA_DIR = os.path.join(os.getcwd(), 'data')\n",
    "os.makedirs(DATA_DIR)"
   ]
  },
  {
   "cell_type": "code",
   "execution_count": 15,
   "metadata": {
    "ExecuteTime": {
     "end_time": "2018-04-21T21:13:34.263348Z",
     "start_time": "2018-04-21T21:13:34.208002Z"
    }
   },
   "outputs": [
    {
     "data": {
      "text/plain": [
       "'/Users/keld/poseidon/data'"
      ]
     },
     "execution_count": 15,
     "metadata": {},
     "output_type": "execute_result"
    }
   ],
   "source": []
  },
  {
   "cell_type": "code",
   "execution_count": 11,
   "metadata": {
    "run_control": {
     "frozen": false,
     "read_only": false
    }
   },
   "outputs": [
    {
     "name": "stdout",
     "output_type": "stream",
     "text": [
      "https://www.indeed.com/jobs?q=fintech&&start=10\n"
     ]
    }
   ],
   "source": [
    "x = 10\n",
    "newURL = URL % (x)\n",
    "print(newURL)\n",
    "#Fetch the page from the internet\n",
    "page = requests.get(newURL)\n",
    "\n",
    "#Parse the HTML\n",
    "soup = BeautifulSoup(page.text, \"html.parser\")\n",
    "\n",
    "#Extract all the relevant job details\n",
    "list_of_dicts = indeed_scraping.extract_job_title_from_result(soup)\n",
    "\n",
    "\n"
   ]
  },
  {
   "cell_type": "code",
   "execution_count": 35,
   "metadata": {
    "ExecuteTime": {
     "end_time": "2018-04-21T21:44:13.221822Z",
     "start_time": "2018-04-21T21:44:13.182736Z"
    }
   },
   "outputs": [],
   "source": []
  },
  {
   "cell_type": "code",
   "execution_count": 36,
   "metadata": {
    "ExecuteTime": {
     "end_time": "2018-04-21T21:44:16.920497Z",
     "start_time": "2018-04-21T21:44:16.878306Z"
    }
   },
   "outputs": [
    {
     "data": {
      "text/plain": [
       "['cyber+security-mid_level-$100,000',\n",
       " 'cyber+security-entry_level-$90,000',\n",
       " 'cyber+security-mid_level-$70,000',\n",
       " 'cyber+security-entry_level-$120,000',\n",
       " 'cyber+security-mid_level-$90,000',\n",
       " 'cyber+security-entry_level-$100,000',\n",
       " 'cyber+security-entry_level-$110,000',\n",
       " 'cyber+security-entry_level-$70,000']"
      ]
     },
     "execution_count": 36,
     "metadata": {},
     "output_type": "execute_result"
    }
   ],
   "source": [
    "done_partitions"
   ]
  },
  {
   "cell_type": "code",
   "execution_count": null,
   "metadata": {
    "ExecuteTime": {
     "start_time": "2018-04-21T21:45:51.503Z"
    },
    "run_control": {
     "frozen": false,
     "read_only": false
    }
   },
   "outputs": [
    {
     "name": "stdout",
     "output_type": "stream",
     "text": [
      "cyber+security-entry_level-$70,000\n",
      "cyber+security-entry_level-$90,000\n",
      "cyber+security-entry_level-$100,000\n",
      "cyber+security-entry_level-$110,000\n",
      "cyber+security-entry_level-$120,000\n",
      "cyber+security-mid_level-$70,000\n",
      "cyber+security-mid_level-$90,000\n",
      "cyber+security-mid_level-$100,000\n",
      "cyber+security-mid_level-$110,000\n"
     ]
    },
    {
     "name": "stderr",
     "output_type": "stream",
     "text": [
      "\n",
      "  0%|          | 0/100 [00:00<?, ?it/s]\u001b[A\n",
      "  1%|          | 1/100 [00:00<00:47,  2.07it/s]\u001b[A\n",
      "  2%|▏         | 2/100 [00:00<00:46,  2.10it/s]\u001b[A\n",
      "  3%|▎         | 3/100 [00:01<00:45,  2.11it/s]\u001b[A\n",
      "  4%|▍         | 4/100 [00:01<00:47,  2.03it/s]\u001b[A\n",
      "  5%|▌         | 5/100 [00:02<00:46,  2.05it/s]\u001b[A\n",
      "  6%|▌         | 6/100 [00:02<00:45,  2.07it/s]\u001b[A\n",
      "  7%|▋         | 7/100 [00:03<00:44,  2.07it/s]\u001b[A\n",
      "  8%|▊         | 8/100 [00:03<00:44,  2.06it/s]\u001b[A\n",
      "  9%|▉         | 9/100 [00:04<00:45,  2.02it/s]\u001b[A\n",
      " 10%|█         | 10/100 [00:04<00:44,  2.03it/s]\u001b[A\n",
      "Exception in thread Thread-14:\n",
      "Traceback (most recent call last):\n",
      "  File \"/usr/local/Cellar/python3/3.5.1/Frameworks/Python.framework/Versions/3.5/lib/python3.5/threading.py\", line 914, in _bootstrap_inner\n",
      "    self.run()\n",
      "  File \"/usr/local/Cellar/python3/3.5.1/Frameworks/Python.framework/Versions/3.5/lib/python3.5/site-packages/tqdm/_tqdm.py\", line 144, in run\n",
      "    for instance in self.tqdm_cls._instances:\n",
      "  File \"/usr/local/Cellar/python3/3.5.1/Frameworks/Python.framework/Versions/3.5/lib/python3.5/_weakrefset.py\", line 60, in __iter__\n",
      "    for itemref in self.data:\n",
      "RuntimeError: Set changed size during iteration\n",
      "\n",
      "100%|██████████| 100/100 [02:12<00:00,  1.32s/it]"
     ]
    },
    {
     "name": "stdout",
     "output_type": "stream",
     "text": [
      "cyber+security-mid_level-$120,000\n"
     ]
    },
    {
     "name": "stderr",
     "output_type": "stream",
     "text": [
      "\n",
      "100%|██████████| 100/100 [00:47<00:00,  2.12it/s]"
     ]
    },
    {
     "name": "stdout",
     "output_type": "stream",
     "text": [
      "cyber+security-senior_level-$70,000\n"
     ]
    },
    {
     "name": "stderr",
     "output_type": "stream",
     "text": [
      "\n",
      "100%|██████████| 100/100 [00:50<00:00,  1.96it/s]"
     ]
    },
    {
     "name": "stdout",
     "output_type": "stream",
     "text": [
      "cyber+security-senior_level-$90,000\n"
     ]
    },
    {
     "name": "stderr",
     "output_type": "stream",
     "text": [
      "\n",
      "100%|██████████| 100/100 [00:58<00:00,  1.71it/s]"
     ]
    },
    {
     "name": "stdout",
     "output_type": "stream",
     "text": [
      "cyber+security-senior_level-$100,000\n"
     ]
    },
    {
     "name": "stderr",
     "output_type": "stream",
     "text": [
      "\n",
      "100%|██████████| 100/100 [00:49<00:00,  2.04it/s]"
     ]
    },
    {
     "name": "stdout",
     "output_type": "stream",
     "text": [
      "cyber+security-senior_level-$110,000\n"
     ]
    },
    {
     "name": "stderr",
     "output_type": "stream",
     "text": [
      "\n",
      " 67%|██████▋   | 67/100 [00:43<00:21,  1.54it/s]"
     ]
    }
   ],
   "source": [
    "done_partitions = [fn.split('.tsv')[0] for fn in os.listdir(DATA_DIR) if 'tsv' in fn]\n",
    "\n",
    "query = \"cyber+security\"\n",
    "levels = ['entry_level', 'mid_level', 'senior_level']\n",
    "salaries = ['$70,000', '$90,000', '$100,000', '$110,000', '$120,000']\n",
    "\n",
    "all_dfs_path = os.path.join(DATA_DIR, 'all_data_dfs_dict.pckl')\n",
    "\n",
    "for level in levels:\n",
    "    for salary in salaries:\n",
    "        partition = '-'.join([query, level, salary])\n",
    "        print(partition, flush=True)\n",
    "        if partition in done_partitions:\n",
    "            continue\n",
    "            \n",
    "        jobs_all_list = []\n",
    "        for x in tqdm(range(0, 991, 10)):\n",
    "            #     query_url = \"https://www.indeed.com/jobs?q={:}&&start={:}\".format(query, x)\n",
    "            query_url = \"https://www.indeed.com/jobs?q={:}+{:}&jt={:}&explvl={:}&&start={:}\".format(\n",
    "                query, salary, job_type, level, x)\n",
    "            \n",
    "            page = requests.get(query_url)\n",
    "            \n",
    "            soup = BeautifulSoup(page.text, \"html.parser\")\n",
    "\n",
    "            jobs_all_list.append(indeed_scraping.extract_jobs_from_page(soup))\n",
    "            \n",
    "        df_partition = pd.concat([pd.DataFrame(plist) for plist in jobs_all_list])\n",
    "        df_partition.to_csv(os.path.join(DATA_DIR, partition + '.tsv'), sep='\\t')\n",
    "        "
   ]
  },
  {
   "cell_type": "code",
   "execution_count": null,
   "metadata": {},
   "outputs": [],
   "source": []
  },
  {
   "cell_type": "code",
   "execution_count": null,
   "metadata": {},
   "outputs": [],
   "source": []
  }
 ],
 "metadata": {
  "hide_input": false,
  "kernelspec": {
   "display_name": "Python 3",
   "language": "python",
   "name": "python3"
  },
  "language_info": {
   "codemirror_mode": {
    "name": "ipython",
    "version": 3
   },
   "file_extension": ".py",
   "mimetype": "text/x-python",
   "name": "python",
   "nbconvert_exporter": "python",
   "pygments_lexer": "ipython3",
   "version": "3.5.1"
  },
  "nav_menu": {},
  "toc": {
   "navigate_menu": true,
   "number_sections": true,
   "sideBar": true,
   "threshold": 6,
   "toc_cell": false,
   "toc_section_display": "block",
   "toc_window_display": false
  }
 },
 "nbformat": 4,
 "nbformat_minor": 2
}
