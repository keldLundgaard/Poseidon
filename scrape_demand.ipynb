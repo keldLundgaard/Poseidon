{
 "cells": [
  {
   "cell_type": "code",
   "execution_count": 13,
   "metadata": {
    "ExecuteTime": {
     "end_time": "2018-04-21T21:13:03.343764Z",
     "start_time": "2018-04-21T21:13:03.274738Z"
    },
    "run_control": {
     "frozen": false,
     "read_only": false
    }
   },
   "outputs": [
    {
     "name": "stdout",
     "output_type": "stream",
     "text": [
      "Populating the interactive namespace from numpy and matplotlib\n",
      "The autoreload extension is already loaded. To reload it, use:\n",
      "  %reload_ext autoreload\n"
     ]
    }
   ],
   "source": [
    "% pylab inline\n",
    "\n",
    "%load_ext autoreload\n",
    "%autoreload 2\n",
    "\n",
    "import requests\n",
    "import bs4\n",
    "from bs4 import BeautifulSoup\n",
    "import csv\n",
    "import pandas as pd\n",
    "from tqdm import tqdm\n",
    "import os\n",
    "import indeed_scraping"
   ]
  },
  {
   "cell_type": "code",
   "execution_count": 16,
   "metadata": {
    "ExecuteTime": {
     "end_time": "2018-04-21T21:13:43.470011Z",
     "start_time": "2018-04-21T21:13:43.418200Z"
    }
   },
   "outputs": [],
   "source": [
    "DATA_DIR = os.path.join(os.getcwd(), 'data')\n",
    "os.makedirs(DATA_DIR)"
   ]
  },
  {
   "cell_type": "code",
   "execution_count": 15,
   "metadata": {
    "ExecuteTime": {
     "end_time": "2018-04-21T21:13:34.263348Z",
     "start_time": "2018-04-21T21:13:34.208002Z"
    }
   },
   "outputs": [
    {
     "data": {
      "text/plain": [
       "'/Users/keld/poseidon/data'"
      ]
     },
     "execution_count": 15,
     "metadata": {},
     "output_type": "execute_result"
    }
   ],
   "source": []
  },
  {
   "cell_type": "code",
   "execution_count": 11,
   "metadata": {
    "run_control": {
     "frozen": false,
     "read_only": false
    }
   },
   "outputs": [
    {
     "name": "stdout",
     "output_type": "stream",
     "text": [
      "https://www.indeed.com/jobs?q=fintech&&start=10\n"
     ]
    }
   ],
   "source": [
    "x = 10\n",
    "newURL = URL % (x)\n",
    "print(newURL)\n",
    "#Fetch the page from the internet\n",
    "page = requests.get(newURL)\n",
    "\n",
    "#Parse the HTML\n",
    "soup = BeautifulSoup(page.text, \"html.parser\")\n",
    "\n",
    "#Extract all the relevant job details\n",
    "list_of_dicts = indeed_scraping.extract_job_title_from_result(soup)\n",
    "\n",
    "\n"
   ]
  },
  {
   "cell_type": "code",
   "execution_count": 12,
   "metadata": {
    "run_control": {
     "frozen": false,
     "read_only": false
    }
   },
   "outputs": [],
   "source": [
    "list_of_dicts"
   ]
  },
  {
   "cell_type": "code",
   "execution_count": null,
   "metadata": {
    "ExecuteTime": {
     "start_time": "2018-04-21T21:19:47.021Z"
    },
    "run_control": {
     "frozen": false,
     "read_only": false
    }
   },
   "outputs": [
    {
     "name": "stderr",
     "output_type": "stream",
     "text": [
      "\r",
      "  0%|          | 0/100 [00:00<?, ?it/s]"
     ]
    },
    {
     "name": "stdout",
     "output_type": "stream",
     "text": [
      "entry_level-$70,000\n"
     ]
    },
    {
     "name": "stderr",
     "output_type": "stream",
     "text": [
      "100%|██████████| 100/100 [00:49<00:00,  2.01it/s]\n",
      "  0%|          | 0/100 [00:00<?, ?it/s]"
     ]
    },
    {
     "name": "stdout",
     "output_type": "stream",
     "text": [
      "entry_level-$90,000\n"
     ]
    },
    {
     "name": "stderr",
     "output_type": "stream",
     "text": [
      "100%|██████████| 100/100 [00:50<00:00,  1.97it/s]\n",
      "  0%|          | 0/100 [00:00<?, ?it/s]"
     ]
    },
    {
     "name": "stdout",
     "output_type": "stream",
     "text": [
      "entry_level-$100,000\n"
     ]
    },
    {
     "name": "stderr",
     "output_type": "stream",
     "text": [
      "100%|██████████| 100/100 [00:44<00:00,  2.26it/s]\n",
      "  0%|          | 0/100 [00:00<?, ?it/s]"
     ]
    },
    {
     "name": "stdout",
     "output_type": "stream",
     "text": [
      "entry_level-$110,000\n"
     ]
    },
    {
     "name": "stderr",
     "output_type": "stream",
     "text": [
      "100%|██████████| 100/100 [00:51<00:00,  1.93it/s]\n",
      "  0%|          | 0/100 [00:00<?, ?it/s]"
     ]
    },
    {
     "name": "stdout",
     "output_type": "stream",
     "text": [
      "entry_level-$120,000\n"
     ]
    },
    {
     "name": "stderr",
     "output_type": "stream",
     "text": [
      "100%|██████████| 100/100 [00:54<00:00,  1.85it/s]\n",
      "  0%|          | 0/100 [00:00<?, ?it/s]"
     ]
    },
    {
     "name": "stdout",
     "output_type": "stream",
     "text": [
      "mid_level-$70,000\n"
     ]
    },
    {
     "name": "stderr",
     "output_type": "stream",
     "text": [
      " 27%|██▋       | 27/100 [00:14<00:38,  1.88it/s]"
     ]
    }
   ],
   "source": [
    "query = 'cyber+security'\n",
    "\n",
    "combinations_done = []\n",
    "query = \"cyber+security\"\n",
    "levels = ['entry_level', 'mid_level', 'senior_level']\n",
    "salaries = ['$70,000', '$90,000', '$100,000', '$110,000', '$120,000']\n",
    "\n",
    "\n",
    "\n",
    "all_dfs_path = os.path.join(DATA_DIR, 'all_data_dfs_dict.pckl')\n",
    "if os.path.exists(all_dfs_path):\n",
    "    all_dfs = pickle.load(open(all_dfs_path, 'rb'))    \n",
    "else:\n",
    "    all_dfs = dict()\n",
    "    \n",
    "print(query)\n",
    "for level in levels:\n",
    "    for salary in salaries:\n",
    "        partition = '-'.join([level, salary])\n",
    "        print(partition, flush=True)\n",
    "        if partition in all_dfs:\n",
    "            continue\n",
    "        jobs_all_list = []    \n",
    "            \n",
    "        for x in tqdm(range(0, 991, 10)):\n",
    "            #     query_url = \"https://www.indeed.com/jobs?q={:}&&start={:}\".format(query, x)\n",
    "            query_url = \"https://www.indeed.com/jobs?q={:}+{:}&jt={:}&explvl={:}&&start={:}\".format(\n",
    "                query, salary, job_type, level, x)\n",
    "            \n",
    "            page = requests.get(query_url)\n",
    "            \n",
    "            soup = BeautifulSoup(page.text, \"html.parser\")\n",
    "\n",
    "            jobs_all_list.append(indeed_scraping.extract_jobs_from_page(soup))\n",
    "            \n",
    "        all_dfs[partition] = pd.concat([pd.DataFrame(plist) for plist in jobs_all_list])"
   ]
  },
  {
   "cell_type": "code",
   "execution_count": 97,
   "metadata": {
    "run_control": {
     "frozen": false,
     "read_only": false
    }
   },
   "outputs": [
    {
     "data": {
      "text/plain": [
       "[]"
      ]
     },
     "execution_count": 97,
     "metadata": {},
     "output_type": "execute_result"
    }
   ],
   "source": [
    "div.find_all(name=\"a\", attrs={\"data-tn-element\": \"companyName\"})"
   ]
  },
  {
   "cell_type": "code",
   "execution_count": 99,
   "metadata": {
    "run_control": {
     "frozen": false,
     "read_only": false
    }
   },
   "outputs": [
    {
     "name": "stdout",
     "output_type": "stream",
     "text": [
      "\n",
      "    The Predictive Index\n"
     ]
    }
   ],
   "source": [
    "for span in div.find_all(\"span\", {\"class\": \"company\"}):\n",
    "    print(span.next_element)"
   ]
  },
  {
   "cell_type": "code",
   "execution_count": null,
   "metadata": {
    "run_control": {
     "frozen": false,
     "read_only": false
    }
   },
   "outputs": [],
   "source": []
  },
  {
   "cell_type": "code",
   "execution_count": null,
   "metadata": {
    "run_control": {
     "frozen": false,
     "read_only": false
    }
   },
   "outputs": [],
   "source": []
  }
 ],
 "metadata": {
  "hide_input": false,
  "kernelspec": {
   "display_name": "Python 3",
   "language": "python",
   "name": "python3"
  },
  "language_info": {
   "codemirror_mode": {
    "name": "ipython",
    "version": 3
   },
   "file_extension": ".py",
   "mimetype": "text/x-python",
   "name": "python",
   "nbconvert_exporter": "python",
   "pygments_lexer": "ipython3",
   "version": "3.5.1"
  },
  "nav_menu": {},
  "toc": {
   "navigate_menu": true,
   "number_sections": true,
   "sideBar": true,
   "threshold": 6,
   "toc_cell": false,
   "toc_section_display": "block",
   "toc_window_display": false
  }
 },
 "nbformat": 4,
 "nbformat_minor": 2
}
