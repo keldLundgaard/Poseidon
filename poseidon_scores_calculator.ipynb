{
 "cells": [
  {
   "cell_type": "code",
   "execution_count": 1,
   "metadata": {
    "ExecuteTime": {
     "end_time": "2018-04-24T02:17:22.094210Z",
     "start_time": "2018-04-24T02:17:21.006196Z"
    },
    "run_control": {
     "frozen": false,
     "read_only": false
    }
   },
   "outputs": [
    {
     "name": "stdout",
     "output_type": "stream",
     "text": [
      "Populating the interactive namespace from numpy and matplotlib\n"
     ]
    }
   ],
   "source": [
    "% pylab inline\n",
    "\n",
    "%load_ext autoreload\n",
    "%autoreload 2\n",
    "import os\n",
    "import time\n",
    "import csv\n",
    "import warnings\n",
    "\n",
    "import requests\n",
    "import urllib.request\n",
    "import bs4\n",
    "from bs4 import BeautifulSoup\n",
    "import pandas as pd\n",
    "from tqdm import tqdm\n",
    "\n",
    "import indeed_scraping\n",
    "\n",
    "warnings.filterwarnings(\"ignore\")\n",
    "\n",
    "%config InlineBackend.figure_format = 'retina'\n",
    "\n",
    "DATA_DIR = os.path.join(os.getcwd(), 'data')\n",
    "try:\n",
    "    os.makedirs(DATA_DIR)\n",
    "except FileExistsError:\n",
    "    pass"
   ]
  },
  {
   "cell_type": "markdown",
   "metadata": {},
   "source": [
    "### Filters"
   ]
  },
  {
   "cell_type": "code",
   "execution_count": 66,
   "metadata": {
    "ExecuteTime": {
     "end_time": "2018-04-24T02:26:44.832779Z",
     "start_time": "2018-04-24T02:26:44.790150Z"
    },
    "run_control": {
     "frozen": false,
     "read_only": false
    }
   },
   "outputs": [],
   "source": [
    "query = 'cyber+security'\n",
    "pick_levels = [\n",
    "    'entry_level', 'mid_level', 'senior_level'\n",
    "]\n",
    "\n",
    "indeed_experience_filter = ['exp_12_24', 'exp_25_60', 'exp_61_120', 'exp_121+']\n",
    "indeed_degree_filter = [\n",
    "#     , 'associate','diploma'\n",
    "    'bachelor', 'doctor', 'master',\n",
    "]\n",
    "\n",
    "min_jobs = 5\n",
    "min_resumes = 25"
   ]
  },
  {
   "cell_type": "markdown",
   "metadata": {},
   "source": [
    "### Metropolital areas"
   ]
  },
  {
   "cell_type": "markdown",
   "metadata": {},
   "source": [
    "#### Download data"
   ]
  },
  {
   "cell_type": "code",
   "execution_count": 3,
   "metadata": {
    "ExecuteTime": {
     "end_time": "2018-04-24T02:17:22.933386Z",
     "start_time": "2018-04-24T02:17:22.137803Z"
    },
    "run_control": {
     "frozen": false,
     "read_only": false
    }
   },
   "outputs": [
    {
     "data": {
      "text/plain": [
       "('/Users/keld/poseidon/data/cbsa-est2017-alldata.csv',\n",
       " <http.client.HTTPMessage at 0x10eb879e8>)"
      ]
     },
     "execution_count": 3,
     "metadata": {},
     "output_type": "execute_result"
    }
   ],
   "source": [
    "urllib.request.urlretrieve(\n",
    "    'https://www2.census.gov/programs-surveys/popest/datasets/2010-2017/metro/totals/cbsa-est2017-alldata.csv', \n",
    "    os.path.join(DATA_DIR, 'cbsa-est2017-alldata.csv'))"
   ]
  },
  {
   "cell_type": "markdown",
   "metadata": {},
   "source": [
    "Download free version of city map information here https://simplemaps.com/data/us-cities to data folder.\n",
    "\n",
    "Link will be to: https://simplemaps.com/static/data/us-cities/uscitiesv1.4.csv"
   ]
  },
  {
   "cell_type": "code",
   "execution_count": 4,
   "metadata": {
    "ExecuteTime": {
     "end_time": "2018-04-24T02:17:22.972323Z",
     "start_time": "2018-04-24T02:17:22.935870Z"
    },
    "run_control": {
     "frozen": false,
     "read_only": false
    }
   },
   "outputs": [],
   "source": [
    "assert os.path.exists(os.path.join(DATA_DIR, 'uscitiesv1.4.csv')), 'follow steps above'"
   ]
  },
  {
   "cell_type": "markdown",
   "metadata": {},
   "source": [
    "You are ready to proceed"
   ]
  },
  {
   "cell_type": "markdown",
   "metadata": {},
   "source": [
    "#### Join metropolitan area data"
   ]
  },
  {
   "cell_type": "code",
   "execution_count": 5,
   "metadata": {
    "ExecuteTime": {
     "end_time": "2018-04-24T02:17:23.263281Z",
     "start_time": "2018-04-24T02:17:22.976394Z"
    },
    "run_control": {
     "frozen": false,
     "read_only": false
    }
   },
   "outputs": [],
   "source": [
    "df_us_cities = pd.read_csv(os.path.join(DATA_DIR, 'uscitiesv1.4.csv'))\n",
    "df_us_cities['county'] = df_us_cities['county_name']"
   ]
  },
  {
   "cell_type": "code",
   "execution_count": 6,
   "metadata": {
    "ExecuteTime": {
     "end_time": "2018-04-24T02:17:23.331600Z",
     "start_time": "2018-04-24T02:17:23.265605Z"
    },
    "run_control": {
     "frozen": false,
     "read_only": false
    }
   },
   "outputs": [],
   "source": [
    "df_us_cities = df_us_cities[['state_id', 'city', 'county', 'population_proper', 'lat', 'lng']].fillna(0)"
   ]
  },
  {
   "cell_type": "code",
   "execution_count": 7,
   "metadata": {
    "ExecuteTime": {
     "end_time": "2018-04-24T02:17:23.390399Z",
     "start_time": "2018-04-24T02:17:23.334607Z"
    },
    "run_control": {
     "frozen": false,
     "read_only": false
    }
   },
   "outputs": [
    {
     "data": {
      "text/html": [
       "<div>\n",
       "<style scoped>\n",
       "    .dataframe tbody tr th:only-of-type {\n",
       "        vertical-align: middle;\n",
       "    }\n",
       "\n",
       "    .dataframe tbody tr th {\n",
       "        vertical-align: top;\n",
       "    }\n",
       "\n",
       "    .dataframe thead th {\n",
       "        text-align: right;\n",
       "    }\n",
       "</style>\n",
       "<table border=\"1\" class=\"dataframe\">\n",
       "  <thead>\n",
       "    <tr style=\"text-align: right;\">\n",
       "      <th></th>\n",
       "      <th>state_id</th>\n",
       "      <th>city</th>\n",
       "      <th>county</th>\n",
       "      <th>population_proper</th>\n",
       "      <th>lat</th>\n",
       "      <th>lng</th>\n",
       "    </tr>\n",
       "  </thead>\n",
       "  <tbody>\n",
       "    <tr>\n",
       "      <th>0</th>\n",
       "      <td>WA</td>\n",
       "      <td>Prairie Ridge</td>\n",
       "      <td>Pierce</td>\n",
       "      <td>0.0</td>\n",
       "      <td>47.1443</td>\n",
       "      <td>-122.1408</td>\n",
       "    </tr>\n",
       "    <tr>\n",
       "      <th>1</th>\n",
       "      <td>WA</td>\n",
       "      <td>Edison</td>\n",
       "      <td>Skagit</td>\n",
       "      <td>0.0</td>\n",
       "      <td>48.5602</td>\n",
       "      <td>-122.4311</td>\n",
       "    </tr>\n",
       "    <tr>\n",
       "      <th>2</th>\n",
       "      <td>WA</td>\n",
       "      <td>Packwood</td>\n",
       "      <td>Lewis</td>\n",
       "      <td>0.0</td>\n",
       "      <td>46.6085</td>\n",
       "      <td>-121.6702</td>\n",
       "    </tr>\n",
       "    <tr>\n",
       "      <th>3</th>\n",
       "      <td>WA</td>\n",
       "      <td>Wautauga Beach</td>\n",
       "      <td>Kitsap</td>\n",
       "      <td>0.0</td>\n",
       "      <td>47.5862</td>\n",
       "      <td>-122.5482</td>\n",
       "    </tr>\n",
       "    <tr>\n",
       "      <th>4</th>\n",
       "      <td>WA</td>\n",
       "      <td>Harper</td>\n",
       "      <td>Kitsap</td>\n",
       "      <td>0.0</td>\n",
       "      <td>47.5207</td>\n",
       "      <td>-122.5196</td>\n",
       "    </tr>\n",
       "  </tbody>\n",
       "</table>\n",
       "</div>"
      ],
      "text/plain": [
       "  state_id            city  county  population_proper      lat       lng\n",
       "0       WA   Prairie Ridge  Pierce                0.0  47.1443 -122.1408\n",
       "1       WA          Edison  Skagit                0.0  48.5602 -122.4311\n",
       "2       WA        Packwood   Lewis                0.0  46.6085 -121.6702\n",
       "3       WA  Wautauga Beach  Kitsap                0.0  47.5862 -122.5482\n",
       "4       WA          Harper  Kitsap                0.0  47.5207 -122.5196"
      ]
     },
     "execution_count": 7,
     "metadata": {},
     "output_type": "execute_result"
    }
   ],
   "source": [
    "df_us_cities.head()"
   ]
  },
  {
   "cell_type": "code",
   "execution_count": 8,
   "metadata": {
    "ExecuteTime": {
     "end_time": "2018-04-24T02:17:23.481373Z",
     "start_time": "2018-04-24T02:17:23.392994Z"
    },
    "run_control": {
     "frozen": false,
     "read_only": false
    }
   },
   "outputs": [],
   "source": [
    "df_cbsa = pd.read_csv(os.path.join(DATA_DIR, 'cbsa-est2017-alldata.csv'), encoding = \"latin1\")"
   ]
  },
  {
   "cell_type": "code",
   "execution_count": 9,
   "metadata": {
    "ExecuteTime": {
     "end_time": "2018-04-24T02:17:23.525295Z",
     "start_time": "2018-04-24T02:17:23.484089Z"
    },
    "run_control": {
     "frozen": false,
     "read_only": false
    }
   },
   "outputs": [
    {
     "data": {
      "text/plain": [
       "Index(['CBSA', 'NAME', 'STCOU'], dtype='object')"
      ]
     },
     "execution_count": 9,
     "metadata": {},
     "output_type": "execute_result"
    }
   ],
   "source": [
    "df_cbsa[['CBSA', 'NAME', 'STCOU']].columns"
   ]
  },
  {
   "cell_type": "code",
   "execution_count": 10,
   "metadata": {
    "ExecuteTime": {
     "end_time": "2018-04-24T02:17:23.568252Z",
     "start_time": "2018-04-24T02:17:23.527705Z"
    },
    "run_control": {
     "frozen": false,
     "read_only": false
    }
   },
   "outputs": [
    {
     "name": "stdout",
     "output_type": "stream",
     "text": [
      "Unique number of CBSA: 933\n"
     ]
    }
   ],
   "source": [
    "print('Unique number of CBSA:', len(df_cbsa['CBSA'].unique()))"
   ]
  },
  {
   "cell_type": "code",
   "execution_count": 11,
   "metadata": {
    "ExecuteTime": {
     "end_time": "2018-04-24T02:17:23.673861Z",
     "start_time": "2018-04-24T02:17:23.570458Z"
    },
    "run_control": {
     "frozen": false,
     "read_only": false
    }
   },
   "outputs": [],
   "source": [
    "df_cbsa = df_cbsa[['CBSA', 'NAME', 'STCOU']]\n",
    "df_cbsa['county'] = df_cbsa['NAME'].apply(lambda x: x.split(', ')[0].replace(' County', ''))\n",
    "df_cbsa['state_id'] = df_cbsa['NAME'].apply(lambda x: x.split(', ')[1])"
   ]
  },
  {
   "cell_type": "code",
   "execution_count": 12,
   "metadata": {
    "ExecuteTime": {
     "end_time": "2018-04-24T02:17:23.724752Z",
     "start_time": "2018-04-24T02:17:23.675909Z"
    },
    "run_control": {
     "frozen": false,
     "read_only": false
    }
   },
   "outputs": [
    {
     "data": {
      "text/html": [
       "<div>\n",
       "<style scoped>\n",
       "    .dataframe tbody tr th:only-of-type {\n",
       "        vertical-align: middle;\n",
       "    }\n",
       "\n",
       "    .dataframe tbody tr th {\n",
       "        vertical-align: top;\n",
       "    }\n",
       "\n",
       "    .dataframe thead th {\n",
       "        text-align: right;\n",
       "    }\n",
       "</style>\n",
       "<table border=\"1\" class=\"dataframe\">\n",
       "  <thead>\n",
       "    <tr style=\"text-align: right;\">\n",
       "      <th></th>\n",
       "      <th>CBSA</th>\n",
       "      <th>NAME</th>\n",
       "      <th>STCOU</th>\n",
       "      <th>county</th>\n",
       "      <th>state_id</th>\n",
       "    </tr>\n",
       "  </thead>\n",
       "  <tbody>\n",
       "    <tr>\n",
       "      <th>0</th>\n",
       "      <td>10180</td>\n",
       "      <td>Abilene, TX</td>\n",
       "      <td>NaN</td>\n",
       "      <td>Abilene</td>\n",
       "      <td>TX</td>\n",
       "    </tr>\n",
       "    <tr>\n",
       "      <th>1</th>\n",
       "      <td>10180</td>\n",
       "      <td>Callahan County, TX</td>\n",
       "      <td>48059.0</td>\n",
       "      <td>Callahan</td>\n",
       "      <td>TX</td>\n",
       "    </tr>\n",
       "    <tr>\n",
       "      <th>2</th>\n",
       "      <td>10180</td>\n",
       "      <td>Jones County, TX</td>\n",
       "      <td>48253.0</td>\n",
       "      <td>Jones</td>\n",
       "      <td>TX</td>\n",
       "    </tr>\n",
       "    <tr>\n",
       "      <th>3</th>\n",
       "      <td>10180</td>\n",
       "      <td>Taylor County, TX</td>\n",
       "      <td>48441.0</td>\n",
       "      <td>Taylor</td>\n",
       "      <td>TX</td>\n",
       "    </tr>\n",
       "    <tr>\n",
       "      <th>4</th>\n",
       "      <td>10420</td>\n",
       "      <td>Akron, OH</td>\n",
       "      <td>NaN</td>\n",
       "      <td>Akron</td>\n",
       "      <td>OH</td>\n",
       "    </tr>\n",
       "  </tbody>\n",
       "</table>\n",
       "</div>"
      ],
      "text/plain": [
       "    CBSA                 NAME    STCOU    county state_id\n",
       "0  10180          Abilene, TX      NaN   Abilene       TX\n",
       "1  10180  Callahan County, TX  48059.0  Callahan       TX\n",
       "2  10180     Jones County, TX  48253.0     Jones       TX\n",
       "3  10180    Taylor County, TX  48441.0    Taylor       TX\n",
       "4  10420            Akron, OH      NaN     Akron       OH"
      ]
     },
     "execution_count": 12,
     "metadata": {},
     "output_type": "execute_result"
    }
   ],
   "source": [
    "df_cbsa.head()"
   ]
  },
  {
   "cell_type": "code",
   "execution_count": 13,
   "metadata": {
    "ExecuteTime": {
     "end_time": "2018-04-24T02:17:23.795765Z",
     "start_time": "2018-04-24T02:17:23.727337Z"
    },
    "run_control": {
     "frozen": false,
     "read_only": false
    }
   },
   "outputs": [],
   "source": [
    "df_areas = df_cbsa.join(df_us_cities.set_index(['county', 'state_id']), on=['county', 'state_id'], how='inner')\n",
    "df_areas = df_areas"
   ]
  },
  {
   "cell_type": "code",
   "execution_count": 14,
   "metadata": {
    "ExecuteTime": {
     "end_time": "2018-04-24T02:17:23.856292Z",
     "start_time": "2018-04-24T02:17:23.798681Z"
    },
    "run_control": {
     "frozen": false,
     "read_only": false
    }
   },
   "outputs": [
    {
     "data": {
      "text/html": [
       "<div>\n",
       "<style scoped>\n",
       "    .dataframe tbody tr th:only-of-type {\n",
       "        vertical-align: middle;\n",
       "    }\n",
       "\n",
       "    .dataframe tbody tr th {\n",
       "        vertical-align: top;\n",
       "    }\n",
       "\n",
       "    .dataframe thead th {\n",
       "        text-align: right;\n",
       "    }\n",
       "</style>\n",
       "<table border=\"1\" class=\"dataframe\">\n",
       "  <thead>\n",
       "    <tr style=\"text-align: right;\">\n",
       "      <th></th>\n",
       "      <th>CBSA</th>\n",
       "      <th>county</th>\n",
       "      <th>state_id</th>\n",
       "      <th>city</th>\n",
       "      <th>population_proper</th>\n",
       "      <th>lat</th>\n",
       "      <th>lng</th>\n",
       "    </tr>\n",
       "  </thead>\n",
       "  <tbody>\n",
       "    <tr>\n",
       "      <th>1</th>\n",
       "      <td>10180</td>\n",
       "      <td>Callahan</td>\n",
       "      <td>TX</td>\n",
       "      <td>Rowden</td>\n",
       "      <td>0.0</td>\n",
       "      <td>32.2040</td>\n",
       "      <td>-99.3440</td>\n",
       "    </tr>\n",
       "    <tr>\n",
       "      <th>1</th>\n",
       "      <td>10180</td>\n",
       "      <td>Callahan</td>\n",
       "      <td>TX</td>\n",
       "      <td>Cross Plains</td>\n",
       "      <td>986.0</td>\n",
       "      <td>32.1271</td>\n",
       "      <td>-99.1658</td>\n",
       "    </tr>\n",
       "    <tr>\n",
       "      <th>1</th>\n",
       "      <td>10180</td>\n",
       "      <td>Callahan</td>\n",
       "      <td>TX</td>\n",
       "      <td>Clyde</td>\n",
       "      <td>3842.0</td>\n",
       "      <td>32.4056</td>\n",
       "      <td>-99.5039</td>\n",
       "    </tr>\n",
       "    <tr>\n",
       "      <th>1</th>\n",
       "      <td>10180</td>\n",
       "      <td>Callahan</td>\n",
       "      <td>TX</td>\n",
       "      <td>Baird</td>\n",
       "      <td>1513.0</td>\n",
       "      <td>32.3960</td>\n",
       "      <td>-99.3962</td>\n",
       "    </tr>\n",
       "    <tr>\n",
       "      <th>1</th>\n",
       "      <td>10180</td>\n",
       "      <td>Callahan</td>\n",
       "      <td>TX</td>\n",
       "      <td>Putnam</td>\n",
       "      <td>95.0</td>\n",
       "      <td>32.3703</td>\n",
       "      <td>-99.1955</td>\n",
       "    </tr>\n",
       "  </tbody>\n",
       "</table>\n",
       "</div>"
      ],
      "text/plain": [
       "    CBSA    county state_id          city  population_proper      lat      lng\n",
       "1  10180  Callahan       TX        Rowden                0.0  32.2040 -99.3440\n",
       "1  10180  Callahan       TX  Cross Plains              986.0  32.1271 -99.1658\n",
       "1  10180  Callahan       TX         Clyde             3842.0  32.4056 -99.5039\n",
       "1  10180  Callahan       TX         Baird             1513.0  32.3960 -99.3962\n",
       "1  10180  Callahan       TX        Putnam               95.0  32.3703 -99.1955"
      ]
     },
     "execution_count": 14,
     "metadata": {},
     "output_type": "execute_result"
    }
   ],
   "source": [
    "df_areas.head()[['CBSA', 'county', 'state_id', 'city', 'population_proper', 'lat', 'lng']]"
   ]
  },
  {
   "cell_type": "code",
   "execution_count": 15,
   "metadata": {
    "ExecuteTime": {
     "end_time": "2018-04-24T02:17:23.903027Z",
     "start_time": "2018-04-24T02:17:23.858714Z"
    },
    "run_control": {
     "frozen": false,
     "read_only": false
    }
   },
   "outputs": [],
   "source": [
    "df_areas = df_areas.reset_index(drop=True)"
   ]
  },
  {
   "cell_type": "code",
   "execution_count": 16,
   "metadata": {
    "ExecuteTime": {
     "end_time": "2018-04-24T02:17:23.961773Z",
     "start_time": "2018-04-24T02:17:23.905352Z"
    },
    "run_control": {
     "frozen": false,
     "read_only": false
    }
   },
   "outputs": [
    {
     "data": {
      "text/html": [
       "<div>\n",
       "<style scoped>\n",
       "    .dataframe tbody tr th:only-of-type {\n",
       "        vertical-align: middle;\n",
       "    }\n",
       "\n",
       "    .dataframe tbody tr th {\n",
       "        vertical-align: top;\n",
       "    }\n",
       "\n",
       "    .dataframe thead th {\n",
       "        text-align: right;\n",
       "    }\n",
       "</style>\n",
       "<table border=\"1\" class=\"dataframe\">\n",
       "  <thead>\n",
       "    <tr style=\"text-align: right;\">\n",
       "      <th></th>\n",
       "      <th>CBSA</th>\n",
       "      <th>NAME</th>\n",
       "      <th>STCOU</th>\n",
       "      <th>county</th>\n",
       "      <th>state_id</th>\n",
       "      <th>city</th>\n",
       "      <th>population_proper</th>\n",
       "      <th>lat</th>\n",
       "      <th>lng</th>\n",
       "    </tr>\n",
       "  </thead>\n",
       "  <tbody>\n",
       "    <tr>\n",
       "      <th>0</th>\n",
       "      <td>10180</td>\n",
       "      <td>Callahan County, TX</td>\n",
       "      <td>48059.0</td>\n",
       "      <td>Callahan</td>\n",
       "      <td>TX</td>\n",
       "      <td>Rowden</td>\n",
       "      <td>0.0</td>\n",
       "      <td>32.2040</td>\n",
       "      <td>-99.3440</td>\n",
       "    </tr>\n",
       "    <tr>\n",
       "      <th>1</th>\n",
       "      <td>10180</td>\n",
       "      <td>Callahan County, TX</td>\n",
       "      <td>48059.0</td>\n",
       "      <td>Callahan</td>\n",
       "      <td>TX</td>\n",
       "      <td>Cross Plains</td>\n",
       "      <td>986.0</td>\n",
       "      <td>32.1271</td>\n",
       "      <td>-99.1658</td>\n",
       "    </tr>\n",
       "    <tr>\n",
       "      <th>2</th>\n",
       "      <td>10180</td>\n",
       "      <td>Callahan County, TX</td>\n",
       "      <td>48059.0</td>\n",
       "      <td>Callahan</td>\n",
       "      <td>TX</td>\n",
       "      <td>Clyde</td>\n",
       "      <td>3842.0</td>\n",
       "      <td>32.4056</td>\n",
       "      <td>-99.5039</td>\n",
       "    </tr>\n",
       "    <tr>\n",
       "      <th>3</th>\n",
       "      <td>10180</td>\n",
       "      <td>Callahan County, TX</td>\n",
       "      <td>48059.0</td>\n",
       "      <td>Callahan</td>\n",
       "      <td>TX</td>\n",
       "      <td>Baird</td>\n",
       "      <td>1513.0</td>\n",
       "      <td>32.3960</td>\n",
       "      <td>-99.3962</td>\n",
       "    </tr>\n",
       "    <tr>\n",
       "      <th>4</th>\n",
       "      <td>10180</td>\n",
       "      <td>Callahan County, TX</td>\n",
       "      <td>48059.0</td>\n",
       "      <td>Callahan</td>\n",
       "      <td>TX</td>\n",
       "      <td>Putnam</td>\n",
       "      <td>95.0</td>\n",
       "      <td>32.3703</td>\n",
       "      <td>-99.1955</td>\n",
       "    </tr>\n",
       "  </tbody>\n",
       "</table>\n",
       "</div>"
      ],
      "text/plain": [
       "    CBSA                 NAME    STCOU    county state_id          city  \\\n",
       "0  10180  Callahan County, TX  48059.0  Callahan       TX        Rowden   \n",
       "1  10180  Callahan County, TX  48059.0  Callahan       TX  Cross Plains   \n",
       "2  10180  Callahan County, TX  48059.0  Callahan       TX         Clyde   \n",
       "3  10180  Callahan County, TX  48059.0  Callahan       TX         Baird   \n",
       "4  10180  Callahan County, TX  48059.0  Callahan       TX        Putnam   \n",
       "\n",
       "   population_proper      lat      lng  \n",
       "0                0.0  32.2040 -99.3440  \n",
       "1              986.0  32.1271 -99.1658  \n",
       "2             3842.0  32.4056 -99.5039  \n",
       "3             1513.0  32.3960 -99.3962  \n",
       "4               95.0  32.3703 -99.1955  "
      ]
     },
     "execution_count": 16,
     "metadata": {},
     "output_type": "execute_result"
    }
   ],
   "source": [
    "df_areas.head()"
   ]
  },
  {
   "cell_type": "markdown",
   "metadata": {},
   "source": [
    "### demand"
   ]
  },
  {
   "cell_type": "code",
   "execution_count": 17,
   "metadata": {
    "ExecuteTime": {
     "end_time": "2018-04-24T02:17:24.117792Z",
     "start_time": "2018-04-24T02:17:23.964063Z"
    },
    "run_control": {
     "frozen": false,
     "read_only": false
    }
   },
   "outputs": [],
   "source": [
    "df_demand = pd.read_csv(os.path.join(DATA_DIR, 'cyber+security_all_partitions.tsv'), sep='\\t')\n",
    "df_demand = df_demand[['company_name', 'location', 'partition', 'title']]\n",
    "df_demand['location'] = df_demand['location'].str.strip()"
   ]
  },
  {
   "cell_type": "code",
   "execution_count": 18,
   "metadata": {
    "ExecuteTime": {
     "end_time": "2018-04-24T02:17:24.211531Z",
     "start_time": "2018-04-24T02:17:24.120572Z"
    },
    "run_control": {
     "frozen": false,
     "read_only": false
    }
   },
   "outputs": [],
   "source": [
    "df_demand['level'] = df_demand['partition'].apply(lambda x: x.split('-')[1])\n",
    "df_demand['salary_est'] = df_demand['partition'].apply(lambda x: x.split('-')[1])"
   ]
  },
  {
   "cell_type": "code",
   "execution_count": 19,
   "metadata": {
    "ExecuteTime": {
     "end_time": "2018-04-24T02:17:24.264465Z",
     "start_time": "2018-04-24T02:17:24.213943Z"
    },
    "run_control": {
     "frozen": false,
     "read_only": false
    }
   },
   "outputs": [],
   "source": [
    "df_demand = df_demand[df_demand['level'].isin(pick_levels)]"
   ]
  },
  {
   "cell_type": "code",
   "execution_count": 20,
   "metadata": {
    "ExecuteTime": {
     "end_time": "2018-04-24T02:17:24.310498Z",
     "start_time": "2018-04-24T02:17:24.266879Z"
    },
    "run_control": {
     "frozen": false,
     "read_only": false
    }
   },
   "outputs": [
    {
     "data": {
      "text/plain": [
       "array(['senior_level', 'mid_level'], dtype=object)"
      ]
     },
     "execution_count": 20,
     "metadata": {},
     "output_type": "execute_result"
    }
   ],
   "source": [
    "df_demand['level'].unique()"
   ]
  },
  {
   "cell_type": "code",
   "execution_count": 21,
   "metadata": {
    "ExecuteTime": {
     "end_time": "2018-04-24T02:17:24.355739Z",
     "start_time": "2018-04-24T02:17:24.313350Z"
    },
    "run_control": {
     "frozen": false,
     "read_only": false
    }
   },
   "outputs": [
    {
     "data": {
      "text/plain": [
       "15594"
      ]
     },
     "execution_count": 21,
     "metadata": {},
     "output_type": "execute_result"
    }
   ],
   "source": [
    "len(df_demand)"
   ]
  },
  {
   "cell_type": "code",
   "execution_count": 22,
   "metadata": {
    "ExecuteTime": {
     "end_time": "2018-04-24T02:17:24.481705Z",
     "start_time": "2018-04-24T02:17:24.358549Z"
    },
    "run_control": {
     "frozen": false,
     "read_only": false
    }
   },
   "outputs": [],
   "source": [
    "df_demand = df_demand[df_demand['location'].apply(lambda x: ', ' in x)]\n",
    "df_demand['city'] = df_demand['location'].apply(lambda x: x.split(', ')[0])\n",
    "df_demand['state_id'] = df_demand['location'].apply(lambda x: x.split(', ')[1])"
   ]
  },
  {
   "cell_type": "code",
   "execution_count": 23,
   "metadata": {
    "ExecuteTime": {
     "end_time": "2018-04-24T02:17:24.537719Z",
     "start_time": "2018-04-24T02:17:24.483743Z"
    },
    "run_control": {
     "frozen": false,
     "read_only": false
    }
   },
   "outputs": [
    {
     "data": {
      "text/html": [
       "<div>\n",
       "<style scoped>\n",
       "    .dataframe tbody tr th:only-of-type {\n",
       "        vertical-align: middle;\n",
       "    }\n",
       "\n",
       "    .dataframe tbody tr th {\n",
       "        vertical-align: top;\n",
       "    }\n",
       "\n",
       "    .dataframe thead th {\n",
       "        text-align: right;\n",
       "    }\n",
       "</style>\n",
       "<table border=\"1\" class=\"dataframe\">\n",
       "  <thead>\n",
       "    <tr style=\"text-align: right;\">\n",
       "      <th></th>\n",
       "      <th>company_name</th>\n",
       "      <th>location</th>\n",
       "      <th>partition</th>\n",
       "      <th>title</th>\n",
       "      <th>level</th>\n",
       "      <th>salary_est</th>\n",
       "      <th>city</th>\n",
       "      <th>state_id</th>\n",
       "    </tr>\n",
       "  </thead>\n",
       "  <tbody>\n",
       "    <tr>\n",
       "      <th>0</th>\n",
       "      <td>Jackson-National-Life-Insurance-Company</td>\n",
       "      <td>Lansing, MI</td>\n",
       "      <td>cyber+security-senior_level-$120,000</td>\n",
       "      <td>AVP, Cybersecurity Response</td>\n",
       "      <td>senior_level</td>\n",
       "      <td>senior_level</td>\n",
       "      <td>Lansing</td>\n",
       "      <td>MI</td>\n",
       "    </tr>\n",
       "    <tr>\n",
       "      <th>1</th>\n",
       "      <td>Occidental-Petroleum</td>\n",
       "      <td>Houston, TX</td>\n",
       "      <td>cyber+security-senior_level-$120,000</td>\n",
       "      <td>IT Cyber Security Advisor</td>\n",
       "      <td>senior_level</td>\n",
       "      <td>senior_level</td>\n",
       "      <td>Houston</td>\n",
       "      <td>TX</td>\n",
       "    </tr>\n",
       "    <tr>\n",
       "      <th>2</th>\n",
       "      <td>\\n    Ingersoll Consulting Inc.</td>\n",
       "      <td>Washington, DC</td>\n",
       "      <td>cyber+security-senior_level-$120,000</td>\n",
       "      <td>Cyber Security Engineer - Lead</td>\n",
       "      <td>senior_level</td>\n",
       "      <td>senior_level</td>\n",
       "      <td>Washington</td>\n",
       "      <td>DC</td>\n",
       "    </tr>\n",
       "    <tr>\n",
       "      <th>3</th>\n",
       "      <td>Saab</td>\n",
       "      <td>Syracuse, NY</td>\n",
       "      <td>cyber+security-senior_level-$120,000</td>\n",
       "      <td>Senior Staff Systems Engineer; Saab Defense an...</td>\n",
       "      <td>senior_level</td>\n",
       "      <td>senior_level</td>\n",
       "      <td>Syracuse</td>\n",
       "      <td>NY</td>\n",
       "    </tr>\n",
       "    <tr>\n",
       "      <th>4</th>\n",
       "      <td>\\n    Executive Office of Energy and Environme...</td>\n",
       "      <td>Boston, MA</td>\n",
       "      <td>cyber+security-senior_level-$120,000</td>\n",
       "      <td>Chief Information Security Officer</td>\n",
       "      <td>senior_level</td>\n",
       "      <td>senior_level</td>\n",
       "      <td>Boston</td>\n",
       "      <td>MA</td>\n",
       "    </tr>\n",
       "  </tbody>\n",
       "</table>\n",
       "</div>"
      ],
      "text/plain": [
       "                                        company_name        location  \\\n",
       "0            Jackson-National-Life-Insurance-Company     Lansing, MI   \n",
       "1                               Occidental-Petroleum     Houston, TX   \n",
       "2                    \\n    Ingersoll Consulting Inc.  Washington, DC   \n",
       "3                                               Saab    Syracuse, NY   \n",
       "4  \\n    Executive Office of Energy and Environme...      Boston, MA   \n",
       "\n",
       "                              partition  \\\n",
       "0  cyber+security-senior_level-$120,000   \n",
       "1  cyber+security-senior_level-$120,000   \n",
       "2  cyber+security-senior_level-$120,000   \n",
       "3  cyber+security-senior_level-$120,000   \n",
       "4  cyber+security-senior_level-$120,000   \n",
       "\n",
       "                                               title         level  \\\n",
       "0                        AVP, Cybersecurity Response  senior_level   \n",
       "1                          IT Cyber Security Advisor  senior_level   \n",
       "2                     Cyber Security Engineer - Lead  senior_level   \n",
       "3  Senior Staff Systems Engineer; Saab Defense an...  senior_level   \n",
       "4                 Chief Information Security Officer  senior_level   \n",
       "\n",
       "     salary_est        city state_id  \n",
       "0  senior_level     Lansing       MI  \n",
       "1  senior_level     Houston       TX  \n",
       "2  senior_level  Washington       DC  \n",
       "3  senior_level    Syracuse       NY  \n",
       "4  senior_level      Boston       MA  "
      ]
     },
     "execution_count": 23,
     "metadata": {},
     "output_type": "execute_result"
    }
   ],
   "source": [
    "df_demand.head()"
   ]
  },
  {
   "cell_type": "code",
   "execution_count": 24,
   "metadata": {
    "ExecuteTime": {
     "end_time": "2018-04-24T02:17:24.628582Z",
     "start_time": "2018-04-24T02:17:24.539994Z"
    },
    "run_control": {
     "frozen": false,
     "read_only": false
    }
   },
   "outputs": [],
   "source": [
    "df_demand_area = (\n",
    "    df_areas\n",
    "    .reset_index(drop=True)\n",
    "    .join(\n",
    "        df_demand.set_index(['city', 'state_id']), \n",
    "        on=['city', 'state_id'], \n",
    "        how='right')\n",
    "    .reset_index(drop=True)\n",
    ")"
   ]
  },
  {
   "cell_type": "code",
   "execution_count": 25,
   "metadata": {
    "ExecuteTime": {
     "end_time": "2018-04-24T02:17:24.692376Z",
     "start_time": "2018-04-24T02:17:24.630815Z"
    },
    "run_control": {
     "frozen": false,
     "read_only": false
    }
   },
   "outputs": [
    {
     "data": {
      "text/html": [
       "<div>\n",
       "<style scoped>\n",
       "    .dataframe tbody tr th:only-of-type {\n",
       "        vertical-align: middle;\n",
       "    }\n",
       "\n",
       "    .dataframe tbody tr th {\n",
       "        vertical-align: top;\n",
       "    }\n",
       "\n",
       "    .dataframe thead th {\n",
       "        text-align: right;\n",
       "    }\n",
       "</style>\n",
       "<table border=\"1\" class=\"dataframe\">\n",
       "  <thead>\n",
       "    <tr style=\"text-align: right;\">\n",
       "      <th></th>\n",
       "      <th>CBSA</th>\n",
       "      <th>NAME</th>\n",
       "      <th>STCOU</th>\n",
       "      <th>county</th>\n",
       "      <th>state_id</th>\n",
       "      <th>city</th>\n",
       "      <th>population_proper</th>\n",
       "      <th>lat</th>\n",
       "      <th>lng</th>\n",
       "      <th>company_name</th>\n",
       "      <th>location</th>\n",
       "      <th>partition</th>\n",
       "      <th>title</th>\n",
       "      <th>level</th>\n",
       "      <th>salary_est</th>\n",
       "    </tr>\n",
       "  </thead>\n",
       "  <tbody>\n",
       "    <tr>\n",
       "      <th>0</th>\n",
       "      <td>10420.0</td>\n",
       "      <td>Summit County, OH</td>\n",
       "      <td>39153.0</td>\n",
       "      <td>Summit</td>\n",
       "      <td>OH</td>\n",
       "      <td>Akron</td>\n",
       "      <td>197633.0</td>\n",
       "      <td>41.0802</td>\n",
       "      <td>-81.5219</td>\n",
       "      <td>University-of-Akron</td>\n",
       "      <td>Akron, OH</td>\n",
       "      <td>cyber+security-senior_level-$70,000</td>\n",
       "      <td>Lead Information Security Analyst</td>\n",
       "      <td>senior_level</td>\n",
       "      <td>senior_level</td>\n",
       "    </tr>\n",
       "    <tr>\n",
       "      <th>1</th>\n",
       "      <td>10500.0</td>\n",
       "      <td>Dougherty County, GA</td>\n",
       "      <td>13095.0</td>\n",
       "      <td>Dougherty</td>\n",
       "      <td>GA</td>\n",
       "      <td>Albany</td>\n",
       "      <td>73801.0</td>\n",
       "      <td>31.5776</td>\n",
       "      <td>-84.1762</td>\n",
       "      <td>Cask,-LLC</td>\n",
       "      <td>Albany, GA</td>\n",
       "      <td>cyber+security-senior_level-$70,000</td>\n",
       "      <td>Information Assurance / Cybersecurity Analyst ...</td>\n",
       "      <td>senior_level</td>\n",
       "      <td>senior_level</td>\n",
       "    </tr>\n",
       "    <tr>\n",
       "      <th>2</th>\n",
       "      <td>10540.0</td>\n",
       "      <td>Linn County, OR</td>\n",
       "      <td>41043.0</td>\n",
       "      <td>Linn</td>\n",
       "      <td>OR</td>\n",
       "      <td>Albany</td>\n",
       "      <td>53211.0</td>\n",
       "      <td>44.6274</td>\n",
       "      <td>-123.0966</td>\n",
       "      <td>\\n    Legacy Solutions</td>\n",
       "      <td>Albany, OR</td>\n",
       "      <td>cyber+security-senior_level-$70,000</td>\n",
       "      <td>Microsoft Windows Server Administrator</td>\n",
       "      <td>senior_level</td>\n",
       "      <td>senior_level</td>\n",
       "    </tr>\n",
       "    <tr>\n",
       "      <th>3</th>\n",
       "      <td>10580.0</td>\n",
       "      <td>Albany County, NY</td>\n",
       "      <td>36001.0</td>\n",
       "      <td>Albany</td>\n",
       "      <td>NY</td>\n",
       "      <td>Albany</td>\n",
       "      <td>98111.0</td>\n",
       "      <td>42.6664</td>\n",
       "      <td>-73.7987</td>\n",
       "      <td>Goldman-Sachs</td>\n",
       "      <td>Albany, NY</td>\n",
       "      <td>cyber+security-senior_level-$90,000</td>\n",
       "      <td>PWM Technology - Ayco Technology Tech Risk Sen...</td>\n",
       "      <td>senior_level</td>\n",
       "      <td>senior_level</td>\n",
       "    </tr>\n",
       "    <tr>\n",
       "      <th>4</th>\n",
       "      <td>10740.0</td>\n",
       "      <td>Bernalillo County, NM</td>\n",
       "      <td>35001.0</td>\n",
       "      <td>Bernalillo</td>\n",
       "      <td>NM</td>\n",
       "      <td>Albuquerque</td>\n",
       "      <td>559277.0</td>\n",
       "      <td>35.1055</td>\n",
       "      <td>-106.6476</td>\n",
       "      <td>SAIC</td>\n",
       "      <td>Albuquerque, NM</td>\n",
       "      <td>cyber+security-mid_level-$100,000</td>\n",
       "      <td>SMC Cyber Security Lead Job</td>\n",
       "      <td>mid_level</td>\n",
       "      <td>mid_level</td>\n",
       "    </tr>\n",
       "  </tbody>\n",
       "</table>\n",
       "</div>"
      ],
      "text/plain": [
       "      CBSA                   NAME    STCOU      county state_id         city  \\\n",
       "0  10420.0      Summit County, OH  39153.0      Summit       OH        Akron   \n",
       "1  10500.0   Dougherty County, GA  13095.0   Dougherty       GA       Albany   \n",
       "2  10540.0        Linn County, OR  41043.0        Linn       OR       Albany   \n",
       "3  10580.0      Albany County, NY  36001.0      Albany       NY       Albany   \n",
       "4  10740.0  Bernalillo County, NM  35001.0  Bernalillo       NM  Albuquerque   \n",
       "\n",
       "   population_proper      lat       lng            company_name  \\\n",
       "0           197633.0  41.0802  -81.5219     University-of-Akron   \n",
       "1            73801.0  31.5776  -84.1762               Cask,-LLC   \n",
       "2            53211.0  44.6274 -123.0966  \\n    Legacy Solutions   \n",
       "3            98111.0  42.6664  -73.7987           Goldman-Sachs   \n",
       "4           559277.0  35.1055 -106.6476                    SAIC   \n",
       "\n",
       "          location                            partition  \\\n",
       "0        Akron, OH  cyber+security-senior_level-$70,000   \n",
       "1       Albany, GA  cyber+security-senior_level-$70,000   \n",
       "2       Albany, OR  cyber+security-senior_level-$70,000   \n",
       "3       Albany, NY  cyber+security-senior_level-$90,000   \n",
       "4  Albuquerque, NM    cyber+security-mid_level-$100,000   \n",
       "\n",
       "                                               title         level  \\\n",
       "0                  Lead Information Security Analyst  senior_level   \n",
       "1  Information Assurance / Cybersecurity Analyst ...  senior_level   \n",
       "2             Microsoft Windows Server Administrator  senior_level   \n",
       "3  PWM Technology - Ayco Technology Tech Risk Sen...  senior_level   \n",
       "4                        SMC Cyber Security Lead Job     mid_level   \n",
       "\n",
       "     salary_est  \n",
       "0  senior_level  \n",
       "1  senior_level  \n",
       "2  senior_level  \n",
       "3  senior_level  \n",
       "4     mid_level  "
      ]
     },
     "execution_count": 25,
     "metadata": {},
     "output_type": "execute_result"
    }
   ],
   "source": [
    "df_demand_area.head()"
   ]
  },
  {
   "cell_type": "code",
   "execution_count": 26,
   "metadata": {
    "ExecuteTime": {
     "end_time": "2018-04-24T02:17:24.732173Z",
     "start_time": "2018-04-24T02:17:24.694727Z"
    },
    "run_control": {
     "frozen": false,
     "read_only": false
    }
   },
   "outputs": [
    {
     "data": {
      "text/plain": [
       "15310"
      ]
     },
     "execution_count": 26,
     "metadata": {},
     "output_type": "execute_result"
    }
   ],
   "source": [
    "len(df_demand)"
   ]
  },
  {
   "cell_type": "code",
   "execution_count": 27,
   "metadata": {
    "ExecuteTime": {
     "end_time": "2018-04-24T02:17:24.789722Z",
     "start_time": "2018-04-24T02:17:24.734365Z"
    },
    "run_control": {
     "frozen": false,
     "read_only": false
    }
   },
   "outputs": [],
   "source": [
    "df_demand_area['jobs'] = 1\n",
    "df_demand_count = pd.DataFrame(df_demand_area.groupby('CBSA').count()['jobs'].reset_index())"
   ]
  },
  {
   "cell_type": "markdown",
   "metadata": {
    "ExecuteTime": {
     "end_time": "2018-04-22T03:34:00.044394Z",
     "start_time": "2018-04-22T03:34:00.007735Z"
    }
   },
   "source": [
    "### Supply"
   ]
  },
  {
   "cell_type": "code",
   "execution_count": 28,
   "metadata": {
    "ExecuteTime": {
     "end_time": "2018-04-24T02:17:25.114819Z",
     "start_time": "2018-04-24T02:17:24.791917Z"
    },
    "run_control": {
     "frozen": false,
     "read_only": false
    }
   },
   "outputs": [],
   "source": [
    "df_supply = pd.read_csv(os.path.join(DATA_DIR, 'resumes_cyber+security_all_partitions.tsv'), sep='\\t')\n",
    "df_supply = df_supply[df_supply['location'].apply(lambda x: isinstance(x, str) and ', ' in x)]\n",
    "df_supply['city'] = df_supply['location'].apply(lambda x: x.split(', ')[0])\n",
    "df_supply['state_id'] = df_supply['location'].apply(lambda x: x.split(', ')[1])\n",
    "df_supply = df_supply[['experience', 'company', 'degree', 'partition', 'city', 'state_id']]"
   ]
  },
  {
   "cell_type": "code",
   "execution_count": 29,
   "metadata": {
    "ExecuteTime": {
     "end_time": "2018-04-24T02:17:25.291368Z",
     "start_time": "2018-04-24T02:17:25.117100Z"
    },
    "run_control": {
     "frozen": false,
     "read_only": false
    }
   },
   "outputs": [],
   "source": [
    "df_supply['indeed_experience'] = df_supply['partition'].apply(lambda x: x.split('-')[-2])\n",
    "df_supply['indeed_degree'] = df_supply['partition'].apply(lambda x: x.split('-')[-1])"
   ]
  },
  {
   "cell_type": "code",
   "execution_count": 30,
   "metadata": {
    "ExecuteTime": {
     "end_time": "2018-04-24T02:17:25.338649Z",
     "start_time": "2018-04-24T02:17:25.294041Z"
    },
    "run_control": {
     "frozen": false,
     "read_only": false
    }
   },
   "outputs": [
    {
     "data": {
      "text/plain": [
       "array(['bachelor', 'master', 'associate', 'doctor', 'diploma'], dtype=object)"
      ]
     },
     "execution_count": 30,
     "metadata": {},
     "output_type": "execute_result"
    }
   ],
   "source": [
    "df_supply['indeed_degree'].unique()"
   ]
  },
  {
   "cell_type": "code",
   "execution_count": 31,
   "metadata": {
    "ExecuteTime": {
     "end_time": "2018-04-24T02:17:25.407378Z",
     "start_time": "2018-04-24T02:17:25.340737Z"
    },
    "run_control": {
     "frozen": false,
     "read_only": false
    }
   },
   "outputs": [],
   "source": [
    "df_supply = df_supply[df_supply['indeed_experience'].isin(indeed_experience_filter)]\n",
    "df_supply = df_supply[df_supply['indeed_degree'].isin(indeed_degree_filter)]"
   ]
  },
  {
   "cell_type": "code",
   "execution_count": 32,
   "metadata": {
    "ExecuteTime": {
     "end_time": "2018-04-24T02:17:25.462670Z",
     "start_time": "2018-04-24T02:17:25.409720Z"
    },
    "run_control": {
     "frozen": false,
     "read_only": false
    }
   },
   "outputs": [
    {
     "data": {
      "text/html": [
       "<div>\n",
       "<style scoped>\n",
       "    .dataframe tbody tr th:only-of-type {\n",
       "        vertical-align: middle;\n",
       "    }\n",
       "\n",
       "    .dataframe tbody tr th {\n",
       "        vertical-align: top;\n",
       "    }\n",
       "\n",
       "    .dataframe thead th {\n",
       "        text-align: right;\n",
       "    }\n",
       "</style>\n",
       "<table border=\"1\" class=\"dataframe\">\n",
       "  <thead>\n",
       "    <tr style=\"text-align: right;\">\n",
       "      <th></th>\n",
       "      <th>experience</th>\n",
       "      <th>company</th>\n",
       "      <th>degree</th>\n",
       "      <th>partition</th>\n",
       "      <th>city</th>\n",
       "      <th>state_id</th>\n",
       "      <th>indeed_experience</th>\n",
       "      <th>indeed_degree</th>\n",
       "    </tr>\n",
       "  </thead>\n",
       "  <tbody>\n",
       "    <tr>\n",
       "      <th>4800</th>\n",
       "      <td>Senior Principal Cyber Security Engineer</td>\n",
       "      <td>Smiths Medical ASD</td>\n",
       "      <td>Certification</td>\n",
       "      <td>resumes-cyber+security-exp_25_60-master</td>\n",
       "      <td>Hudson</td>\n",
       "      <td>WI</td>\n",
       "      <td>exp_25_60</td>\n",
       "      <td>master</td>\n",
       "    </tr>\n",
       "    <tr>\n",
       "      <th>4802</th>\n",
       "      <td>Night Auditor</td>\n",
       "      <td>Even Hotel</td>\n",
       "      <td>MS</td>\n",
       "      <td>resumes-cyber+security-exp_25_60-master</td>\n",
       "      <td>Melbourne</td>\n",
       "      <td>FL</td>\n",
       "      <td>exp_25_60</td>\n",
       "      <td>master</td>\n",
       "    </tr>\n",
       "    <tr>\n",
       "      <th>4803</th>\n",
       "      <td>IT Analyst</td>\n",
       "      <td>E2 Labs</td>\n",
       "      <td>Master's</td>\n",
       "      <td>resumes-cyber+security-exp_25_60-master</td>\n",
       "      <td>Manchester</td>\n",
       "      <td>NH</td>\n",
       "      <td>exp_25_60</td>\n",
       "      <td>master</td>\n",
       "    </tr>\n",
       "    <tr>\n",
       "      <th>4804</th>\n",
       "      <td>Computer Engineer (0854) GS-13</td>\n",
       "      <td>US Army, USNORTHCOM</td>\n",
       "      <td>Masters of Science</td>\n",
       "      <td>resumes-cyber+security-exp_25_60-master</td>\n",
       "      <td>Castle Rock</td>\n",
       "      <td>CO</td>\n",
       "      <td>exp_25_60</td>\n",
       "      <td>master</td>\n",
       "    </tr>\n",
       "    <tr>\n",
       "      <th>4805</th>\n",
       "      <td>Information System Security Officer</td>\n",
       "      <td>Raytheon Missile Systems</td>\n",
       "      <td>Associate of Applied Science</td>\n",
       "      <td>resumes-cyber+security-exp_25_60-master</td>\n",
       "      <td>Gilbert</td>\n",
       "      <td>AZ</td>\n",
       "      <td>exp_25_60</td>\n",
       "      <td>master</td>\n",
       "    </tr>\n",
       "  </tbody>\n",
       "</table>\n",
       "</div>"
      ],
      "text/plain": [
       "                                    experience                   company  \\\n",
       "4800  Senior Principal Cyber Security Engineer        Smiths Medical ASD   \n",
       "4802                             Night Auditor                Even Hotel   \n",
       "4803                                IT Analyst                   E2 Labs   \n",
       "4804            Computer Engineer (0854) GS-13       US Army, USNORTHCOM   \n",
       "4805       Information System Security Officer  Raytheon Missile Systems   \n",
       "\n",
       "                            degree                                partition  \\\n",
       "4800                 Certification  resumes-cyber+security-exp_25_60-master   \n",
       "4802                            MS  resumes-cyber+security-exp_25_60-master   \n",
       "4803                      Master's  resumes-cyber+security-exp_25_60-master   \n",
       "4804            Masters of Science  resumes-cyber+security-exp_25_60-master   \n",
       "4805  Associate of Applied Science  resumes-cyber+security-exp_25_60-master   \n",
       "\n",
       "             city state_id indeed_experience indeed_degree  \n",
       "4800       Hudson       WI         exp_25_60        master  \n",
       "4802    Melbourne       FL         exp_25_60        master  \n",
       "4803   Manchester       NH         exp_25_60        master  \n",
       "4804  Castle Rock       CO         exp_25_60        master  \n",
       "4805      Gilbert       AZ         exp_25_60        master  "
      ]
     },
     "execution_count": 32,
     "metadata": {},
     "output_type": "execute_result"
    }
   ],
   "source": [
    "df_supply.head()"
   ]
  },
  {
   "cell_type": "code",
   "execution_count": 33,
   "metadata": {
    "ExecuteTime": {
     "end_time": "2018-04-24T02:17:25.564587Z",
     "start_time": "2018-04-24T02:17:25.465405Z"
    },
    "run_control": {
     "frozen": false,
     "read_only": false
    }
   },
   "outputs": [],
   "source": [
    "df_supply_area = (\n",
    "    df_areas\n",
    "    .reset_index(drop=True)\n",
    "    .join(\n",
    "        df_supply.set_index(['city', 'state_id']), \n",
    "        on=['city', 'state_id'], \n",
    "        how='right')\n",
    "    .reset_index()\n",
    ")"
   ]
  },
  {
   "cell_type": "code",
   "execution_count": 34,
   "metadata": {
    "ExecuteTime": {
     "end_time": "2018-04-24T02:17:25.605326Z",
     "start_time": "2018-04-24T02:17:25.567417Z"
    },
    "run_control": {
     "frozen": false,
     "read_only": false
    }
   },
   "outputs": [],
   "source": [
    "# df_supply_area['CBSA'] = df_supply_area['CBSA'].astype(int)"
   ]
  },
  {
   "cell_type": "code",
   "execution_count": 35,
   "metadata": {
    "ExecuteTime": {
     "end_time": "2018-04-24T02:17:25.674392Z",
     "start_time": "2018-04-24T02:17:25.608539Z"
    },
    "run_control": {
     "frozen": false,
     "read_only": false
    }
   },
   "outputs": [
    {
     "data": {
      "text/html": [
       "<div>\n",
       "<style scoped>\n",
       "    .dataframe tbody tr th:only-of-type {\n",
       "        vertical-align: middle;\n",
       "    }\n",
       "\n",
       "    .dataframe tbody tr th {\n",
       "        vertical-align: top;\n",
       "    }\n",
       "\n",
       "    .dataframe thead th {\n",
       "        text-align: right;\n",
       "    }\n",
       "</style>\n",
       "<table border=\"1\" class=\"dataframe\">\n",
       "  <thead>\n",
       "    <tr style=\"text-align: right;\">\n",
       "      <th></th>\n",
       "      <th>index</th>\n",
       "      <th>CBSA</th>\n",
       "      <th>NAME</th>\n",
       "      <th>STCOU</th>\n",
       "      <th>county</th>\n",
       "      <th>state_id</th>\n",
       "      <th>city</th>\n",
       "      <th>population_proper</th>\n",
       "      <th>lat</th>\n",
       "      <th>lng</th>\n",
       "      <th>experience</th>\n",
       "      <th>company</th>\n",
       "      <th>degree</th>\n",
       "      <th>partition</th>\n",
       "      <th>indeed_experience</th>\n",
       "      <th>indeed_degree</th>\n",
       "    </tr>\n",
       "  </thead>\n",
       "  <tbody>\n",
       "    <tr>\n",
       "      <th>0</th>\n",
       "      <td>27</td>\n",
       "      <td>10180.0</td>\n",
       "      <td>Taylor County, TX</td>\n",
       "      <td>48441.0</td>\n",
       "      <td>Taylor</td>\n",
       "      <td>TX</td>\n",
       "      <td>Abilene</td>\n",
       "      <td>122225.0</td>\n",
       "      <td>32.4543</td>\n",
       "      <td>-99.7384</td>\n",
       "      <td>Programming Tutor</td>\n",
       "      <td>Hardin-Simmons University</td>\n",
       "      <td>Masters of Science</td>\n",
       "      <td>resumes-cyber+security-exp_61_120-master</td>\n",
       "      <td>exp_61_120</td>\n",
       "      <td>master</td>\n",
       "    </tr>\n",
       "    <tr>\n",
       "      <th>1</th>\n",
       "      <td>27</td>\n",
       "      <td>10180.0</td>\n",
       "      <td>Taylor County, TX</td>\n",
       "      <td>48441.0</td>\n",
       "      <td>Taylor</td>\n",
       "      <td>TX</td>\n",
       "      <td>Abilene</td>\n",
       "      <td>122225.0</td>\n",
       "      <td>32.4543</td>\n",
       "      <td>-99.7384</td>\n",
       "      <td>Programming Tutor</td>\n",
       "      <td>Hardin-Simmons University</td>\n",
       "      <td>Masters of Science</td>\n",
       "      <td>resumes-cyber+security-exp_61_120-master</td>\n",
       "      <td>exp_61_120</td>\n",
       "      <td>master</td>\n",
       "    </tr>\n",
       "    <tr>\n",
       "      <th>2</th>\n",
       "      <td>27</td>\n",
       "      <td>10180.0</td>\n",
       "      <td>Taylor County, TX</td>\n",
       "      <td>48441.0</td>\n",
       "      <td>Taylor</td>\n",
       "      <td>TX</td>\n",
       "      <td>Abilene</td>\n",
       "      <td>122225.0</td>\n",
       "      <td>32.4543</td>\n",
       "      <td>-99.7384</td>\n",
       "      <td>Programming Tutor</td>\n",
       "      <td>Hardin-Simmons University</td>\n",
       "      <td>Masters of Science</td>\n",
       "      <td>resumes-cyber+security-exp_61_120-master</td>\n",
       "      <td>exp_61_120</td>\n",
       "      <td>master</td>\n",
       "    </tr>\n",
       "    <tr>\n",
       "      <th>3</th>\n",
       "      <td>27</td>\n",
       "      <td>10180.0</td>\n",
       "      <td>Taylor County, TX</td>\n",
       "      <td>48441.0</td>\n",
       "      <td>Taylor</td>\n",
       "      <td>TX</td>\n",
       "      <td>Abilene</td>\n",
       "      <td>122225.0</td>\n",
       "      <td>32.4543</td>\n",
       "      <td>-99.7384</td>\n",
       "      <td>Programming Tutor</td>\n",
       "      <td>Hardin-Simmons University</td>\n",
       "      <td>Masters of Science</td>\n",
       "      <td>resumes-cyber+security-exp_61_120-master</td>\n",
       "      <td>exp_61_120</td>\n",
       "      <td>master</td>\n",
       "    </tr>\n",
       "    <tr>\n",
       "      <th>4</th>\n",
       "      <td>33</td>\n",
       "      <td>10420.0</td>\n",
       "      <td>Portage County, OH</td>\n",
       "      <td>39133.0</td>\n",
       "      <td>Portage</td>\n",
       "      <td>OH</td>\n",
       "      <td>Kent</td>\n",
       "      <td>30071.0</td>\n",
       "      <td>41.1491</td>\n",
       "      <td>-81.3610</td>\n",
       "      <td>Hadoop Developer</td>\n",
       "      <td>Persistent Systems Limited</td>\n",
       "      <td>Master of Science</td>\n",
       "      <td>resumes-cyber+security-exp_12_24-master</td>\n",
       "      <td>exp_12_24</td>\n",
       "      <td>master</td>\n",
       "    </tr>\n",
       "  </tbody>\n",
       "</table>\n",
       "</div>"
      ],
      "text/plain": [
       "   index     CBSA                NAME    STCOU   county state_id     city  \\\n",
       "0     27  10180.0   Taylor County, TX  48441.0   Taylor       TX  Abilene   \n",
       "1     27  10180.0   Taylor County, TX  48441.0   Taylor       TX  Abilene   \n",
       "2     27  10180.0   Taylor County, TX  48441.0   Taylor       TX  Abilene   \n",
       "3     27  10180.0   Taylor County, TX  48441.0   Taylor       TX  Abilene   \n",
       "4     33  10420.0  Portage County, OH  39133.0  Portage       OH     Kent   \n",
       "\n",
       "   population_proper      lat      lng         experience  \\\n",
       "0           122225.0  32.4543 -99.7384  Programming Tutor   \n",
       "1           122225.0  32.4543 -99.7384  Programming Tutor   \n",
       "2           122225.0  32.4543 -99.7384  Programming Tutor   \n",
       "3           122225.0  32.4543 -99.7384  Programming Tutor   \n",
       "4            30071.0  41.1491 -81.3610   Hadoop Developer   \n",
       "\n",
       "                      company              degree  \\\n",
       "0   Hardin-Simmons University  Masters of Science   \n",
       "1   Hardin-Simmons University  Masters of Science   \n",
       "2   Hardin-Simmons University  Masters of Science   \n",
       "3   Hardin-Simmons University  Masters of Science   \n",
       "4  Persistent Systems Limited   Master of Science   \n",
       "\n",
       "                                  partition indeed_experience indeed_degree  \n",
       "0  resumes-cyber+security-exp_61_120-master        exp_61_120        master  \n",
       "1  resumes-cyber+security-exp_61_120-master        exp_61_120        master  \n",
       "2  resumes-cyber+security-exp_61_120-master        exp_61_120        master  \n",
       "3  resumes-cyber+security-exp_61_120-master        exp_61_120        master  \n",
       "4   resumes-cyber+security-exp_12_24-master         exp_12_24        master  "
      ]
     },
     "execution_count": 35,
     "metadata": {},
     "output_type": "execute_result"
    }
   ],
   "source": [
    "df_supply_area.head()"
   ]
  },
  {
   "cell_type": "code",
   "execution_count": 36,
   "metadata": {
    "ExecuteTime": {
     "end_time": "2018-04-24T02:17:25.733875Z",
     "start_time": "2018-04-24T02:17:25.677131Z"
    },
    "run_control": {
     "frozen": false,
     "read_only": false
    }
   },
   "outputs": [],
   "source": [
    "df_supply_area['resumes'] = 1\n",
    "df_supply_count = pd.DataFrame(df_supply_area.groupby('CBSA').count()[['resumes']].reset_index())"
   ]
  },
  {
   "cell_type": "markdown",
   "metadata": {},
   "source": [
    "### Affortability"
   ]
  },
  {
   "cell_type": "code",
   "execution_count": 37,
   "metadata": {
    "ExecuteTime": {
     "end_time": "2018-04-24T02:17:25.794259Z",
     "start_time": "2018-04-24T02:17:25.736236Z"
    },
    "run_control": {
     "frozen": false,
     "read_only": false
    }
   },
   "outputs": [],
   "source": [
    "os.listdir(DATA_DIR)\n",
    "df_relative_cost = pd.read_csv(os.path.join(DATA_DIR, 'cities_relative_cost.tsv'), sep='\\t')\n",
    "df_relative_cost['location'] = df_relative_cost['city']\n",
    "df_relative_cost = df_relative_cost.drop(columns=['city'], axis=1)[['location', 'relative_cost']]\n",
    "df_relative_cost = df_relative_cost.reset_index(drop=True)\n",
    "df_relative_cost = df_relative_cost[df_relative_cost['location'].apply(lambda x: isinstance(x, str) and ', ' in x)]\n",
    "df_relative_cost['city'] = df_relative_cost['location'].apply(lambda x: x.split(', ')[0])\n",
    "df_relative_cost['state_id'] = df_relative_cost['location'].apply(lambda x: x.split(', ')[1])\n"
   ]
  },
  {
   "cell_type": "code",
   "execution_count": 38,
   "metadata": {
    "ExecuteTime": {
     "end_time": "2018-04-24T02:17:25.865125Z",
     "start_time": "2018-04-24T02:17:25.796653Z"
    },
    "run_control": {
     "frozen": false,
     "read_only": false
    }
   },
   "outputs": [],
   "source": [
    "df_relative_cost_area = (\n",
    "    df_areas\n",
    "    .reset_index(drop=True)\n",
    "    .join(\n",
    "        df_relative_cost.set_index(['city', 'state_id']), \n",
    "        on=['city', 'state_id'], \n",
    "        how='right')\n",
    "    .reset_index()\n",
    ")"
   ]
  },
  {
   "cell_type": "code",
   "execution_count": 39,
   "metadata": {
    "ExecuteTime": {
     "end_time": "2018-04-24T02:17:25.968883Z",
     "start_time": "2018-04-24T02:17:25.867354Z"
    },
    "run_control": {
     "frozen": false,
     "read_only": false
    }
   },
   "outputs": [],
   "source": [
    "df_relative_cost_area['affortability'] = 1 / df_relative_cost_area['relative_cost']\n",
    "df_relative_cost_area_mean = df_relative_cost_area[['CBSA', 'affortability']].groupby('CBSA').mean()\n"
   ]
  },
  {
   "cell_type": "code",
   "execution_count": 40,
   "metadata": {
    "ExecuteTime": {
     "end_time": "2018-04-24T02:17:26.022367Z",
     "start_time": "2018-04-24T02:17:25.971912Z"
    },
    "run_control": {
     "frozen": false,
     "read_only": false
    }
   },
   "outputs": [
    {
     "data": {
      "text/html": [
       "<div>\n",
       "<style scoped>\n",
       "    .dataframe tbody tr th:only-of-type {\n",
       "        vertical-align: middle;\n",
       "    }\n",
       "\n",
       "    .dataframe tbody tr th {\n",
       "        vertical-align: top;\n",
       "    }\n",
       "\n",
       "    .dataframe thead th {\n",
       "        text-align: right;\n",
       "    }\n",
       "</style>\n",
       "<table border=\"1\" class=\"dataframe\">\n",
       "  <thead>\n",
       "    <tr style=\"text-align: right;\">\n",
       "      <th></th>\n",
       "      <th>affortability</th>\n",
       "    </tr>\n",
       "    <tr>\n",
       "      <th>CBSA</th>\n",
       "      <th></th>\n",
       "    </tr>\n",
       "  </thead>\n",
       "  <tbody>\n",
       "    <tr>\n",
       "      <th>10180.0</th>\n",
       "      <td>2.180452</td>\n",
       "    </tr>\n",
       "    <tr>\n",
       "      <th>10580.0</th>\n",
       "      <td>1.869011</td>\n",
       "    </tr>\n",
       "    <tr>\n",
       "      <th>10740.0</th>\n",
       "      <td>2.179520</td>\n",
       "    </tr>\n",
       "    <tr>\n",
       "      <th>10900.0</th>\n",
       "      <td>2.033766</td>\n",
       "    </tr>\n",
       "    <tr>\n",
       "      <th>11100.0</th>\n",
       "      <td>2.308799</td>\n",
       "    </tr>\n",
       "  </tbody>\n",
       "</table>\n",
       "</div>"
      ],
      "text/plain": [
       "         affortability\n",
       "CBSA                  \n",
       "10180.0       2.180452\n",
       "10580.0       1.869011\n",
       "10740.0       2.179520\n",
       "10900.0       2.033766\n",
       "11100.0       2.308799"
      ]
     },
     "execution_count": 40,
     "metadata": {},
     "output_type": "execute_result"
    }
   ],
   "source": [
    "df_relative_cost_area_mean.head()"
   ]
  },
  {
   "cell_type": "markdown",
   "metadata": {},
   "source": [
    "### Poseidon_score"
   ]
  },
  {
   "cell_type": "code",
   "execution_count": 41,
   "metadata": {
    "ExecuteTime": {
     "end_time": "2018-04-24T02:17:26.061966Z",
     "start_time": "2018-04-24T02:17:26.024561Z"
    },
    "run_control": {
     "frozen": false,
     "read_only": false
    }
   },
   "outputs": [],
   "source": [
    "def calc_poseidon_score(df): \n",
    "    return (df['resumes'] + df['mean_resumes']) / (df['jobs'] + df['mean_jobs']) * df['affortability']**0.5"
   ]
  },
  {
   "cell_type": "markdown",
   "metadata": {},
   "source": [
    "#### Pull data together"
   ]
  },
  {
   "cell_type": "code",
   "execution_count": 42,
   "metadata": {
    "ExecuteTime": {
     "end_time": "2018-04-24T02:17:26.109179Z",
     "start_time": "2018-04-24T02:17:26.065688Z"
    },
    "run_control": {
     "frozen": false,
     "read_only": false
    }
   },
   "outputs": [
    {
     "data": {
      "text/html": [
       "<div>\n",
       "<style scoped>\n",
       "    .dataframe tbody tr th:only-of-type {\n",
       "        vertical-align: middle;\n",
       "    }\n",
       "\n",
       "    .dataframe tbody tr th {\n",
       "        vertical-align: top;\n",
       "    }\n",
       "\n",
       "    .dataframe thead th {\n",
       "        text-align: right;\n",
       "    }\n",
       "</style>\n",
       "<table border=\"1\" class=\"dataframe\">\n",
       "  <thead>\n",
       "    <tr style=\"text-align: right;\">\n",
       "      <th></th>\n",
       "      <th>affortability</th>\n",
       "    </tr>\n",
       "    <tr>\n",
       "      <th>CBSA</th>\n",
       "      <th></th>\n",
       "    </tr>\n",
       "  </thead>\n",
       "  <tbody>\n",
       "    <tr>\n",
       "      <th>10180.0</th>\n",
       "      <td>2.180452</td>\n",
       "    </tr>\n",
       "    <tr>\n",
       "      <th>10580.0</th>\n",
       "      <td>1.869011</td>\n",
       "    </tr>\n",
       "    <tr>\n",
       "      <th>10740.0</th>\n",
       "      <td>2.179520</td>\n",
       "    </tr>\n",
       "    <tr>\n",
       "      <th>10900.0</th>\n",
       "      <td>2.033766</td>\n",
       "    </tr>\n",
       "    <tr>\n",
       "      <th>11100.0</th>\n",
       "      <td>2.308799</td>\n",
       "    </tr>\n",
       "  </tbody>\n",
       "</table>\n",
       "</div>"
      ],
      "text/plain": [
       "         affortability\n",
       "CBSA                  \n",
       "10180.0       2.180452\n",
       "10580.0       1.869011\n",
       "10740.0       2.179520\n",
       "10900.0       2.033766\n",
       "11100.0       2.308799"
      ]
     },
     "execution_count": 42,
     "metadata": {},
     "output_type": "execute_result"
    }
   ],
   "source": [
    "df_relative_cost_area_mean.head()"
   ]
  },
  {
   "cell_type": "code",
   "execution_count": 43,
   "metadata": {
    "ExecuteTime": {
     "end_time": "2018-04-24T02:17:26.154239Z",
     "start_time": "2018-04-24T02:17:26.111833Z"
    },
    "run_control": {
     "frozen": false,
     "read_only": false
    }
   },
   "outputs": [],
   "source": [
    "df_demand_supply = (\n",
    "    df_demand_count\n",
    "    .reset_index(drop=True)\n",
    "    .join(\n",
    "        df_supply_count.set_index('CBSA'), \n",
    "        how='inner', \n",
    "        on='CBSA'))\n"
   ]
  },
  {
   "cell_type": "code",
   "execution_count": 44,
   "metadata": {
    "ExecuteTime": {
     "end_time": "2018-04-24T02:17:26.201879Z",
     "start_time": "2018-04-24T02:17:26.157051Z"
    },
    "run_control": {
     "frozen": false,
     "read_only": false
    }
   },
   "outputs": [
    {
     "data": {
      "text/html": [
       "<div>\n",
       "<style scoped>\n",
       "    .dataframe tbody tr th:only-of-type {\n",
       "        vertical-align: middle;\n",
       "    }\n",
       "\n",
       "    .dataframe tbody tr th {\n",
       "        vertical-align: top;\n",
       "    }\n",
       "\n",
       "    .dataframe thead th {\n",
       "        text-align: right;\n",
       "    }\n",
       "</style>\n",
       "<table border=\"1\" class=\"dataframe\">\n",
       "  <thead>\n",
       "    <tr style=\"text-align: right;\">\n",
       "      <th></th>\n",
       "      <th>CBSA</th>\n",
       "      <th>jobs</th>\n",
       "      <th>resumes</th>\n",
       "    </tr>\n",
       "  </thead>\n",
       "  <tbody>\n",
       "    <tr>\n",
       "      <th>0</th>\n",
       "      <td>10420.0</td>\n",
       "      <td>1</td>\n",
       "      <td>10</td>\n",
       "    </tr>\n",
       "    <tr>\n",
       "      <th>3</th>\n",
       "      <td>10580.0</td>\n",
       "      <td>1</td>\n",
       "      <td>43</td>\n",
       "    </tr>\n",
       "    <tr>\n",
       "      <th>4</th>\n",
       "      <td>10740.0</td>\n",
       "      <td>13</td>\n",
       "      <td>46</td>\n",
       "    </tr>\n",
       "    <tr>\n",
       "      <th>5</th>\n",
       "      <td>10900.0</td>\n",
       "      <td>11</td>\n",
       "      <td>21</td>\n",
       "    </tr>\n",
       "    <tr>\n",
       "      <th>7</th>\n",
       "      <td>11100.0</td>\n",
       "      <td>9</td>\n",
       "      <td>7</td>\n",
       "    </tr>\n",
       "  </tbody>\n",
       "</table>\n",
       "</div>"
      ],
      "text/plain": [
       "      CBSA  jobs  resumes\n",
       "0  10420.0     1       10\n",
       "3  10580.0     1       43\n",
       "4  10740.0    13       46\n",
       "5  10900.0    11       21\n",
       "7  11100.0     9        7"
      ]
     },
     "execution_count": 44,
     "metadata": {},
     "output_type": "execute_result"
    }
   ],
   "source": [
    "df_demand_supply.head()"
   ]
  },
  {
   "cell_type": "code",
   "execution_count": 45,
   "metadata": {
    "ExecuteTime": {
     "end_time": "2018-04-24T02:17:26.244482Z",
     "start_time": "2018-04-24T02:17:26.204507Z"
    },
    "run_control": {
     "frozen": false,
     "read_only": false
    }
   },
   "outputs": [],
   "source": [
    "df_supply_demand_relative_cost = (\n",
    "    df_demand_supply\n",
    "    .join(\n",
    "        df_relative_cost_area_mean, \n",
    "        how='inner', \n",
    "        on='CBSA'))"
   ]
  },
  {
   "cell_type": "code",
   "execution_count": 46,
   "metadata": {
    "ExecuteTime": {
     "end_time": "2018-04-24T02:17:26.292778Z",
     "start_time": "2018-04-24T02:17:26.247400Z"
    },
    "run_control": {
     "frozen": false,
     "read_only": false
    }
   },
   "outputs": [
    {
     "data": {
      "text/html": [
       "<div>\n",
       "<style scoped>\n",
       "    .dataframe tbody tr th:only-of-type {\n",
       "        vertical-align: middle;\n",
       "    }\n",
       "\n",
       "    .dataframe tbody tr th {\n",
       "        vertical-align: top;\n",
       "    }\n",
       "\n",
       "    .dataframe thead th {\n",
       "        text-align: right;\n",
       "    }\n",
       "</style>\n",
       "<table border=\"1\" class=\"dataframe\">\n",
       "  <thead>\n",
       "    <tr style=\"text-align: right;\">\n",
       "      <th></th>\n",
       "      <th>CBSA</th>\n",
       "      <th>jobs</th>\n",
       "      <th>resumes</th>\n",
       "      <th>affortability</th>\n",
       "    </tr>\n",
       "  </thead>\n",
       "  <tbody>\n",
       "    <tr>\n",
       "      <th>3</th>\n",
       "      <td>10580.0</td>\n",
       "      <td>1</td>\n",
       "      <td>43</td>\n",
       "      <td>1.869011</td>\n",
       "    </tr>\n",
       "    <tr>\n",
       "      <th>4</th>\n",
       "      <td>10740.0</td>\n",
       "      <td>13</td>\n",
       "      <td>46</td>\n",
       "      <td>2.179520</td>\n",
       "    </tr>\n",
       "    <tr>\n",
       "      <th>5</th>\n",
       "      <td>10900.0</td>\n",
       "      <td>11</td>\n",
       "      <td>21</td>\n",
       "      <td>2.033766</td>\n",
       "    </tr>\n",
       "    <tr>\n",
       "      <th>7</th>\n",
       "      <td>11100.0</td>\n",
       "      <td>9</td>\n",
       "      <td>7</td>\n",
       "      <td>2.308799</td>\n",
       "    </tr>\n",
       "    <tr>\n",
       "      <th>8</th>\n",
       "      <td>11460.0</td>\n",
       "      <td>3</td>\n",
       "      <td>39</td>\n",
       "      <td>1.768038</td>\n",
       "    </tr>\n",
       "  </tbody>\n",
       "</table>\n",
       "</div>"
      ],
      "text/plain": [
       "      CBSA  jobs  resumes  affortability\n",
       "3  10580.0     1       43       1.869011\n",
       "4  10740.0    13       46       2.179520\n",
       "5  10900.0    11       21       2.033766\n",
       "7  11100.0     9        7       2.308799\n",
       "8  11460.0     3       39       1.768038"
      ]
     },
     "execution_count": 46,
     "metadata": {},
     "output_type": "execute_result"
    }
   ],
   "source": [
    "df_supply_demand_relative_cost.head()"
   ]
  },
  {
   "cell_type": "code",
   "execution_count": 47,
   "metadata": {
    "ExecuteTime": {
     "end_time": "2018-04-24T02:17:26.335140Z",
     "start_time": "2018-04-24T02:17:26.295543Z"
    },
    "run_control": {
     "frozen": false,
     "read_only": false
    }
   },
   "outputs": [],
   "source": [
    "df_supply_demand_relative_cost['mean_jobs'] = df_supply_demand_relative_cost['jobs'].mean()\n",
    "df_supply_demand_relative_cost['mean_resumes'] = df_supply_demand_relative_cost['resumes'].mean()"
   ]
  },
  {
   "cell_type": "markdown",
   "metadata": {},
   "source": [
    "#### Calculate Poseidon score"
   ]
  },
  {
   "cell_type": "code",
   "execution_count": 48,
   "metadata": {
    "ExecuteTime": {
     "end_time": "2018-04-24T02:17:26.380700Z",
     "start_time": "2018-04-24T02:17:26.338482Z"
    },
    "run_control": {
     "frozen": false,
     "read_only": false
    }
   },
   "outputs": [],
   "source": [
    "df_poseidon = df_supply_demand_relative_cost\n",
    "df_poseidon['poseidon_score'] = calc_poseidon_score(df_poseidon)\n",
    "df_poseidon = df_poseidon.sort_values(by='poseidon_score', ascending=False).reset_index(drop=True)"
   ]
  },
  {
   "cell_type": "code",
   "execution_count": 49,
   "metadata": {
    "ExecuteTime": {
     "end_time": "2018-04-24T02:17:26.423561Z",
     "start_time": "2018-04-24T02:17:26.382901Z"
    },
    "run_control": {
     "frozen": false,
     "read_only": false
    }
   },
   "outputs": [],
   "source": [
    "df_poseidon.to_csv(os.path.join(DATA_DIR, 'posoidon_scores.tsv'), sep='\\t')"
   ]
  },
  {
   "cell_type": "code",
   "execution_count": 50,
   "metadata": {
    "ExecuteTime": {
     "end_time": "2018-04-24T02:17:26.464476Z",
     "start_time": "2018-04-24T02:17:26.425745Z"
    },
    "run_control": {
     "frozen": false,
     "read_only": false
    }
   },
   "outputs": [],
   "source": [
    "df_poseidon = df_poseidon[(df_poseidon['jobs'] >= min_jobs) & (df_poseidon['resumes'] >= min_resumes)] "
   ]
  },
  {
   "cell_type": "code",
   "execution_count": 51,
   "metadata": {
    "ExecuteTime": {
     "end_time": "2018-04-24T02:17:26.504096Z",
     "start_time": "2018-04-24T02:17:26.466545Z"
    },
    "run_control": {
     "frozen": false,
     "read_only": false
    }
   },
   "outputs": [],
   "source": [
    "poseidon_cols = ['CBSA', 'jobs', 'resumes', 'affortability', 'poseidon_score']"
   ]
  },
  {
   "cell_type": "code",
   "execution_count": 52,
   "metadata": {
    "ExecuteTime": {
     "end_time": "2018-04-24T02:17:26.558691Z",
     "start_time": "2018-04-24T02:17:26.506330Z"
    },
    "run_control": {
     "frozen": false,
     "read_only": false
    }
   },
   "outputs": [
    {
     "data": {
      "text/html": [
       "<div>\n",
       "<style scoped>\n",
       "    .dataframe tbody tr th:only-of-type {\n",
       "        vertical-align: middle;\n",
       "    }\n",
       "\n",
       "    .dataframe tbody tr th {\n",
       "        vertical-align: top;\n",
       "    }\n",
       "\n",
       "    .dataframe thead th {\n",
       "        text-align: right;\n",
       "    }\n",
       "</style>\n",
       "<table border=\"1\" class=\"dataframe\">\n",
       "  <thead>\n",
       "    <tr style=\"text-align: right;\">\n",
       "      <th></th>\n",
       "      <th>CBSA</th>\n",
       "      <th>jobs</th>\n",
       "      <th>resumes</th>\n",
       "      <th>affortability</th>\n",
       "      <th>poseidon_score</th>\n",
       "    </tr>\n",
       "  </thead>\n",
       "  <tbody>\n",
       "    <tr>\n",
       "      <th>0</th>\n",
       "      <td>41700.0</td>\n",
       "      <td>29</td>\n",
       "      <td>291</td>\n",
       "      <td>2.199351</td>\n",
       "      <td>6.487989</td>\n",
       "    </tr>\n",
       "    <tr>\n",
       "      <th>1</th>\n",
       "      <td>33100.0</td>\n",
       "      <td>36</td>\n",
       "      <td>275</td>\n",
       "      <td>1.602249</td>\n",
       "      <td>4.977234</td>\n",
       "    </tr>\n",
       "    <tr>\n",
       "      <th>2</th>\n",
       "      <td>45300.0</td>\n",
       "      <td>35</td>\n",
       "      <td>242</td>\n",
       "      <td>1.844013</td>\n",
       "      <td>4.961113</td>\n",
       "    </tr>\n",
       "    <tr>\n",
       "      <th>4</th>\n",
       "      <td>19100.0</td>\n",
       "      <td>155</td>\n",
       "      <td>636</td>\n",
       "      <td>1.947947</td>\n",
       "      <td>4.822687</td>\n",
       "    </tr>\n",
       "    <tr>\n",
       "      <th>5</th>\n",
       "      <td>17820.0</td>\n",
       "      <td>35</td>\n",
       "      <td>187</td>\n",
       "      <td>1.914641</td>\n",
       "      <td>4.325588</td>\n",
       "    </tr>\n",
       "    <tr>\n",
       "      <th>6</th>\n",
       "      <td>38300.0</td>\n",
       "      <td>27</td>\n",
       "      <td>174</td>\n",
       "      <td>1.734351</td>\n",
       "      <td>4.281115</td>\n",
       "    </tr>\n",
       "    <tr>\n",
       "      <th>8</th>\n",
       "      <td>16980.0</td>\n",
       "      <td>120</td>\n",
       "      <td>432</td>\n",
       "      <td>1.786656</td>\n",
       "      <td>4.032228</td>\n",
       "    </tr>\n",
       "    <tr>\n",
       "      <th>9</th>\n",
       "      <td>19820.0</td>\n",
       "      <td>48</td>\n",
       "      <td>197</td>\n",
       "      <td>1.977798</td>\n",
       "      <td>4.029019</td>\n",
       "    </tr>\n",
       "    <tr>\n",
       "      <th>10</th>\n",
       "      <td>28140.0</td>\n",
       "      <td>9</td>\n",
       "      <td>79</td>\n",
       "      <td>2.073653</td>\n",
       "      <td>4.010206</td>\n",
       "    </tr>\n",
       "    <tr>\n",
       "      <th>11</th>\n",
       "      <td>26900.0</td>\n",
       "      <td>11</td>\n",
       "      <td>89</td>\n",
       "      <td>1.854895</td>\n",
       "      <td>3.867925</td>\n",
       "    </tr>\n",
       "  </tbody>\n",
       "</table>\n",
       "</div>"
      ],
      "text/plain": [
       "       CBSA  jobs  resumes  affortability  poseidon_score\n",
       "0   41700.0    29      291       2.199351        6.487989\n",
       "1   33100.0    36      275       1.602249        4.977234\n",
       "2   45300.0    35      242       1.844013        4.961113\n",
       "4   19100.0   155      636       1.947947        4.822687\n",
       "5   17820.0    35      187       1.914641        4.325588\n",
       "6   38300.0    27      174       1.734351        4.281115\n",
       "8   16980.0   120      432       1.786656        4.032228\n",
       "9   19820.0    48      197       1.977798        4.029019\n",
       "10  28140.0     9       79       2.073653        4.010206\n",
       "11  26900.0    11       89       1.854895        3.867925"
      ]
     },
     "execution_count": 52,
     "metadata": {},
     "output_type": "execute_result"
    }
   ],
   "source": [
    "df_poseidon[:10][poseidon_cols]"
   ]
  },
  {
   "cell_type": "code",
   "execution_count": 53,
   "metadata": {
    "ExecuteTime": {
     "end_time": "2018-04-24T02:17:26.615808Z",
     "start_time": "2018-04-24T02:17:26.560979Z"
    },
    "run_control": {
     "frozen": false,
     "read_only": false
    }
   },
   "outputs": [
    {
     "data": {
      "text/html": [
       "<div>\n",
       "<style scoped>\n",
       "    .dataframe tbody tr th:only-of-type {\n",
       "        vertical-align: middle;\n",
       "    }\n",
       "\n",
       "    .dataframe tbody tr th {\n",
       "        vertical-align: top;\n",
       "    }\n",
       "\n",
       "    .dataframe thead th {\n",
       "        text-align: right;\n",
       "    }\n",
       "</style>\n",
       "<table border=\"1\" class=\"dataframe\">\n",
       "  <thead>\n",
       "    <tr style=\"text-align: right;\">\n",
       "      <th></th>\n",
       "      <th>CBSA</th>\n",
       "      <th>jobs</th>\n",
       "      <th>resumes</th>\n",
       "      <th>affortability</th>\n",
       "      <th>poseidon_score</th>\n",
       "    </tr>\n",
       "  </thead>\n",
       "  <tbody>\n",
       "    <tr>\n",
       "      <th>87</th>\n",
       "      <td>17140.0</td>\n",
       "      <td>45</td>\n",
       "      <td>33</td>\n",
       "      <td>2.070905</td>\n",
       "      <td>2.166226</td>\n",
       "    </tr>\n",
       "    <tr>\n",
       "      <th>89</th>\n",
       "      <td>26420.0</td>\n",
       "      <td>249</td>\n",
       "      <td>342</td>\n",
       "      <td>1.623174</td>\n",
       "      <td>1.925491</td>\n",
       "    </tr>\n",
       "    <tr>\n",
       "      <th>90</th>\n",
       "      <td>26620.0</td>\n",
       "      <td>106</td>\n",
       "      <td>81</td>\n",
       "      <td>2.259959</td>\n",
       "      <td>1.887136</td>\n",
       "    </tr>\n",
       "    <tr>\n",
       "      <th>91</th>\n",
       "      <td>45060.0</td>\n",
       "      <td>80</td>\n",
       "      <td>56</td>\n",
       "      <td>1.963573</td>\n",
       "      <td>1.830731</td>\n",
       "    </tr>\n",
       "    <tr>\n",
       "      <th>92</th>\n",
       "      <td>18140.0</td>\n",
       "      <td>127</td>\n",
       "      <td>118</td>\n",
       "      <td>1.953683</td>\n",
       "      <td>1.830356</td>\n",
       "    </tr>\n",
       "    <tr>\n",
       "      <th>93</th>\n",
       "      <td>19380.0</td>\n",
       "      <td>113</td>\n",
       "      <td>61</td>\n",
       "      <td>2.248532</td>\n",
       "      <td>1.645573</td>\n",
       "    </tr>\n",
       "    <tr>\n",
       "      <th>94</th>\n",
       "      <td>41940.0</td>\n",
       "      <td>193</td>\n",
       "      <td>207</td>\n",
       "      <td>1.201934</td>\n",
       "      <td>1.446402</td>\n",
       "    </tr>\n",
       "    <tr>\n",
       "      <th>95</th>\n",
       "      <td>41860.0</td>\n",
       "      <td>251</td>\n",
       "      <td>276</td>\n",
       "      <td>1.244465</td>\n",
       "      <td>1.445579</td>\n",
       "    </tr>\n",
       "    <tr>\n",
       "      <th>96</th>\n",
       "      <td>14460.0</td>\n",
       "      <td>427</td>\n",
       "      <td>324</td>\n",
       "      <td>1.413643</td>\n",
       "      <td>1.109330</td>\n",
       "    </tr>\n",
       "    <tr>\n",
       "      <th>97</th>\n",
       "      <td>42660.0</td>\n",
       "      <td>460</td>\n",
       "      <td>156</td>\n",
       "      <td>1.556154</td>\n",
       "      <td>0.695397</td>\n",
       "    </tr>\n",
       "  </tbody>\n",
       "</table>\n",
       "</div>"
      ],
      "text/plain": [
       "       CBSA  jobs  resumes  affortability  poseidon_score\n",
       "87  17140.0    45       33       2.070905        2.166226\n",
       "89  26420.0   249      342       1.623174        1.925491\n",
       "90  26620.0   106       81       2.259959        1.887136\n",
       "91  45060.0    80       56       1.963573        1.830731\n",
       "92  18140.0   127      118       1.953683        1.830356\n",
       "93  19380.0   113       61       2.248532        1.645573\n",
       "94  41940.0   193      207       1.201934        1.446402\n",
       "95  41860.0   251      276       1.244465        1.445579\n",
       "96  14460.0   427      324       1.413643        1.109330\n",
       "97  42660.0   460      156       1.556154        0.695397"
      ]
     },
     "execution_count": 53,
     "metadata": {},
     "output_type": "execute_result"
    }
   ],
   "source": [
    "df_poseidon[-10:][poseidon_cols]"
   ]
  },
  {
   "cell_type": "markdown",
   "metadata": {},
   "source": [
    "##### List of cities rated to be good for hiring"
   ]
  },
  {
   "cell_type": "code",
   "execution_count": 54,
   "metadata": {
    "ExecuteTime": {
     "end_time": "2018-04-24T02:17:26.662307Z",
     "start_time": "2018-04-24T02:17:26.617943Z"
    },
    "run_control": {
     "frozen": false,
     "read_only": false
    }
   },
   "outputs": [],
   "source": [
    "df_top_cities = pd.read_csv(os.path.join(DATA_DIR, 'top_cities.csv'))"
   ]
  },
  {
   "cell_type": "code",
   "execution_count": 55,
   "metadata": {
    "ExecuteTime": {
     "end_time": "2018-04-24T02:17:26.739039Z",
     "start_time": "2018-04-24T02:17:26.664925Z"
    },
    "run_control": {
     "frozen": false,
     "read_only": false
    }
   },
   "outputs": [
    {
     "data": {
      "text/html": [
       "<div>\n",
       "<style scoped>\n",
       "    .dataframe tbody tr th:only-of-type {\n",
       "        vertical-align: middle;\n",
       "    }\n",
       "\n",
       "    .dataframe tbody tr th {\n",
       "        vertical-align: top;\n",
       "    }\n",
       "\n",
       "    .dataframe thead th {\n",
       "        text-align: right;\n",
       "    }\n",
       "</style>\n",
       "<table border=\"1\" class=\"dataframe\">\n",
       "  <thead>\n",
       "    <tr style=\"text-align: right;\">\n",
       "      <th></th>\n",
       "      <th>CBSA</th>\n",
       "      <th>jobs</th>\n",
       "      <th>resumes</th>\n",
       "      <th>affortability</th>\n",
       "      <th>mean_jobs</th>\n",
       "      <th>mean_resumes</th>\n",
       "      <th>poseidon_score</th>\n",
       "      <th>city</th>\n",
       "      <th>County</th>\n",
       "      <th>State</th>\n",
       "      <th>state_name</th>\n",
       "    </tr>\n",
       "  </thead>\n",
       "  <tbody>\n",
       "    <tr>\n",
       "      <th>1</th>\n",
       "      <td>33100.0</td>\n",
       "      <td>36.0</td>\n",
       "      <td>275.0</td>\n",
       "      <td>1.602249</td>\n",
       "      <td>69.30303</td>\n",
       "      <td>139.060606</td>\n",
       "      <td>4.977234</td>\n",
       "      <td>Fort Lauderdale</td>\n",
       "      <td>Broward</td>\n",
       "      <td>FL</td>\n",
       "      <td>Florida</td>\n",
       "    </tr>\n",
       "    <tr>\n",
       "      <th>1</th>\n",
       "      <td>33100.0</td>\n",
       "      <td>36.0</td>\n",
       "      <td>275.0</td>\n",
       "      <td>1.602249</td>\n",
       "      <td>69.30303</td>\n",
       "      <td>139.060606</td>\n",
       "      <td>4.977234</td>\n",
       "      <td>Doral</td>\n",
       "      <td>Miami-Dade</td>\n",
       "      <td>FL</td>\n",
       "      <td>Florida</td>\n",
       "    </tr>\n",
       "    <tr>\n",
       "      <th>6</th>\n",
       "      <td>38300.0</td>\n",
       "      <td>27.0</td>\n",
       "      <td>174.0</td>\n",
       "      <td>1.734351</td>\n",
       "      <td>69.30303</td>\n",
       "      <td>139.060606</td>\n",
       "      <td>4.281115</td>\n",
       "      <td>Pittsburgh</td>\n",
       "      <td>Allegheny</td>\n",
       "      <td>PA</td>\n",
       "      <td>Pennsylvania</td>\n",
       "    </tr>\n",
       "    <tr>\n",
       "      <th>10</th>\n",
       "      <td>28140.0</td>\n",
       "      <td>9.0</td>\n",
       "      <td>79.0</td>\n",
       "      <td>2.073653</td>\n",
       "      <td>69.30303</td>\n",
       "      <td>139.060606</td>\n",
       "      <td>4.010206</td>\n",
       "      <td>Kansas City</td>\n",
       "      <td>Wyandotte</td>\n",
       "      <td>KS</td>\n",
       "      <td>Kansas</td>\n",
       "    </tr>\n",
       "    <tr>\n",
       "      <th>35</th>\n",
       "      <td>40900.0</td>\n",
       "      <td>12.0</td>\n",
       "      <td>63.0</td>\n",
       "      <td>1.712498</td>\n",
       "      <td>69.30303</td>\n",
       "      <td>139.060606</td>\n",
       "      <td>3.252295</td>\n",
       "      <td>Folsom</td>\n",
       "      <td>Sacramento</td>\n",
       "      <td>CA</td>\n",
       "      <td>California</td>\n",
       "    </tr>\n",
       "    <tr>\n",
       "      <th>38</th>\n",
       "      <td>36540.0</td>\n",
       "      <td>16.0</td>\n",
       "      <td>50.0</td>\n",
       "      <td>2.113289</td>\n",
       "      <td>69.30303</td>\n",
       "      <td>139.060606</td>\n",
       "      <td>3.221929</td>\n",
       "      <td>Omaha</td>\n",
       "      <td>Douglas</td>\n",
       "      <td>NE</td>\n",
       "      <td>Nebraska</td>\n",
       "    </tr>\n",
       "    <tr>\n",
       "      <th>71</th>\n",
       "      <td>41620.0</td>\n",
       "      <td>20.0</td>\n",
       "      <td>32.0</td>\n",
       "      <td>2.012675</td>\n",
       "      <td>69.30303</td>\n",
       "      <td>139.060606</td>\n",
       "      <td>2.717507</td>\n",
       "      <td>Salt Lake City</td>\n",
       "      <td>Salt Lake</td>\n",
       "      <td>UT</td>\n",
       "      <td>Utah</td>\n",
       "    </tr>\n",
       "    <tr>\n",
       "      <th>78</th>\n",
       "      <td>31080.0</td>\n",
       "      <td>190.0</td>\n",
       "      <td>412.0</td>\n",
       "      <td>1.557777</td>\n",
       "      <td>69.30303</td>\n",
       "      <td>139.060606</td>\n",
       "      <td>2.652433</td>\n",
       "      <td>Santa Ana</td>\n",
       "      <td>Orange</td>\n",
       "      <td>CA</td>\n",
       "      <td>California</td>\n",
       "    </tr>\n",
       "    <tr>\n",
       "      <th>91</th>\n",
       "      <td>45060.0</td>\n",
       "      <td>80.0</td>\n",
       "      <td>56.0</td>\n",
       "      <td>1.963573</td>\n",
       "      <td>69.30303</td>\n",
       "      <td>139.060606</td>\n",
       "      <td>1.830731</td>\n",
       "      <td>Canastota</td>\n",
       "      <td>Madison</td>\n",
       "      <td>NY</td>\n",
       "      <td>New York</td>\n",
       "    </tr>\n",
       "  </tbody>\n",
       "</table>\n",
       "</div>"
      ],
      "text/plain": [
       "       CBSA   jobs  resumes  affortability  mean_jobs  mean_resumes  \\\n",
       "1   33100.0   36.0    275.0       1.602249   69.30303    139.060606   \n",
       "1   33100.0   36.0    275.0       1.602249   69.30303    139.060606   \n",
       "6   38300.0   27.0    174.0       1.734351   69.30303    139.060606   \n",
       "10  28140.0    9.0     79.0       2.073653   69.30303    139.060606   \n",
       "35  40900.0   12.0     63.0       1.712498   69.30303    139.060606   \n",
       "38  36540.0   16.0     50.0       2.113289   69.30303    139.060606   \n",
       "71  41620.0   20.0     32.0       2.012675   69.30303    139.060606   \n",
       "78  31080.0  190.0    412.0       1.557777   69.30303    139.060606   \n",
       "91  45060.0   80.0     56.0       1.963573   69.30303    139.060606   \n",
       "\n",
       "    poseidon_score             city      County State    state_name  \n",
       "1         4.977234  Fort Lauderdale     Broward    FL       Florida  \n",
       "1         4.977234            Doral  Miami-Dade    FL       Florida  \n",
       "6         4.281115       Pittsburgh   Allegheny    PA  Pennsylvania  \n",
       "10        4.010206      Kansas City   Wyandotte    KS        Kansas  \n",
       "35        3.252295           Folsom  Sacramento    CA    California  \n",
       "38        3.221929            Omaha     Douglas    NE      Nebraska  \n",
       "71        2.717507   Salt Lake City   Salt Lake    UT          Utah  \n",
       "78        2.652433        Santa Ana      Orange    CA    California  \n",
       "91        1.830731        Canastota     Madison    NY      New York  "
      ]
     },
     "execution_count": 55,
     "metadata": {},
     "output_type": "execute_result"
    }
   ],
   "source": [
    "df_poseidon.join(\n",
    "    df_top_cities.set_index('CBSA'), on='CBSA', how='right').sort_values(by='poseidon_score', ascending=False).dropna()"
   ]
  },
  {
   "cell_type": "markdown",
   "metadata": {
    "ExecuteTime": {
     "end_time": "2018-04-22T05:44:00.749180Z",
     "start_time": "2018-04-22T05:44:00.709522Z"
    }
   },
   "source": [
    "#### Poseidon score of Bay Area"
   ]
  },
  {
   "cell_type": "code",
   "execution_count": 56,
   "metadata": {
    "ExecuteTime": {
     "end_time": "2018-04-24T02:17:26.781649Z",
     "start_time": "2018-04-24T02:17:26.741754Z"
    },
    "run_control": {
     "frozen": false,
     "read_only": false
    }
   },
   "outputs": [],
   "source": [
    "SF_CBSA = ['10500','10580','10540','41860','34980','41940','41180','26900','18140','35620','24860','38300','25540']"
   ]
  },
  {
   "cell_type": "code",
   "execution_count": 57,
   "metadata": {
    "ExecuteTime": {
     "end_time": "2018-04-24T02:17:26.821761Z",
     "start_time": "2018-04-24T02:17:26.783966Z"
    },
    "run_control": {
     "frozen": false,
     "read_only": false
    }
   },
   "outputs": [],
   "source": [
    "df_sf = df_poseidon[df_poseidon['CBSA'].isin(SF_CBSA)]"
   ]
  },
  {
   "cell_type": "code",
   "execution_count": 58,
   "metadata": {
    "ExecuteTime": {
     "end_time": "2018-04-24T02:17:26.920216Z",
     "start_time": "2018-04-24T02:17:26.823895Z"
    },
    "run_control": {
     "frozen": false,
     "read_only": false
    }
   },
   "outputs": [],
   "source": [
    "df_sf['affortability'] = df_sf['affortability'].mean() / len(df_sf['affortability'])"
   ]
  },
  {
   "cell_type": "code",
   "execution_count": 59,
   "metadata": {
    "ExecuteTime": {
     "end_time": "2018-04-24T02:17:26.965664Z",
     "start_time": "2018-04-24T02:17:26.923170Z"
    },
    "run_control": {
     "frozen": false,
     "read_only": false
    }
   },
   "outputs": [
    {
     "name": "stdout",
     "output_type": "stream",
     "text": [
      "Poseidon score of SF: 2.51\n"
     ]
    }
   ],
   "source": [
    "print('Poseidon score of SF: {:.2f}'.format(calc_poseidon_score(df_sf.sum())))"
   ]
  },
  {
   "cell_type": "markdown",
   "metadata": {},
   "source": [
    "Which is in the bottom quarter!!! "
   ]
  },
  {
   "cell_type": "markdown",
   "metadata": {},
   "source": [
    "### Map Poseidon score "
   ]
  },
  {
   "cell_type": "code",
   "execution_count": 60,
   "metadata": {
    "ExecuteTime": {
     "end_time": "2018-04-24T02:17:27.048617Z",
     "start_time": "2018-04-24T02:17:26.967777Z"
    },
    "run_control": {
     "frozen": false,
     "read_only": false
    }
   },
   "outputs": [],
   "source": [
    "df_poseidon_map = (\n",
    "    df_poseidon[poseidon_cols].join(\n",
    "        df_areas.set_index('CBSA'), on='CBSA', how='outer')\n",
    "    .dropna())"
   ]
  },
  {
   "cell_type": "code",
   "execution_count": 61,
   "metadata": {
    "ExecuteTime": {
     "end_time": "2018-04-24T02:17:27.090176Z",
     "start_time": "2018-04-24T02:17:27.050624Z"
    },
    "run_control": {
     "frozen": false,
     "read_only": false
    }
   },
   "outputs": [
    {
     "data": {
      "text/plain": [
       "8168"
      ]
     },
     "execution_count": 61,
     "metadata": {},
     "output_type": "execute_result"
    }
   ],
   "source": [
    "len(df_poseidon_map)"
   ]
  },
  {
   "cell_type": "code",
   "execution_count": 62,
   "metadata": {
    "ExecuteTime": {
     "end_time": "2018-04-24T02:17:27.135694Z",
     "start_time": "2018-04-24T02:17:27.093920Z"
    },
    "run_control": {
     "frozen": false,
     "read_only": false
    }
   },
   "outputs": [
    {
     "data": {
      "text/plain": [
       "[25.441800000000001, 48.283700000000003]"
      ]
     },
     "execution_count": 62,
     "metadata": {},
     "output_type": "execute_result"
    }
   ],
   "source": [
    "[df_poseidon_map['lat'].min(), df_poseidon_map['lat'].max()]"
   ]
  },
  {
   "cell_type": "code",
   "execution_count": 63,
   "metadata": {
    "ExecuteTime": {
     "end_time": "2018-04-24T02:17:27.203008Z",
     "start_time": "2018-04-24T02:17:27.138076Z"
    },
    "run_control": {
     "frozen": false,
     "read_only": false
    }
   },
   "outputs": [
    {
     "data": {
      "text/html": [
       "<div>\n",
       "<style scoped>\n",
       "    .dataframe tbody tr th:only-of-type {\n",
       "        vertical-align: middle;\n",
       "    }\n",
       "\n",
       "    .dataframe tbody tr th {\n",
       "        vertical-align: top;\n",
       "    }\n",
       "\n",
       "    .dataframe thead th {\n",
       "        text-align: right;\n",
       "    }\n",
       "</style>\n",
       "<table border=\"1\" class=\"dataframe\">\n",
       "  <thead>\n",
       "    <tr style=\"text-align: right;\">\n",
       "      <th></th>\n",
       "      <th>CBSA</th>\n",
       "      <th>jobs</th>\n",
       "      <th>resumes</th>\n",
       "      <th>affortability</th>\n",
       "      <th>poseidon_score</th>\n",
       "      <th>NAME</th>\n",
       "      <th>STCOU</th>\n",
       "      <th>county</th>\n",
       "      <th>state_id</th>\n",
       "      <th>city</th>\n",
       "      <th>population_proper</th>\n",
       "      <th>lat</th>\n",
       "      <th>lng</th>\n",
       "    </tr>\n",
       "  </thead>\n",
       "  <tbody>\n",
       "    <tr>\n",
       "      <th>0</th>\n",
       "      <td>41700.0</td>\n",
       "      <td>29.0</td>\n",
       "      <td>291.0</td>\n",
       "      <td>2.199351</td>\n",
       "      <td>6.487989</td>\n",
       "      <td>Atascosa County, TX</td>\n",
       "      <td>48013.0</td>\n",
       "      <td>Atascosa</td>\n",
       "      <td>TX</td>\n",
       "      <td>Christine</td>\n",
       "      <td>416.0</td>\n",
       "      <td>28.7863</td>\n",
       "      <td>-98.4977</td>\n",
       "    </tr>\n",
       "    <tr>\n",
       "      <th>0</th>\n",
       "      <td>41700.0</td>\n",
       "      <td>29.0</td>\n",
       "      <td>291.0</td>\n",
       "      <td>2.199351</td>\n",
       "      <td>6.487989</td>\n",
       "      <td>Atascosa County, TX</td>\n",
       "      <td>48013.0</td>\n",
       "      <td>Atascosa</td>\n",
       "      <td>TX</td>\n",
       "      <td>Jourdanton</td>\n",
       "      <td>4327.0</td>\n",
       "      <td>28.9139</td>\n",
       "      <td>-98.5410</td>\n",
       "    </tr>\n",
       "    <tr>\n",
       "      <th>0</th>\n",
       "      <td>41700.0</td>\n",
       "      <td>29.0</td>\n",
       "      <td>291.0</td>\n",
       "      <td>2.199351</td>\n",
       "      <td>6.487989</td>\n",
       "      <td>Atascosa County, TX</td>\n",
       "      <td>48013.0</td>\n",
       "      <td>Atascosa</td>\n",
       "      <td>TX</td>\n",
       "      <td>Campbellton</td>\n",
       "      <td>0.0</td>\n",
       "      <td>28.7475</td>\n",
       "      <td>-98.3025</td>\n",
       "    </tr>\n",
       "    <tr>\n",
       "      <th>0</th>\n",
       "      <td>41700.0</td>\n",
       "      <td>29.0</td>\n",
       "      <td>291.0</td>\n",
       "      <td>2.199351</td>\n",
       "      <td>6.487989</td>\n",
       "      <td>Atascosa County, TX</td>\n",
       "      <td>48013.0</td>\n",
       "      <td>Atascosa</td>\n",
       "      <td>TX</td>\n",
       "      <td>Leming</td>\n",
       "      <td>0.0</td>\n",
       "      <td>29.0684</td>\n",
       "      <td>-98.4722</td>\n",
       "    </tr>\n",
       "    <tr>\n",
       "      <th>0</th>\n",
       "      <td>41700.0</td>\n",
       "      <td>29.0</td>\n",
       "      <td>291.0</td>\n",
       "      <td>2.199351</td>\n",
       "      <td>6.487989</td>\n",
       "      <td>Atascosa County, TX</td>\n",
       "      <td>48013.0</td>\n",
       "      <td>Atascosa</td>\n",
       "      <td>TX</td>\n",
       "      <td>Pleasanton</td>\n",
       "      <td>10393.0</td>\n",
       "      <td>28.9636</td>\n",
       "      <td>-98.4940</td>\n",
       "    </tr>\n",
       "  </tbody>\n",
       "</table>\n",
       "</div>"
      ],
      "text/plain": [
       "      CBSA  jobs  resumes  affortability  poseidon_score                 NAME  \\\n",
       "0  41700.0  29.0    291.0       2.199351        6.487989  Atascosa County, TX   \n",
       "0  41700.0  29.0    291.0       2.199351        6.487989  Atascosa County, TX   \n",
       "0  41700.0  29.0    291.0       2.199351        6.487989  Atascosa County, TX   \n",
       "0  41700.0  29.0    291.0       2.199351        6.487989  Atascosa County, TX   \n",
       "0  41700.0  29.0    291.0       2.199351        6.487989  Atascosa County, TX   \n",
       "\n",
       "     STCOU    county state_id         city  population_proper      lat  \\\n",
       "0  48013.0  Atascosa       TX    Christine              416.0  28.7863   \n",
       "0  48013.0  Atascosa       TX   Jourdanton             4327.0  28.9139   \n",
       "0  48013.0  Atascosa       TX  Campbellton                0.0  28.7475   \n",
       "0  48013.0  Atascosa       TX       Leming                0.0  29.0684   \n",
       "0  48013.0  Atascosa       TX   Pleasanton            10393.0  28.9636   \n",
       "\n",
       "       lng  \n",
       "0 -98.4977  \n",
       "0 -98.5410  \n",
       "0 -98.3025  \n",
       "0 -98.4722  \n",
       "0 -98.4940  "
      ]
     },
     "execution_count": 63,
     "metadata": {},
     "output_type": "execute_result"
    }
   ],
   "source": [
    "df_poseidon_map.head()"
   ]
  },
  {
   "cell_type": "code",
   "execution_count": 108,
   "metadata": {
    "ExecuteTime": {
     "end_time": "2018-04-24T02:57:56.907535Z",
     "start_time": "2018-04-24T02:57:54.550662Z"
    },
    "run_control": {
     "frozen": false,
     "read_only": false
    }
   },
   "outputs": [
    {
     "name": "stderr",
     "output_type": "stream",
     "text": [
      "W-1005 (SNAPPED_TOOLBAR_ANNOTATIONS): Snapped toolbars and annotations on the same side MAY overlap visually: GMapPlot(id='443ba221-9349-4210-9504-d741dd1e6b4a', ...)\n",
      "W-1005 (SNAPPED_TOOLBAR_ANNOTATIONS): Snapped toolbars and annotations on the same side MAY overlap visually: GMapPlot(id='94b563ae-920e-4a61-aa55-99f346a8933e', ...)\n",
      "E-1001 (BAD_COLUMN_NAME): Glyph refers to nonexistent column name: queries: cyber+securityr>Job levels: [entry_level mid_level senior_level]r>Experience levels: [exp_12_24 exp_25_60 exp_61_120 exp_121+]r>Degrees: [bachelor doctor master]r>Minimum jobs: 5r>Minimum resumes: 25r>, x, y [renderer: GlyphRenderer(id='ef36793e-695d-4e7a-8366-ab4bc90fffd6', ...)]\n",
      "W-1005 (SNAPPED_TOOLBAR_ANNOTATIONS): Snapped toolbars and annotations on the same side MAY overlap visually: GMapPlot(id='e415b796-703d-4175-82da-5b992ac84734', ...)\n",
      "E-1001 (BAD_COLUMN_NAME): Glyph refers to nonexistent column name: queries: cyber+securityr>Job levels: [entry_level mid_level senior_level]r>Experience levels: [exp_12_24 exp_25_60 exp_61_120 exp_121+]r>Degrees: [bachelor doctor master]r>Minimum jobs: 5r>Minimum resumes: 25r> [renderer: GlyphRenderer(id='f5e95511-d1de-4548-823c-8d3e7a8761a0', ...)]\n",
      "W-1005 (SNAPPED_TOOLBAR_ANNOTATIONS): Snapped toolbars and annotations on the same side MAY overlap visually: GMapPlot(id='74e707d3-e21a-4101-bc34-43335121c66d', ...)\n",
      "E-1001 (BAD_COLUMN_NAME): Glyph refers to nonexistent column name: Queries: cyber+security\n",
      "Job levels: [entry_level, mid_level, senior_level]\n",
      "Experience levels: [exp_12_24, exp_25_60, exp_61_120, exp_121+]\n",
      "Degrees: [bachelor, doctor, master]\n",
      "Minimum jobs: 5\n",
      "Minimum resumes: 25\n",
      " [renderer: GlyphRenderer(id='45b5ec42-7ed0-4106-9d8c-1a143cdc932e', ...)]\n",
      "W-1005 (SNAPPED_TOOLBAR_ANNOTATIONS): Snapped toolbars and annotations on the same side MAY overlap visually: GMapPlot(id='4bdae86a-beb6-4a14-909b-672d7d74da56', ...)\n",
      "E-1001 (BAD_COLUMN_NAME): Glyph refers to nonexistent column name: Queries: cyber+security\n",
      "Job levels: [entry_level, mid_level, senior_level]\n",
      "Experience levels: [exp_12_24, exp_25_60, exp_61_120, exp_121+]\n",
      "Degrees: [bachelor, doctor, master]\n",
      "Minimum jobs: 5\n",
      "Minimum resumes: 25\n",
      " [renderer: GlyphRenderer(id='76144f67-ebf9-4c95-b6f4-9344184c7b6f', ...)]\n",
      "W-1005 (SNAPPED_TOOLBAR_ANNOTATIONS): Snapped toolbars and annotations on the same side MAY overlap visually: GMapPlot(id='c8205582-f6a4-48a2-ae86-b074fd4f6640', ...)\n",
      "W-1005 (SNAPPED_TOOLBAR_ANNOTATIONS): Snapped toolbars and annotations on the same side MAY overlap visually: GMapPlot(id='20841dbd-eaaf-4838-b1c4-ba5ef8679f90', ...)\n",
      "W-1005 (SNAPPED_TOOLBAR_ANNOTATIONS): Snapped toolbars and annotations on the same side MAY overlap visually: GMapPlot(id='8a8276dd-e9fc-4bf9-b758-21b8bf2614a5', ...)\n",
      "W-1005 (SNAPPED_TOOLBAR_ANNOTATIONS): Snapped toolbars and annotations on the same side MAY overlap visually: GMapPlot(id='71ae6012-ff9d-4040-b29e-5d8e2eab1809', ...)\n",
      "W-1005 (SNAPPED_TOOLBAR_ANNOTATIONS): Snapped toolbars and annotations on the same side MAY overlap visually: GMapPlot(id='43282668-122e-4541-bdde-32af82a50b46', ...)\n",
      "W-1005 (SNAPPED_TOOLBAR_ANNOTATIONS): Snapped toolbars and annotations on the same side MAY overlap visually: GMapPlot(id='ea5e8eed-e239-482d-b542-bfbaa8246659', ...)\n",
      "W-1005 (SNAPPED_TOOLBAR_ANNOTATIONS): Snapped toolbars and annotations on the same side MAY overlap visually: GMapPlot(id='983422de-d667-4951-963a-471ce2972575', ...)\n",
      "W-1005 (SNAPPED_TOOLBAR_ANNOTATIONS): Snapped toolbars and annotations on the same side MAY overlap visually: GMapPlot(id='3e60b864-d2c4-48f2-b40b-e3e117602a7e', ...)\n",
      "W-1005 (SNAPPED_TOOLBAR_ANNOTATIONS): Snapped toolbars and annotations on the same side MAY overlap visually: GMapPlot(id='3b212bf9-3017-4dc1-9c89-186f5c6b5b95', ...)\n",
      "W-1005 (SNAPPED_TOOLBAR_ANNOTATIONS): Snapped toolbars and annotations on the same side MAY overlap visually: GMapPlot(id='786336ef-b5d8-46b2-bd5c-5e1a686bb66e', ...)\n",
      "W-1005 (SNAPPED_TOOLBAR_ANNOTATIONS): Snapped toolbars and annotations on the same side MAY overlap visually: GMapPlot(id='ff11ef27-33e8-4df5-aaf1-945039b8e79b', ...)\n",
      "W-1005 (SNAPPED_TOOLBAR_ANNOTATIONS): Snapped toolbars and annotations on the same side MAY overlap visually: GMapPlot(id='992f5722-9222-4d80-bd13-e538d8a09911', ...)\n",
      "W-1005 (SNAPPED_TOOLBAR_ANNOTATIONS): Snapped toolbars and annotations on the same side MAY overlap visually: GMapPlot(id='c6ab5489-b2c7-4612-a2a3-10804d29bae9', ...)\n",
      "W-1005 (SNAPPED_TOOLBAR_ANNOTATIONS): Snapped toolbars and annotations on the same side MAY overlap visually: GMapPlot(id='0e7fe93a-5ed4-49fc-888f-ad7f18166a7e', ...)\n",
      "W-1005 (SNAPPED_TOOLBAR_ANNOTATIONS): Snapped toolbars and annotations on the same side MAY overlap visually: GMapPlot(id='86d38cd8-cf3e-4180-b0d2-ccdb1ddb1d02', ...)\n",
      "W-1005 (SNAPPED_TOOLBAR_ANNOTATIONS): Snapped toolbars and annotations on the same side MAY overlap visually: GMapPlot(id='f9038e59-9471-4495-9cf2-b7a63801635a', ...)\n"
     ]
    }
   ],
   "source": [
    "from bokeh.io import output_file, output_notebook, show\n",
    "from bokeh.models import (\n",
    "  GMapPlot, GMapOptions, ColumnDataSource, Circle, LogColorMapper, BasicTicker, ColorBar,\n",
    "    DataRange1d, PanTool, WheelZoomTool, BoxSelectTool\n",
    ")\n",
    "from bokeh.models.glyphs import Text\n",
    "from bokeh.models.annotations import Label, Title\n",
    "\n",
    "from bokeh.models.mappers import ColorMapper, LinearColorMapper\n",
    "from bokeh.palettes import Viridis5\n",
    "\n",
    "map_options = GMapOptions(lat=37.88, lng=-102.23, map_type=\"roadmap\", zoom=3)\n",
    "\n",
    "plot = GMapPlot(\n",
    "    x_range=DataRange1d(), y_range=DataRange1d(), map_options=map_options\n",
    ")\n",
    "\n",
    "Head_text = \"Poseidon Scores: \" + query\n",
    "\n",
    "filters = [\n",
    "    ('Job levels', pick_levels),\n",
    "    ('Experience levels', indeed_experience_filter),\n",
    "    ('Degrees', indeed_degree_filter),\n",
    "    ('Minimum jobs', min_jobs),\n",
    "    ('Minimum resumes', min_resumes),\n",
    "]\n",
    "        \n",
    "plot.title.text = Head_text              \n",
    "plot.title.text_font_size = '16pt'\n",
    "plot.add_layout(Label(text='', **label_opts, text_font_size='12pt'), 'above')\n",
    "    \n",
    "# For GMaps to function, Google requires you obtain and enable an API key:\n",
    "#\n",
    "#     https://developers.google.com/maps/documentation/javascript/get-api-key\n",
    "#\n",
    "# Replace the value below with your personal API key:\n",
    "plot.api_key = open('google_maps_api_key.txt').read()\n",
    "\n",
    "color_mapper = LogColorMapper(\n",
    "    palette=\"Viridis5\", low=df_poseidon_map.poseidon_score.min(), high=df_poseidon_map.poseidon_score.max())\n",
    "# color_mapper = LinearColorMapper(palette=Viridis5)\n",
    "\n",
    "source = ColumnDataSource(\n",
    "    data=dict(\n",
    "        lat=df_poseidon_map.lat.astype(str).tolist(),\n",
    "        lon=df_poseidon_map.lng.astype(str).tolist(),\n",
    "#         size=df_poseidon_map.poseidon_score.tolist(),\n",
    "        size=[5 for v in df_poseidon_map.poseidon_score.tolist()],\n",
    "        color=df_poseidon_map.poseidon_score.tolist()\n",
    "    )\n",
    ")\n",
    "\n",
    "label_opts = dict(\n",
    "    x=0, y=0,\n",
    "    x_units='screen', y_units='screen'\n",
    ")\n",
    "\n",
    "for attribute, values in filters:\n",
    "    if isinstance(values, list):\n",
    "        label_text = attribute + ': [' + ', '.join(values) + ']'\n",
    "    else:\n",
    "        label_text = attribute + ': ' + str(values)\n",
    "\n",
    "    plot.add_layout(Label(text=label_text, **label_opts, text_font_size='10pt'), 'below')\n",
    "\n",
    "circle = Circle(x=\"lon\", y=\"lat\", size=\"size\", \n",
    "                fill_color={'field': 'color', 'transform': color_mapper}, fill_alpha=0.5, line_color=None)\n",
    "plot.add_glyph(source, circle)\n",
    "\n",
    "color_bar = ColorBar(color_mapper=color_mapper, ticker=BasicTicker(),\n",
    "                     label_standoff=12, border_line_color=None, location=(0,0))\n",
    "plot.add_layout(color_bar, 'right')\n",
    "\n",
    "plot.add_tools(PanTool(), WheelZoomTool(), BoxSelectTool())\n",
    "plot.toolbar_location=\"above\"\n",
    "output_file(\"poseidon_scores_cyber_security_USA.html\")\n",
    "\n",
    "show(plot)"
   ]
  },
  {
   "cell_type": "code",
   "execution_count": null,
   "metadata": {},
   "outputs": [],
   "source": []
  }
 ],
 "metadata": {
  "hide_input": false,
  "kernelspec": {
   "display_name": "Python 3",
   "language": "python",
   "name": "python3"
  },
  "language_info": {
   "codemirror_mode": {
    "name": "ipython",
    "version": 3
   },
   "file_extension": ".py",
   "mimetype": "text/x-python",
   "name": "python",
   "nbconvert_exporter": "python",
   "pygments_lexer": "ipython3",
   "version": "3.5.1"
  },
  "nav_menu": {},
  "toc": {
   "navigate_menu": true,
   "number_sections": true,
   "sideBar": true,
   "threshold": 6,
   "toc_cell": false,
   "toc_section_display": "block",
   "toc_window_display": true
  }
 },
 "nbformat": 4,
 "nbformat_minor": 2
}
