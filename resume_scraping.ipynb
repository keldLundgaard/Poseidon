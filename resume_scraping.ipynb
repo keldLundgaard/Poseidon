{
 "cells": [
  {
   "cell_type": "code",
   "execution_count": 1,
   "metadata": {
    "ExecuteTime": {
     "end_time": "2018-04-22T05:32:20.900497Z",
     "start_time": "2018-04-22T05:32:20.166746Z"
    },
    "run_control": {
     "frozen": false,
     "read_only": false
    }
   },
   "outputs": [
    {
     "name": "stdout",
     "output_type": "stream",
     "text": [
      "Populating the interactive namespace from numpy and matplotlib\n"
     ]
    }
   ],
   "source": [
    "% pylab inline\n",
    "\n",
    "%load_ext autoreload\n",
    "%autoreload 2\n",
    "\n",
    "import requests\n",
    "import bs4\n",
    "from bs4 import BeautifulSoup\n",
    "import csv\n",
    "import pandas as pd\n",
    "from tqdm import tqdm\n",
    "import os\n",
    "import indeed_scraping\n",
    "\n",
    "DATA_DIR = os.path.join(os.getcwd(), 'data')\n",
    "try:\n",
    "    os.makedirs(DATA_DIR)\n",
    "except FileExistsError:\n",
    "    pass"
   ]
  },
  {
   "cell_type": "code",
   "execution_count": 2,
   "metadata": {
    "ExecuteTime": {
     "end_time": "2018-04-22T05:32:27.721553Z",
     "start_time": "2018-04-22T05:32:27.687229Z"
    },
    "run_control": {
     "frozen": false,
     "read_only": false
    }
   },
   "outputs": [],
   "source": [
    "query = 'cyber+security'"
   ]
  },
  {
   "cell_type": "code",
   "execution_count": 3,
   "metadata": {
    "ExecuteTime": {
     "end_time": "2018-04-22T05:32:28.664546Z",
     "start_time": "2018-04-22T05:32:28.171415Z"
    },
    "run_control": {
     "frozen": false,
     "read_only": false
    }
   },
   "outputs": [],
   "source": [
    "query_url = 'https://www.indeed.com/resumes?q=cyber+security&co=US&rb=dt%3Aba%2Cjtyp%3Aft%2Cyoe%3A12-24&start=0'\n",
    "page = requests.get(query_url)\n",
    "\n",
    "soup = BeautifulSoup(page.text, \"html.parser\")\n",
    "\n",
    "divs = soup.find_all(name=\"div\", attrs={\"class\":\"sre-content\"})"
   ]
  },
  {
   "cell_type": "code",
   "execution_count": 4,
   "metadata": {
    "ExecuteTime": {
     "end_time": "2018-04-22T05:32:28.939802Z",
     "start_time": "2018-04-22T05:32:28.892468Z"
    },
    "run_control": {
     "frozen": false,
     "read_only": false
    }
   },
   "outputs": [
    {
     "data": {
      "text/plain": [
       "50"
      ]
     },
     "execution_count": 4,
     "metadata": {},
     "output_type": "execute_result"
    }
   ],
   "source": [
    "len(divs)"
   ]
  },
  {
   "cell_type": "code",
   "execution_count": 5,
   "metadata": {
    "ExecuteTime": {
     "end_time": "2018-04-22T05:45:14.425244Z",
     "start_time": "2018-04-22T05:32:29.582841Z"
    },
    "run_control": {
     "frozen": false,
     "read_only": false
    }
   },
   "outputs": [
    {
     "name": "stdout",
     "output_type": "stream",
     "text": [
      "resumes-cyber+security-exp_25_60-diploma\n",
      "resumes-cyber+security-exp_25_60-doctor\n"
     ]
    },
    {
     "name": "stderr",
     "output_type": "stream",
     "text": [
      "  7%|▋         | 7/100 [00:13<02:59,  1.93s/it]"
     ]
    },
    {
     "name": "stdout",
     "output_type": "stream",
     "text": [
      "Resumes 205\n",
      "resumes-cyber+security-exp_25_60-master\n",
      "resumes-cyber+security-exp_25_60-bachelor\n"
     ]
    },
    {
     "name": "stderr",
     "output_type": "stream",
     "text": [
      "\n",
      "  0%|          | 0/100 [00:00<?, ?it/s]\u001b[A\n",
      "  1%|          | 1/100 [00:03<05:18,  3.22s/it]\u001b[A\n",
      "Exception in thread Thread-4:\n",
      "Traceback (most recent call last):\n",
      "  File \"/usr/local/Cellar/python3/3.5.1/Frameworks/Python.framework/Versions/3.5/lib/python3.5/threading.py\", line 914, in _bootstrap_inner\n",
      "    self.run()\n",
      "  File \"/usr/local/Cellar/python3/3.5.1/Frameworks/Python.framework/Versions/3.5/lib/python3.5/site-packages/tqdm/_tqdm.py\", line 144, in run\n",
      "    for instance in self.tqdm_cls._instances:\n",
      "  File \"/usr/local/Cellar/python3/3.5.1/Frameworks/Python.framework/Versions/3.5/lib/python3.5/_weakrefset.py\", line 60, in __iter__\n",
      "    for itemref in self.data:\n",
      "RuntimeError: Set changed size during iteration\n",
      "\n",
      " 96%|█████████▌| 96/100 [05:35<00:13,  3.50s/it]"
     ]
    },
    {
     "name": "stdout",
     "output_type": "stream",
     "text": [
      "Resumes 4,800\n",
      "resumes-cyber+security-exp_25_60-associate\n",
      "resumes-cyber+security-exp_1_11-diploma\n"
     ]
    },
    {
     "name": "stderr",
     "output_type": "stream",
     "text": [
      "\n",
      "  4%|▍         | 4/100 [00:06<02:27,  1.54s/it]"
     ]
    },
    {
     "name": "stdout",
     "output_type": "stream",
     "text": [
      "Resumes 100\n",
      "resumes-cyber+security-exp_1_11-doctor\n"
     ]
    },
    {
     "name": "stderr",
     "output_type": "stream",
     "text": [
      "\n",
      "  1%|          | 1/100 [00:00<00:39,  2.50it/s]"
     ]
    },
    {
     "name": "stdout",
     "output_type": "stream",
     "text": [
      "Resumes 5\n",
      "resumes-cyber+security-exp_1_11-master\n"
     ]
    },
    {
     "name": "stderr",
     "output_type": "stream",
     "text": [
      "\n",
      " 10%|█         | 10/100 [00:25<03:51,  2.57s/it]"
     ]
    },
    {
     "name": "stdout",
     "output_type": "stream",
     "text": [
      "Resumes 375\n",
      "resumes-cyber+security-exp_1_11-bachelor\n"
     ]
    },
    {
     "name": "stderr",
     "output_type": "stream",
     "text": [
      "\n",
      "  0%|          | 0/100 [00:00<?, ?it/s]\u001b[A\n",
      "  1%|          | 1/100 [00:03<05:02,  3.05s/it]\u001b[A\n",
      "Exception in thread Thread-7:\n",
      "Traceback (most recent call last):\n",
      "  File \"/usr/local/Cellar/python3/3.5.1/Frameworks/Python.framework/Versions/3.5/lib/python3.5/threading.py\", line 914, in _bootstrap_inner\n",
      "    self.run()\n",
      "  File \"/usr/local/Cellar/python3/3.5.1/Frameworks/Python.framework/Versions/3.5/lib/python3.5/site-packages/tqdm/_tqdm.py\", line 144, in run\n",
      "    for instance in self.tqdm_cls._instances:\n",
      "  File \"/usr/local/Cellar/python3/3.5.1/Frameworks/Python.framework/Versions/3.5/lib/python3.5/_weakrefset.py\", line 60, in __iter__\n",
      "    for itemref in self.data:\n",
      "RuntimeError: Set changed size during iteration\n",
      "\n",
      " 26%|██▌       | 26/100 [01:16<03:38,  2.95s/it]"
     ]
    },
    {
     "name": "stdout",
     "output_type": "stream",
     "text": [
      "Resumes 1,190\n",
      "resumes-cyber+security-exp_1_11-associate\n"
     ]
    },
    {
     "name": "stderr",
     "output_type": "stream",
     "text": [
      "\n",
      "  7%|▋         | 7/100 [00:15<03:22,  2.18s/it]"
     ]
    },
    {
     "name": "stdout",
     "output_type": "stream",
     "text": [
      "Resumes 225\n",
      "resumes-cyber+security-exp_121+-diploma\n",
      "resumes-cyber+security-exp_121+-doctor\n",
      "resumes-cyber+security-exp_121+-master\n",
      "resumes-cyber+security-exp_121+-bachelor\n",
      "resumes-cyber+security-exp_121+-associate\n",
      "resumes-cyber+security-exp_61_120-diploma\n",
      "resumes-cyber+security-exp_61_120-doctor\n",
      "resumes-cyber+security-exp_61_120-master\n",
      "resumes-cyber+security-exp_61_120-bachelor\n",
      "resumes-cyber+security-exp_61_120-associate\n"
     ]
    },
    {
     "name": "stderr",
     "output_type": "stream",
     "text": [
      "\n",
      "  0%|          | 0/100 [00:00<?, ?it/s]\u001b[A\n",
      "  1%|          | 1/100 [00:03<05:35,  3.39s/it]\u001b[A\n",
      "Exception in thread Thread-8:\n",
      "Traceback (most recent call last):\n",
      "  File \"/usr/local/Cellar/python3/3.5.1/Frameworks/Python.framework/Versions/3.5/lib/python3.5/threading.py\", line 914, in _bootstrap_inner\n",
      "    self.run()\n",
      "  File \"/usr/local/Cellar/python3/3.5.1/Frameworks/Python.framework/Versions/3.5/lib/python3.5/site-packages/tqdm/_tqdm.py\", line 144, in run\n",
      "    for instance in self.tqdm_cls._instances:\n",
      "  File \"/usr/local/Cellar/python3/3.5.1/Frameworks/Python.framework/Versions/3.5/lib/python3.5/_weakrefset.py\", line 60, in __iter__\n",
      "    for itemref in self.data:\n",
      "RuntimeError: Set changed size during iteration\n",
      "\n",
      " 87%|████████▋ | 87/100 [04:42<00:42,  3.25s/it]"
     ]
    },
    {
     "name": "stdout",
     "output_type": "stream",
     "text": [
      "Resumes 4,230\n",
      "resumes-cyber+security-exp_12_24-diploma\n",
      "resumes-cyber+security-exp_12_24-doctor\n",
      "resumes-cyber+security-exp_12_24-master\n",
      "resumes-cyber+security-exp_12_24-bachelor\n",
      "resumes-cyber+security-exp_12_24-associate\n"
     ]
    },
    {
     "name": "stderr",
     "output_type": "stream",
     "text": [
      "\n"
     ]
    }
   ],
   "source": [
    "df_supply_side = indeed_scraping.get_supply_side(query)"
   ]
  },
  {
   "cell_type": "code",
   "execution_count": 6,
   "metadata": {
    "ExecuteTime": {
     "end_time": "2018-04-22T05:47:52.192443Z",
     "start_time": "2018-04-22T05:47:52.151632Z"
    },
    "run_control": {
     "frozen": false,
     "read_only": false
    }
   },
   "outputs": [
    {
     "data": {
      "text/plain": [
       "43018"
      ]
     },
     "execution_count": 6,
     "metadata": {},
     "output_type": "execute_result"
    }
   ],
   "source": [
    "len(df_supply_side)"
   ]
  },
  {
   "cell_type": "code",
   "execution_count": 7,
   "metadata": {
    "ExecuteTime": {
     "end_time": "2018-04-22T05:47:52.685700Z",
     "start_time": "2018-04-22T05:47:52.626698Z"
    },
    "run_control": {
     "frozen": false,
     "read_only": false
    }
   },
   "outputs": [
    {
     "data": {
      "text/html": [
       "<div>\n",
       "<style scoped>\n",
       "    .dataframe tbody tr th:only-of-type {\n",
       "        vertical-align: middle;\n",
       "    }\n",
       "\n",
       "    .dataframe tbody tr th {\n",
       "        vertical-align: top;\n",
       "    }\n",
       "\n",
       "    .dataframe thead th {\n",
       "        text-align: right;\n",
       "    }\n",
       "</style>\n",
       "<table border=\"1\" class=\"dataframe\">\n",
       "  <thead>\n",
       "    <tr style=\"text-align: right;\">\n",
       "      <th></th>\n",
       "      <th>experience</th>\n",
       "      <th>location</th>\n",
       "      <th>company</th>\n",
       "      <th>degree</th>\n",
       "      <th>partition</th>\n",
       "    </tr>\n",
       "  </thead>\n",
       "  <tbody>\n",
       "    <tr>\n",
       "      <th>0</th>\n",
       "      <td>Computer Operator</td>\n",
       "      <td>Fuquay-Varina, NC</td>\n",
       "      <td>First Citizens Bank</td>\n",
       "      <td>Bachelor of Science</td>\n",
       "      <td>resumes-cyber+security-exp_61_120-bachelor</td>\n",
       "    </tr>\n",
       "    <tr>\n",
       "      <th>1</th>\n",
       "      <td>Senior Analyst, Information Security</td>\n",
       "      <td>Waynesville, OH</td>\n",
       "      <td>General Dynamics Information Technology</td>\n",
       "      <td>Bachelor of Science</td>\n",
       "      <td>resumes-cyber+security-exp_61_120-bachelor</td>\n",
       "    </tr>\n",
       "    <tr>\n",
       "      <th>2</th>\n",
       "      <td>Recruiting Assistant</td>\n",
       "      <td>Shreveport, LA</td>\n",
       "      <td>Teleperformance</td>\n",
       "      <td>Bachelors of Science in Computer Science</td>\n",
       "      <td>resumes-cyber+security-exp_61_120-bachelor</td>\n",
       "    </tr>\n",
       "    <tr>\n",
       "      <th>3</th>\n",
       "      <td>Network Engineer</td>\n",
       "      <td>Buford, GA</td>\n",
       "      <td>Naval Undersea Warfare Center</td>\n",
       "      <td>B.S.</td>\n",
       "      <td>resumes-cyber+security-exp_61_120-bachelor</td>\n",
       "    </tr>\n",
       "    <tr>\n",
       "      <th>4</th>\n",
       "      <td>IT Assistant</td>\n",
       "      <td>Chesterfield, MO</td>\n",
       "      <td>Sky Zone Recreational Center</td>\n",
       "      <td>Bachelors</td>\n",
       "      <td>resumes-cyber+security-exp_61_120-bachelor</td>\n",
       "    </tr>\n",
       "    <tr>\n",
       "      <th>5</th>\n",
       "      <td>Desktop Support Technician</td>\n",
       "      <td>Williamsburg, VA</td>\n",
       "      <td>CSRA, Inc</td>\n",
       "      <td>B.B.A.</td>\n",
       "      <td>resumes-cyber+security-exp_61_120-bachelor</td>\n",
       "    </tr>\n",
       "    <tr>\n",
       "      <th>6</th>\n",
       "      <td>Senior Project Management (Consultant)</td>\n",
       "      <td>Denver, CO</td>\n",
       "      <td>Access Data for CHI Healthcare</td>\n",
       "      <td>Bachelors</td>\n",
       "      <td>resumes-cyber+security-exp_61_120-bachelor</td>\n",
       "    </tr>\n",
       "    <tr>\n",
       "      <th>7</th>\n",
       "      <td>Data Section Non-Commission Officer in Charge ...</td>\n",
       "      <td>San Antonio, TX</td>\n",
       "      <td>...</td>\n",
       "      <td>NaN</td>\n",
       "      <td>resumes-cyber+security-exp_61_120-bachelor</td>\n",
       "    </tr>\n",
       "    <tr>\n",
       "      <th>8</th>\n",
       "      <td>Communications Focal Point Section Supervisor</td>\n",
       "      <td>Richlandtown, PA</td>\n",
       "      <td>Department of Defense</td>\n",
       "      <td>BS</td>\n",
       "      <td>resumes-cyber+security-exp_61_120-bachelor</td>\n",
       "    </tr>\n",
       "    <tr>\n",
       "      <th>9</th>\n",
       "      <td>IT Technician/System Administrator</td>\n",
       "      <td>Greenville, SC</td>\n",
       "      <td>Hollywood Casino &amp; Resort</td>\n",
       "      <td>NaN</td>\n",
       "      <td>resumes-cyber+security-exp_61_120-bachelor</td>\n",
       "    </tr>\n",
       "  </tbody>\n",
       "</table>\n",
       "</div>"
      ],
      "text/plain": [
       "                                          experience           location  \\\n",
       "0                                  Computer Operator  Fuquay-Varina, NC   \n",
       "1               Senior Analyst, Information Security    Waynesville, OH   \n",
       "2                               Recruiting Assistant     Shreveport, LA   \n",
       "3                                   Network Engineer         Buford, GA   \n",
       "4                                       IT Assistant   Chesterfield, MO   \n",
       "5                         Desktop Support Technician   Williamsburg, VA   \n",
       "6             Senior Project Management (Consultant)         Denver, CO   \n",
       "7  Data Section Non-Commission Officer in Charge ...    San Antonio, TX   \n",
       "8      Communications Focal Point Section Supervisor   Richlandtown, PA   \n",
       "9                 IT Technician/System Administrator     Greenville, SC   \n",
       "\n",
       "                                   company  \\\n",
       "0                      First Citizens Bank   \n",
       "1  General Dynamics Information Technology   \n",
       "2                          Teleperformance   \n",
       "3            Naval Undersea Warfare Center   \n",
       "4             Sky Zone Recreational Center   \n",
       "5                                CSRA, Inc   \n",
       "6           Access Data for CHI Healthcare   \n",
       "7                                      ...   \n",
       "8                    Department of Defense   \n",
       "9                Hollywood Casino & Resort   \n",
       "\n",
       "                                     degree  \\\n",
       "0                       Bachelor of Science   \n",
       "1                       Bachelor of Science   \n",
       "2  Bachelors of Science in Computer Science   \n",
       "3                                      B.S.   \n",
       "4                                 Bachelors   \n",
       "5                                    B.B.A.   \n",
       "6                                 Bachelors   \n",
       "7                                       NaN   \n",
       "8                                        BS   \n",
       "9                                       NaN   \n",
       "\n",
       "                                    partition  \n",
       "0  resumes-cyber+security-exp_61_120-bachelor  \n",
       "1  resumes-cyber+security-exp_61_120-bachelor  \n",
       "2  resumes-cyber+security-exp_61_120-bachelor  \n",
       "3  resumes-cyber+security-exp_61_120-bachelor  \n",
       "4  resumes-cyber+security-exp_61_120-bachelor  \n",
       "5  resumes-cyber+security-exp_61_120-bachelor  \n",
       "6  resumes-cyber+security-exp_61_120-bachelor  \n",
       "7  resumes-cyber+security-exp_61_120-bachelor  \n",
       "8  resumes-cyber+security-exp_61_120-bachelor  \n",
       "9  resumes-cyber+security-exp_61_120-bachelor  "
      ]
     },
     "execution_count": 7,
     "metadata": {},
     "output_type": "execute_result"
    }
   ],
   "source": [
    "df_supply_side.head(n=10)"
   ]
  },
  {
   "cell_type": "code",
   "execution_count": 8,
   "metadata": {
    "ExecuteTime": {
     "end_time": "2018-04-22T05:47:53.429660Z",
     "start_time": "2018-04-22T05:47:53.342282Z"
    },
    "run_control": {
     "frozen": false,
     "read_only": false
    }
   },
   "outputs": [],
   "source": [
    "cities = df_supply_side['location'].apply(lambda x: x.split(',') [0]if isinstance(x, str) else '').unique()"
   ]
  },
  {
   "cell_type": "code",
   "execution_count": 9,
   "metadata": {
    "ExecuteTime": {
     "end_time": "2018-04-22T05:47:53.896567Z",
     "start_time": "2018-04-22T05:47:53.847272Z"
    },
    "run_control": {
     "frozen": false,
     "read_only": false
    }
   },
   "outputs": [],
   "source": [
    "np.save(arr=np.array(list(set(df_supply_side['location'].dropna().values))), \n",
    "        file=os.path.join(DATA_DIR, 'cities.npy'))"
   ]
  },
  {
   "cell_type": "code",
   "execution_count": null,
   "metadata": {
    "run_control": {
     "frozen": false,
     "read_only": false
    }
   },
   "outputs": [],
   "source": []
  },
  {
   "cell_type": "code",
   "execution_count": null,
   "metadata": {
    "run_control": {
     "frozen": false,
     "read_only": false
    }
   },
   "outputs": [],
   "source": []
  },
  {
   "cell_type": "code",
   "execution_count": null,
   "metadata": {
    "run_control": {
     "frozen": false,
     "read_only": false
    }
   },
   "outputs": [],
   "source": []
  },
  {
   "cell_type": "code",
   "execution_count": null,
   "metadata": {
    "run_control": {
     "frozen": false,
     "read_only": false
    }
   },
   "outputs": [],
   "source": []
  }
 ],
 "metadata": {
  "hide_input": false,
  "kernelspec": {
   "display_name": "Python 3",
   "language": "python",
   "name": "python3"
  },
  "language_info": {
   "codemirror_mode": {
    "name": "ipython",
    "version": 3
   },
   "file_extension": ".py",
   "mimetype": "text/x-python",
   "name": "python",
   "nbconvert_exporter": "python",
   "pygments_lexer": "ipython3",
   "version": "3.5.1"
  },
  "nav_menu": {},
  "toc": {
   "navigate_menu": true,
   "number_sections": true,
   "sideBar": true,
   "threshold": 6,
   "toc_cell": false,
   "toc_section_display": "block",
   "toc_window_display": false
  }
 },
 "nbformat": 4,
 "nbformat_minor": 2
}
